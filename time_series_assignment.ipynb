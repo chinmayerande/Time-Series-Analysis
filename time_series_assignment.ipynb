{
 "cells": [
  {
   "cell_type": "markdown",
   "id": "14c6e844",
   "metadata": {
    "id": "14c6e844"
   },
   "source": [
    "### Importing the libraries"
   ]
  },
  {
   "cell_type": "code",
   "execution_count": 1,
   "id": "21c80caa",
   "metadata": {
    "id": "21c80caa"
   },
   "outputs": [],
   "source": [
    "import pandas as pd\n",
    "import numpy as np\n",
    "import matplotlib.pyplot as plt\n",
    "import seaborn as sns"
   ]
  },
  {
   "cell_type": "code",
   "execution_count": 2,
   "id": "23028db4",
   "metadata": {
    "id": "23028db4"
   },
   "outputs": [],
   "source": [
    "## Importing the dataframe\n",
    "df=pd.read_csv(\"Global+Superstore+Data.csv\")"
   ]
  },
  {
   "cell_type": "code",
   "execution_count": 3,
   "id": "a1b0d261",
   "metadata": {
    "colab": {
     "base_uri": "https://localhost:8080/",
     "height": 206
    },
    "id": "a1b0d261",
    "outputId": "b3117662-bdf4-46aa-e4b7-df875e9d98d6"
   },
   "outputs": [
    {
     "data": {
      "text/html": [
       "<div>\n",
       "<style scoped>\n",
       "    .dataframe tbody tr th:only-of-type {\n",
       "        vertical-align: middle;\n",
       "    }\n",
       "\n",
       "    .dataframe tbody tr th {\n",
       "        vertical-align: top;\n",
       "    }\n",
       "\n",
       "    .dataframe thead th {\n",
       "        text-align: right;\n",
       "    }\n",
       "</style>\n",
       "<table border=\"1\" class=\"dataframe\">\n",
       "  <thead>\n",
       "    <tr style=\"text-align: right;\">\n",
       "      <th></th>\n",
       "      <th>Order Date</th>\n",
       "      <th>Segment</th>\n",
       "      <th>Market</th>\n",
       "      <th>Sales</th>\n",
       "      <th>Profit</th>\n",
       "    </tr>\n",
       "  </thead>\n",
       "  <tbody>\n",
       "    <tr>\n",
       "      <th>0</th>\n",
       "      <td>31-07-2012</td>\n",
       "      <td>Consumer</td>\n",
       "      <td>US</td>\n",
       "      <td>2309.650</td>\n",
       "      <td>762.1845</td>\n",
       "    </tr>\n",
       "    <tr>\n",
       "      <th>1</th>\n",
       "      <td>05-02-2013</td>\n",
       "      <td>Corporate</td>\n",
       "      <td>APAC</td>\n",
       "      <td>3709.395</td>\n",
       "      <td>-288.7650</td>\n",
       "    </tr>\n",
       "    <tr>\n",
       "      <th>2</th>\n",
       "      <td>17-10-2013</td>\n",
       "      <td>Consumer</td>\n",
       "      <td>APAC</td>\n",
       "      <td>5175.171</td>\n",
       "      <td>919.9710</td>\n",
       "    </tr>\n",
       "    <tr>\n",
       "      <th>3</th>\n",
       "      <td>28-01-2013</td>\n",
       "      <td>Home Office</td>\n",
       "      <td>EU</td>\n",
       "      <td>2892.510</td>\n",
       "      <td>-96.5400</td>\n",
       "    </tr>\n",
       "    <tr>\n",
       "      <th>4</th>\n",
       "      <td>05-11-2013</td>\n",
       "      <td>Consumer</td>\n",
       "      <td>Africa</td>\n",
       "      <td>2832.960</td>\n",
       "      <td>311.5200</td>\n",
       "    </tr>\n",
       "  </tbody>\n",
       "</table>\n",
       "</div>"
      ],
      "text/plain": [
       "   Order Date      Segment  Market     Sales    Profit\n",
       "0  31-07-2012     Consumer      US  2309.650  762.1845\n",
       "1  05-02-2013    Corporate    APAC  3709.395 -288.7650\n",
       "2  17-10-2013     Consumer    APAC  5175.171  919.9710\n",
       "3  28-01-2013  Home Office      EU  2892.510  -96.5400\n",
       "4  05-11-2013     Consumer  Africa  2832.960  311.5200"
      ]
     },
     "execution_count": 3,
     "metadata": {},
     "output_type": "execute_result"
    }
   ],
   "source": [
    "df.head()"
   ]
  },
  {
   "cell_type": "code",
   "execution_count": 4,
   "id": "5603f50b",
   "metadata": {
    "colab": {
     "base_uri": "https://localhost:8080/"
    },
    "id": "5603f50b",
    "outputId": "cc939cf0-6519-4e98-ac94-3c7d0bba9c99"
   },
   "outputs": [
    {
     "name": "stdout",
     "output_type": "stream",
     "text": [
      "<class 'pandas.core.frame.DataFrame'>\n",
      "RangeIndex: 51290 entries, 0 to 51289\n",
      "Data columns (total 5 columns):\n",
      " #   Column      Non-Null Count  Dtype  \n",
      "---  ------      --------------  -----  \n",
      " 0   Order Date  51290 non-null  object \n",
      " 1   Segment     51290 non-null  object \n",
      " 2   Market      51290 non-null  object \n",
      " 3   Sales       51290 non-null  float64\n",
      " 4   Profit      51290 non-null  float64\n",
      "dtypes: float64(2), object(3)\n",
      "memory usage: 2.0+ MB\n"
     ]
    }
   ],
   "source": [
    "df.info()"
   ]
  },
  {
   "cell_type": "code",
   "execution_count": 5,
   "id": "9987b16f",
   "metadata": {
    "id": "9987b16f"
   },
   "outputs": [],
   "source": [
    "### Concatanating Market and Segment columns\n",
    "df[\"Market_segment\"]=df.Market+\"-\"+df.Segment"
   ]
  },
  {
   "cell_type": "code",
   "execution_count": 6,
   "id": "1b44c913",
   "metadata": {
    "id": "1b44c913"
   },
   "outputs": [],
   "source": [
    "### Converting Order date to Year-Month format\n",
    "df[\"Order Date\"]=pd.to_datetime(df[\"Order Date\"]).dt.to_period(\"M\")"
   ]
  },
  {
   "cell_type": "code",
   "execution_count": 7,
   "id": "a05fe71f",
   "metadata": {
    "id": "a05fe71f"
   },
   "outputs": [],
   "source": [
    "### Droping the old Market and Segment Columns\n",
    "df.drop([\"Market\",\"Segment\"],axis=1,inplace=True)"
   ]
  },
  {
   "cell_type": "code",
   "execution_count": 8,
   "id": "d2929bec",
   "metadata": {
    "colab": {
     "base_uri": "https://localhost:8080/",
     "height": 424
    },
    "id": "d2929bec",
    "outputId": "b75e74eb-31be-44a2-df42-4d39eb497535"
   },
   "outputs": [
    {
     "data": {
      "text/html": [
       "<div>\n",
       "<style scoped>\n",
       "    .dataframe tbody tr th:only-of-type {\n",
       "        vertical-align: middle;\n",
       "    }\n",
       "\n",
       "    .dataframe tbody tr th {\n",
       "        vertical-align: top;\n",
       "    }\n",
       "\n",
       "    .dataframe thead th {\n",
       "        text-align: right;\n",
       "    }\n",
       "</style>\n",
       "<table border=\"1\" class=\"dataframe\">\n",
       "  <thead>\n",
       "    <tr style=\"text-align: right;\">\n",
       "      <th></th>\n",
       "      <th>Order Date</th>\n",
       "      <th>Sales</th>\n",
       "      <th>Profit</th>\n",
       "      <th>Market_segment</th>\n",
       "    </tr>\n",
       "  </thead>\n",
       "  <tbody>\n",
       "    <tr>\n",
       "      <th>0</th>\n",
       "      <td>2012-07</td>\n",
       "      <td>2309.650</td>\n",
       "      <td>762.1845</td>\n",
       "      <td>US-Consumer</td>\n",
       "    </tr>\n",
       "    <tr>\n",
       "      <th>1</th>\n",
       "      <td>2013-05</td>\n",
       "      <td>3709.395</td>\n",
       "      <td>-288.7650</td>\n",
       "      <td>APAC-Corporate</td>\n",
       "    </tr>\n",
       "    <tr>\n",
       "      <th>2</th>\n",
       "      <td>2013-10</td>\n",
       "      <td>5175.171</td>\n",
       "      <td>919.9710</td>\n",
       "      <td>APAC-Consumer</td>\n",
       "    </tr>\n",
       "    <tr>\n",
       "      <th>3</th>\n",
       "      <td>2013-01</td>\n",
       "      <td>2892.510</td>\n",
       "      <td>-96.5400</td>\n",
       "      <td>EU-Home Office</td>\n",
       "    </tr>\n",
       "    <tr>\n",
       "      <th>4</th>\n",
       "      <td>2013-05</td>\n",
       "      <td>2832.960</td>\n",
       "      <td>311.5200</td>\n",
       "      <td>Africa-Consumer</td>\n",
       "    </tr>\n",
       "    <tr>\n",
       "      <th>...</th>\n",
       "      <td>...</td>\n",
       "      <td>...</td>\n",
       "      <td>...</td>\n",
       "      <td>...</td>\n",
       "    </tr>\n",
       "    <tr>\n",
       "      <th>51285</th>\n",
       "      <td>2014-06</td>\n",
       "      <td>65.100</td>\n",
       "      <td>4.5000</td>\n",
       "      <td>APAC-Corporate</td>\n",
       "    </tr>\n",
       "    <tr>\n",
       "      <th>51286</th>\n",
       "      <td>2014-06</td>\n",
       "      <td>0.444</td>\n",
       "      <td>-1.1100</td>\n",
       "      <td>US-Consumer</td>\n",
       "    </tr>\n",
       "    <tr>\n",
       "      <th>51287</th>\n",
       "      <td>2013-02</td>\n",
       "      <td>22.920</td>\n",
       "      <td>11.2308</td>\n",
       "      <td>US-Home Office</td>\n",
       "    </tr>\n",
       "    <tr>\n",
       "      <th>51288</th>\n",
       "      <td>2012-02</td>\n",
       "      <td>13.440</td>\n",
       "      <td>2.4000</td>\n",
       "      <td>LATAM-Home Office</td>\n",
       "    </tr>\n",
       "    <tr>\n",
       "      <th>51289</th>\n",
       "      <td>2012-05</td>\n",
       "      <td>61.380</td>\n",
       "      <td>1.8000</td>\n",
       "      <td>LATAM-Consumer</td>\n",
       "    </tr>\n",
       "  </tbody>\n",
       "</table>\n",
       "<p>51290 rows × 4 columns</p>\n",
       "</div>"
      ],
      "text/plain": [
       "      Order Date     Sales    Profit     Market_segment\n",
       "0        2012-07  2309.650  762.1845        US-Consumer\n",
       "1        2013-05  3709.395 -288.7650     APAC-Corporate\n",
       "2        2013-10  5175.171  919.9710      APAC-Consumer\n",
       "3        2013-01  2892.510  -96.5400     EU-Home Office\n",
       "4        2013-05  2832.960  311.5200    Africa-Consumer\n",
       "...          ...       ...       ...                ...\n",
       "51285    2014-06    65.100    4.5000     APAC-Corporate\n",
       "51286    2014-06     0.444   -1.1100        US-Consumer\n",
       "51287    2013-02    22.920   11.2308     US-Home Office\n",
       "51288    2012-02    13.440    2.4000  LATAM-Home Office\n",
       "51289    2012-05    61.380    1.8000     LATAM-Consumer\n",
       "\n",
       "[51290 rows x 4 columns]"
      ]
     },
     "execution_count": 8,
     "metadata": {},
     "output_type": "execute_result"
    }
   ],
   "source": [
    "df"
   ]
  },
  {
   "cell_type": "code",
   "execution_count": 9,
   "id": "31e2f686",
   "metadata": {
    "colab": {
     "base_uri": "https://localhost:8080/",
     "height": 346
    },
    "id": "31e2f686",
    "outputId": "d8c96444-99cf-4e69-b9c0-45dd2fe26f99"
   },
   "outputs": [
    {
     "data": {
      "text/html": [
       "<div>\n",
       "<style scoped>\n",
       "    .dataframe tbody tr th:only-of-type {\n",
       "        vertical-align: middle;\n",
       "    }\n",
       "\n",
       "    .dataframe tbody tr th {\n",
       "        vertical-align: top;\n",
       "    }\n",
       "\n",
       "    .dataframe thead th {\n",
       "        text-align: right;\n",
       "    }\n",
       "</style>\n",
       "<table border=\"1\" class=\"dataframe\">\n",
       "  <thead>\n",
       "    <tr style=\"text-align: right;\">\n",
       "      <th>Market_segment</th>\n",
       "      <th>APAC-Consumer</th>\n",
       "      <th>APAC-Corporate</th>\n",
       "      <th>APAC-Home Office</th>\n",
       "      <th>Africa-Consumer</th>\n",
       "      <th>Africa-Corporate</th>\n",
       "      <th>Africa-Home Office</th>\n",
       "      <th>Canada-Consumer</th>\n",
       "      <th>Canada-Corporate</th>\n",
       "      <th>Canada-Home Office</th>\n",
       "      <th>EMEA-Consumer</th>\n",
       "      <th>...</th>\n",
       "      <th>EMEA-Home Office</th>\n",
       "      <th>EU-Consumer</th>\n",
       "      <th>EU-Corporate</th>\n",
       "      <th>EU-Home Office</th>\n",
       "      <th>LATAM-Consumer</th>\n",
       "      <th>LATAM-Corporate</th>\n",
       "      <th>LATAM-Home Office</th>\n",
       "      <th>US-Consumer</th>\n",
       "      <th>US-Corporate</th>\n",
       "      <th>US-Home Office</th>\n",
       "    </tr>\n",
       "    <tr>\n",
       "      <th>Order Date</th>\n",
       "      <th></th>\n",
       "      <th></th>\n",
       "      <th></th>\n",
       "      <th></th>\n",
       "      <th></th>\n",
       "      <th></th>\n",
       "      <th></th>\n",
       "      <th></th>\n",
       "      <th></th>\n",
       "      <th></th>\n",
       "      <th></th>\n",
       "      <th></th>\n",
       "      <th></th>\n",
       "      <th></th>\n",
       "      <th></th>\n",
       "      <th></th>\n",
       "      <th></th>\n",
       "      <th></th>\n",
       "      <th></th>\n",
       "      <th></th>\n",
       "      <th></th>\n",
       "    </tr>\n",
       "  </thead>\n",
       "  <tbody>\n",
       "    <tr>\n",
       "      <th>2011-01</th>\n",
       "      <td>2254.4898</td>\n",
       "      <td>-173.7264</td>\n",
       "      <td>230.2656</td>\n",
       "      <td>265.539</td>\n",
       "      <td>520.026</td>\n",
       "      <td>391.515</td>\n",
       "      <td>447.33</td>\n",
       "      <td>12.57</td>\n",
       "      <td>NaN</td>\n",
       "      <td>-2952.594</td>\n",
       "      <td>...</td>\n",
       "      <td>392.526</td>\n",
       "      <td>2259.8670</td>\n",
       "      <td>841.3875</td>\n",
       "      <td>2534.568</td>\n",
       "      <td>540.44312</td>\n",
       "      <td>1021.05924</td>\n",
       "      <td>-26.59744</td>\n",
       "      <td>2465.8368</td>\n",
       "      <td>643.3689</td>\n",
       "      <td>1233.9329</td>\n",
       "    </tr>\n",
       "    <tr>\n",
       "      <th>2011-02</th>\n",
       "      <td>4627.8531</td>\n",
       "      <td>3600.7776</td>\n",
       "      <td>617.5407</td>\n",
       "      <td>-201.888</td>\n",
       "      <td>-31.689</td>\n",
       "      <td>825.606</td>\n",
       "      <td>26.43</td>\n",
       "      <td>9.24</td>\n",
       "      <td>87.99</td>\n",
       "      <td>464.160</td>\n",
       "      <td>...</td>\n",
       "      <td>368.070</td>\n",
       "      <td>-783.9945</td>\n",
       "      <td>2234.4060</td>\n",
       "      <td>162.255</td>\n",
       "      <td>1227.86616</td>\n",
       "      <td>814.03020</td>\n",
       "      <td>-356.80440</td>\n",
       "      <td>1853.5541</td>\n",
       "      <td>421.9256</td>\n",
       "      <td>553.9467</td>\n",
       "    </tr>\n",
       "    <tr>\n",
       "      <th>2011-03</th>\n",
       "      <td>2337.8319</td>\n",
       "      <td>3634.9365</td>\n",
       "      <td>205.1052</td>\n",
       "      <td>919.074</td>\n",
       "      <td>244.437</td>\n",
       "      <td>83.430</td>\n",
       "      <td>82.47</td>\n",
       "      <td>NaN</td>\n",
       "      <td>84.03</td>\n",
       "      <td>706.380</td>\n",
       "      <td>...</td>\n",
       "      <td>-15.570</td>\n",
       "      <td>1273.7100</td>\n",
       "      <td>2206.5960</td>\n",
       "      <td>269.745</td>\n",
       "      <td>2427.39612</td>\n",
       "      <td>178.66400</td>\n",
       "      <td>769.88400</td>\n",
       "      <td>204.2007</td>\n",
       "      <td>127.4696</td>\n",
       "      <td>-268.9314</td>\n",
       "    </tr>\n",
       "    <tr>\n",
       "      <th>2011-04</th>\n",
       "      <td>633.6423</td>\n",
       "      <td>90.7521</td>\n",
       "      <td>603.8478</td>\n",
       "      <td>381.315</td>\n",
       "      <td>941.751</td>\n",
       "      <td>417.618</td>\n",
       "      <td>55.08</td>\n",
       "      <td>6.51</td>\n",
       "      <td>NaN</td>\n",
       "      <td>121.353</td>\n",
       "      <td>...</td>\n",
       "      <td>-456.510</td>\n",
       "      <td>2980.0065</td>\n",
       "      <td>981.1470</td>\n",
       "      <td>130.371</td>\n",
       "      <td>1368.82948</td>\n",
       "      <td>872.64068</td>\n",
       "      <td>-554.22952</td>\n",
       "      <td>1434.8636</td>\n",
       "      <td>494.7315</td>\n",
       "      <td>2723.4358</td>\n",
       "    </tr>\n",
       "    <tr>\n",
       "      <th>2011-05</th>\n",
       "      <td>3838.9500</td>\n",
       "      <td>1028.4489</td>\n",
       "      <td>102.0315</td>\n",
       "      <td>-39.981</td>\n",
       "      <td>490.650</td>\n",
       "      <td>39.180</td>\n",
       "      <td>0.87</td>\n",
       "      <td>NaN</td>\n",
       "      <td>NaN</td>\n",
       "      <td>172.554</td>\n",
       "      <td>...</td>\n",
       "      <td>-33.591</td>\n",
       "      <td>673.0080</td>\n",
       "      <td>1719.0600</td>\n",
       "      <td>443.310</td>\n",
       "      <td>1749.39200</td>\n",
       "      <td>134.87252</td>\n",
       "      <td>-397.95600</td>\n",
       "      <td>833.9433</td>\n",
       "      <td>2912.7976</td>\n",
       "      <td>145.7781</td>\n",
       "    </tr>\n",
       "  </tbody>\n",
       "</table>\n",
       "<p>5 rows × 21 columns</p>\n",
       "</div>"
      ],
      "text/plain": [
       "Market_segment  APAC-Consumer  APAC-Corporate  APAC-Home Office  \\\n",
       "Order Date                                                        \n",
       "2011-01             2254.4898       -173.7264          230.2656   \n",
       "2011-02             4627.8531       3600.7776          617.5407   \n",
       "2011-03             2337.8319       3634.9365          205.1052   \n",
       "2011-04              633.6423         90.7521          603.8478   \n",
       "2011-05             3838.9500       1028.4489          102.0315   \n",
       "\n",
       "Market_segment  Africa-Consumer  Africa-Corporate  Africa-Home Office  \\\n",
       "Order Date                                                              \n",
       "2011-01                 265.539           520.026             391.515   \n",
       "2011-02                -201.888           -31.689             825.606   \n",
       "2011-03                 919.074           244.437              83.430   \n",
       "2011-04                 381.315           941.751             417.618   \n",
       "2011-05                 -39.981           490.650              39.180   \n",
       "\n",
       "Market_segment  Canada-Consumer  Canada-Corporate  Canada-Home Office  \\\n",
       "Order Date                                                              \n",
       "2011-01                  447.33             12.57                 NaN   \n",
       "2011-02                   26.43              9.24               87.99   \n",
       "2011-03                   82.47               NaN               84.03   \n",
       "2011-04                   55.08              6.51                 NaN   \n",
       "2011-05                    0.87               NaN                 NaN   \n",
       "\n",
       "Market_segment  EMEA-Consumer  ...  EMEA-Home Office  EU-Consumer  \\\n",
       "Order Date                     ...                                  \n",
       "2011-01             -2952.594  ...           392.526    2259.8670   \n",
       "2011-02               464.160  ...           368.070    -783.9945   \n",
       "2011-03               706.380  ...           -15.570    1273.7100   \n",
       "2011-04               121.353  ...          -456.510    2980.0065   \n",
       "2011-05               172.554  ...           -33.591     673.0080   \n",
       "\n",
       "Market_segment  EU-Corporate  EU-Home Office  LATAM-Consumer  LATAM-Corporate  \\\n",
       "Order Date                                                                      \n",
       "2011-01             841.3875        2534.568       540.44312       1021.05924   \n",
       "2011-02            2234.4060         162.255      1227.86616        814.03020   \n",
       "2011-03            2206.5960         269.745      2427.39612        178.66400   \n",
       "2011-04             981.1470         130.371      1368.82948        872.64068   \n",
       "2011-05            1719.0600         443.310      1749.39200        134.87252   \n",
       "\n",
       "Market_segment  LATAM-Home Office  US-Consumer  US-Corporate  US-Home Office  \n",
       "Order Date                                                                    \n",
       "2011-01                 -26.59744    2465.8368      643.3689       1233.9329  \n",
       "2011-02                -356.80440    1853.5541      421.9256        553.9467  \n",
       "2011-03                 769.88400     204.2007      127.4696       -268.9314  \n",
       "2011-04                -554.22952    1434.8636      494.7315       2723.4358  \n",
       "2011-05                -397.95600     833.9433     2912.7976        145.7781  \n",
       "\n",
       "[5 rows x 21 columns]"
      ]
     },
     "execution_count": 9,
     "metadata": {},
     "output_type": "execute_result"
    }
   ],
   "source": [
    "### Aggregating profit according to each Order Month\n",
    "pivot=pd.pivot_table(data=df,values=\"Profit\",index=\"Order Date\",columns=\"Market_segment\",aggfunc=\"sum\")\n",
    "pivot.head()"
   ]
  },
  {
   "cell_type": "code",
   "execution_count": 10,
   "id": "9bce5d0b",
   "metadata": {
    "id": "9bce5d0b"
   },
   "outputs": [],
   "source": [
    "##train-test split on the aggregated data\n",
    "train=pivot.loc[\"2011-01\":\"2014-06\"]\n",
    "test=pivot.loc[\"2014-07\":]"
   ]
  },
  {
   "cell_type": "code",
   "execution_count": 11,
   "id": "a8361e0b",
   "metadata": {
    "colab": {
     "base_uri": "https://localhost:8080/",
     "height": 377
    },
    "id": "a8361e0b",
    "outputId": "328e6d01-4c5c-46a8-921c-45865e3e4420"
   },
   "outputs": [
    {
     "data": {
      "text/html": [
       "<div>\n",
       "<style scoped>\n",
       "    .dataframe tbody tr th:only-of-type {\n",
       "        vertical-align: middle;\n",
       "    }\n",
       "\n",
       "    .dataframe tbody tr th {\n",
       "        vertical-align: top;\n",
       "    }\n",
       "\n",
       "    .dataframe thead th {\n",
       "        text-align: right;\n",
       "    }\n",
       "</style>\n",
       "<table border=\"1\" class=\"dataframe\">\n",
       "  <thead>\n",
       "    <tr style=\"text-align: right;\">\n",
       "      <th>Market_segment</th>\n",
       "      <th>APAC-Consumer</th>\n",
       "      <th>APAC-Corporate</th>\n",
       "      <th>APAC-Home Office</th>\n",
       "      <th>Africa-Consumer</th>\n",
       "      <th>Africa-Corporate</th>\n",
       "      <th>Africa-Home Office</th>\n",
       "      <th>Canada-Consumer</th>\n",
       "      <th>Canada-Corporate</th>\n",
       "      <th>Canada-Home Office</th>\n",
       "      <th>EMEA-Consumer</th>\n",
       "      <th>...</th>\n",
       "      <th>EMEA-Home Office</th>\n",
       "      <th>EU-Consumer</th>\n",
       "      <th>EU-Corporate</th>\n",
       "      <th>EU-Home Office</th>\n",
       "      <th>LATAM-Consumer</th>\n",
       "      <th>LATAM-Corporate</th>\n",
       "      <th>LATAM-Home Office</th>\n",
       "      <th>US-Consumer</th>\n",
       "      <th>US-Corporate</th>\n",
       "      <th>US-Home Office</th>\n",
       "    </tr>\n",
       "    <tr>\n",
       "      <th>Order Date</th>\n",
       "      <th></th>\n",
       "      <th></th>\n",
       "      <th></th>\n",
       "      <th></th>\n",
       "      <th></th>\n",
       "      <th></th>\n",
       "      <th></th>\n",
       "      <th></th>\n",
       "      <th></th>\n",
       "      <th></th>\n",
       "      <th></th>\n",
       "      <th></th>\n",
       "      <th></th>\n",
       "      <th></th>\n",
       "      <th></th>\n",
       "      <th></th>\n",
       "      <th></th>\n",
       "      <th></th>\n",
       "      <th></th>\n",
       "      <th></th>\n",
       "      <th></th>\n",
       "    </tr>\n",
       "  </thead>\n",
       "  <tbody>\n",
       "    <tr>\n",
       "      <th>2014-07</th>\n",
       "      <td>1415.0049</td>\n",
       "      <td>3330.4251</td>\n",
       "      <td>2642.6874</td>\n",
       "      <td>472.287</td>\n",
       "      <td>389.322</td>\n",
       "      <td>795.960</td>\n",
       "      <td>NaN</td>\n",
       "      <td>65.10</td>\n",
       "      <td>10.80</td>\n",
       "      <td>463.194</td>\n",
       "      <td>...</td>\n",
       "      <td>1530.378</td>\n",
       "      <td>4224.1095</td>\n",
       "      <td>3842.6700</td>\n",
       "      <td>-1625.1780</td>\n",
       "      <td>126.17668</td>\n",
       "      <td>1333.21772</td>\n",
       "      <td>1443.44916</td>\n",
       "      <td>1171.6925</td>\n",
       "      <td>2941.9503</td>\n",
       "      <td>1587.7943</td>\n",
       "    </tr>\n",
       "    <tr>\n",
       "      <th>2014-08</th>\n",
       "      <td>4405.5609</td>\n",
       "      <td>1623.9069</td>\n",
       "      <td>1059.0081</td>\n",
       "      <td>1848.834</td>\n",
       "      <td>112.041</td>\n",
       "      <td>1717.773</td>\n",
       "      <td>617.01</td>\n",
       "      <td>58.95</td>\n",
       "      <td>110.22</td>\n",
       "      <td>1485.804</td>\n",
       "      <td>...</td>\n",
       "      <td>423.114</td>\n",
       "      <td>7316.4210</td>\n",
       "      <td>8370.2250</td>\n",
       "      <td>1471.8645</td>\n",
       "      <td>5135.04420</td>\n",
       "      <td>489.52444</td>\n",
       "      <td>1142.49640</td>\n",
       "      <td>2806.9233</td>\n",
       "      <td>3284.5880</td>\n",
       "      <td>1168.9436</td>\n",
       "    </tr>\n",
       "    <tr>\n",
       "      <th>2014-09</th>\n",
       "      <td>4342.6419</td>\n",
       "      <td>4419.9804</td>\n",
       "      <td>7389.1881</td>\n",
       "      <td>2915.433</td>\n",
       "      <td>350.439</td>\n",
       "      <td>499.089</td>\n",
       "      <td>25.20</td>\n",
       "      <td>128.04</td>\n",
       "      <td>63.48</td>\n",
       "      <td>2444.796</td>\n",
       "      <td>...</td>\n",
       "      <td>-471.552</td>\n",
       "      <td>5405.8485</td>\n",
       "      <td>4341.1080</td>\n",
       "      <td>880.9695</td>\n",
       "      <td>4382.15812</td>\n",
       "      <td>1914.78796</td>\n",
       "      <td>1428.99836</td>\n",
       "      <td>4401.4550</td>\n",
       "      <td>5156.8145</td>\n",
       "      <td>2788.8755</td>\n",
       "    </tr>\n",
       "    <tr>\n",
       "      <th>2014-10</th>\n",
       "      <td>7997.8092</td>\n",
       "      <td>4371.8221</td>\n",
       "      <td>4151.0742</td>\n",
       "      <td>745.929</td>\n",
       "      <td>2501.847</td>\n",
       "      <td>-1130.139</td>\n",
       "      <td>3.30</td>\n",
       "      <td>390.51</td>\n",
       "      <td>NaN</td>\n",
       "      <td>2005.428</td>\n",
       "      <td>...</td>\n",
       "      <td>337.764</td>\n",
       "      <td>6641.0205</td>\n",
       "      <td>4256.6745</td>\n",
       "      <td>1480.4205</td>\n",
       "      <td>4068.74672</td>\n",
       "      <td>2687.02280</td>\n",
       "      <td>2149.39528</td>\n",
       "      <td>2515.7175</td>\n",
       "      <td>2505.4306</td>\n",
       "      <td>4104.2505</td>\n",
       "    </tr>\n",
       "    <tr>\n",
       "      <th>2014-11</th>\n",
       "      <td>13773.4995</td>\n",
       "      <td>5588.2947</td>\n",
       "      <td>3526.9944</td>\n",
       "      <td>1689.360</td>\n",
       "      <td>-381.669</td>\n",
       "      <td>2001.189</td>\n",
       "      <td>236.13</td>\n",
       "      <td>104.13</td>\n",
       "      <td>86.64</td>\n",
       "      <td>432.399</td>\n",
       "      <td>...</td>\n",
       "      <td>837.063</td>\n",
       "      <td>1635.9270</td>\n",
       "      <td>5266.0665</td>\n",
       "      <td>3157.5615</td>\n",
       "      <td>4208.42260</td>\n",
       "      <td>1813.60880</td>\n",
       "      <td>1342.24256</td>\n",
       "      <td>5981.7104</td>\n",
       "      <td>2812.3922</td>\n",
       "      <td>493.4159</td>\n",
       "    </tr>\n",
       "    <tr>\n",
       "      <th>2014-12</th>\n",
       "      <td>6045.4858</td>\n",
       "      <td>2256.1737</td>\n",
       "      <td>1210.5924</td>\n",
       "      <td>-123.438</td>\n",
       "      <td>385.047</td>\n",
       "      <td>685.410</td>\n",
       "      <td>208.53</td>\n",
       "      <td>1196.40</td>\n",
       "      <td>NaN</td>\n",
       "      <td>894.621</td>\n",
       "      <td>...</td>\n",
       "      <td>-243.990</td>\n",
       "      <td>8065.3410</td>\n",
       "      <td>4232.6595</td>\n",
       "      <td>3955.2420</td>\n",
       "      <td>6299.04436</td>\n",
       "      <td>2486.67296</td>\n",
       "      <td>1255.79648</td>\n",
       "      <td>4398.5922</td>\n",
       "      <td>1601.5969</td>\n",
       "      <td>2608.6367</td>\n",
       "    </tr>\n",
       "  </tbody>\n",
       "</table>\n",
       "<p>6 rows × 21 columns</p>\n",
       "</div>"
      ],
      "text/plain": [
       "Market_segment  APAC-Consumer  APAC-Corporate  APAC-Home Office  \\\n",
       "Order Date                                                        \n",
       "2014-07             1415.0049       3330.4251         2642.6874   \n",
       "2014-08             4405.5609       1623.9069         1059.0081   \n",
       "2014-09             4342.6419       4419.9804         7389.1881   \n",
       "2014-10             7997.8092       4371.8221         4151.0742   \n",
       "2014-11            13773.4995       5588.2947         3526.9944   \n",
       "2014-12             6045.4858       2256.1737         1210.5924   \n",
       "\n",
       "Market_segment  Africa-Consumer  Africa-Corporate  Africa-Home Office  \\\n",
       "Order Date                                                              \n",
       "2014-07                 472.287           389.322             795.960   \n",
       "2014-08                1848.834           112.041            1717.773   \n",
       "2014-09                2915.433           350.439             499.089   \n",
       "2014-10                 745.929          2501.847           -1130.139   \n",
       "2014-11                1689.360          -381.669            2001.189   \n",
       "2014-12                -123.438           385.047             685.410   \n",
       "\n",
       "Market_segment  Canada-Consumer  Canada-Corporate  Canada-Home Office  \\\n",
       "Order Date                                                              \n",
       "2014-07                     NaN             65.10               10.80   \n",
       "2014-08                  617.01             58.95              110.22   \n",
       "2014-09                   25.20            128.04               63.48   \n",
       "2014-10                    3.30            390.51                 NaN   \n",
       "2014-11                  236.13            104.13               86.64   \n",
       "2014-12                  208.53           1196.40                 NaN   \n",
       "\n",
       "Market_segment  EMEA-Consumer  ...  EMEA-Home Office  EU-Consumer  \\\n",
       "Order Date                     ...                                  \n",
       "2014-07               463.194  ...          1530.378    4224.1095   \n",
       "2014-08              1485.804  ...           423.114    7316.4210   \n",
       "2014-09              2444.796  ...          -471.552    5405.8485   \n",
       "2014-10              2005.428  ...           337.764    6641.0205   \n",
       "2014-11               432.399  ...           837.063    1635.9270   \n",
       "2014-12               894.621  ...          -243.990    8065.3410   \n",
       "\n",
       "Market_segment  EU-Corporate  EU-Home Office  LATAM-Consumer  LATAM-Corporate  \\\n",
       "Order Date                                                                      \n",
       "2014-07            3842.6700      -1625.1780       126.17668       1333.21772   \n",
       "2014-08            8370.2250       1471.8645      5135.04420        489.52444   \n",
       "2014-09            4341.1080        880.9695      4382.15812       1914.78796   \n",
       "2014-10            4256.6745       1480.4205      4068.74672       2687.02280   \n",
       "2014-11            5266.0665       3157.5615      4208.42260       1813.60880   \n",
       "2014-12            4232.6595       3955.2420      6299.04436       2486.67296   \n",
       "\n",
       "Market_segment  LATAM-Home Office  US-Consumer  US-Corporate  US-Home Office  \n",
       "Order Date                                                                    \n",
       "2014-07                1443.44916    1171.6925     2941.9503       1587.7943  \n",
       "2014-08                1142.49640    2806.9233     3284.5880       1168.9436  \n",
       "2014-09                1428.99836    4401.4550     5156.8145       2788.8755  \n",
       "2014-10                2149.39528    2515.7175     2505.4306       4104.2505  \n",
       "2014-11                1342.24256    5981.7104     2812.3922        493.4159  \n",
       "2014-12                1255.79648    4398.5922     1601.5969       2608.6367  \n",
       "\n",
       "[6 rows x 21 columns]"
      ]
     },
     "execution_count": 11,
     "metadata": {},
     "output_type": "execute_result"
    }
   ],
   "source": [
    "test"
   ]
  },
  {
   "cell_type": "code",
   "execution_count": 12,
   "id": "cca5558b",
   "metadata": {
    "colab": {
     "base_uri": "https://localhost:8080/",
     "height": 708
    },
    "id": "cca5558b",
    "outputId": "c734124b-fece-4ada-92f8-a077a8462d00"
   },
   "outputs": [
    {
     "data": {
      "text/html": [
       "<div>\n",
       "<style scoped>\n",
       "    .dataframe tbody tr th:only-of-type {\n",
       "        vertical-align: middle;\n",
       "    }\n",
       "\n",
       "    .dataframe tbody tr th {\n",
       "        vertical-align: top;\n",
       "    }\n",
       "\n",
       "    .dataframe thead th {\n",
       "        text-align: right;\n",
       "    }\n",
       "</style>\n",
       "<table border=\"1\" class=\"dataframe\">\n",
       "  <thead>\n",
       "    <tr style=\"text-align: right;\">\n",
       "      <th></th>\n",
       "      <th>Market_segment</th>\n",
       "      <th>COV</th>\n",
       "    </tr>\n",
       "  </thead>\n",
       "  <tbody>\n",
       "    <tr>\n",
       "      <th>0</th>\n",
       "      <td>APAC-Consumer</td>\n",
       "      <td>0.522725</td>\n",
       "    </tr>\n",
       "    <tr>\n",
       "      <th>1</th>\n",
       "      <td>APAC-Corporate</td>\n",
       "      <td>0.530051</td>\n",
       "    </tr>\n",
       "    <tr>\n",
       "      <th>2</th>\n",
       "      <td>APAC-Home Office</td>\n",
       "      <td>1.008219</td>\n",
       "    </tr>\n",
       "    <tr>\n",
       "      <th>3</th>\n",
       "      <td>Africa-Consumer</td>\n",
       "      <td>1.310351</td>\n",
       "    </tr>\n",
       "    <tr>\n",
       "      <th>4</th>\n",
       "      <td>Africa-Corporate</td>\n",
       "      <td>1.891744</td>\n",
       "    </tr>\n",
       "    <tr>\n",
       "      <th>5</th>\n",
       "      <td>Africa-Home Office</td>\n",
       "      <td>2.012937</td>\n",
       "    </tr>\n",
       "    <tr>\n",
       "      <th>6</th>\n",
       "      <td>Canada-Consumer</td>\n",
       "      <td>1.250315</td>\n",
       "    </tr>\n",
       "    <tr>\n",
       "      <th>7</th>\n",
       "      <td>Canada-Corporate</td>\n",
       "      <td>1.786025</td>\n",
       "    </tr>\n",
       "    <tr>\n",
       "      <th>8</th>\n",
       "      <td>Canada-Home Office</td>\n",
       "      <td>2.369695</td>\n",
       "    </tr>\n",
       "    <tr>\n",
       "      <th>9</th>\n",
       "      <td>EMEA-Consumer</td>\n",
       "      <td>2.652495</td>\n",
       "    </tr>\n",
       "    <tr>\n",
       "      <th>10</th>\n",
       "      <td>EMEA-Corporate</td>\n",
       "      <td>6.355024</td>\n",
       "    </tr>\n",
       "    <tr>\n",
       "      <th>11</th>\n",
       "      <td>EMEA-Home Office</td>\n",
       "      <td>7.732073</td>\n",
       "    </tr>\n",
       "    <tr>\n",
       "      <th>12</th>\n",
       "      <td>EU-Consumer</td>\n",
       "      <td>0.595215</td>\n",
       "    </tr>\n",
       "    <tr>\n",
       "      <th>13</th>\n",
       "      <td>EU-Corporate</td>\n",
       "      <td>0.722076</td>\n",
       "    </tr>\n",
       "    <tr>\n",
       "      <th>14</th>\n",
       "      <td>EU-Home Office</td>\n",
       "      <td>0.938072</td>\n",
       "    </tr>\n",
       "    <tr>\n",
       "      <th>15</th>\n",
       "      <td>LATAM-Consumer</td>\n",
       "      <td>0.683770</td>\n",
       "    </tr>\n",
       "    <tr>\n",
       "      <th>16</th>\n",
       "      <td>LATAM-Corporate</td>\n",
       "      <td>0.882177</td>\n",
       "    </tr>\n",
       "    <tr>\n",
       "      <th>17</th>\n",
       "      <td>LATAM-Home Office</td>\n",
       "      <td>1.169693</td>\n",
       "    </tr>\n",
       "    <tr>\n",
       "      <th>18</th>\n",
       "      <td>US-Consumer</td>\n",
       "      <td>1.010530</td>\n",
       "    </tr>\n",
       "    <tr>\n",
       "      <th>19</th>\n",
       "      <td>US-Corporate</td>\n",
       "      <td>1.071829</td>\n",
       "    </tr>\n",
       "    <tr>\n",
       "      <th>20</th>\n",
       "      <td>US-Home Office</td>\n",
       "      <td>1.124030</td>\n",
       "    </tr>\n",
       "  </tbody>\n",
       "</table>\n",
       "</div>"
      ],
      "text/plain": [
       "        Market_segment       COV\n",
       "0        APAC-Consumer  0.522725\n",
       "1       APAC-Corporate  0.530051\n",
       "2     APAC-Home Office  1.008219\n",
       "3      Africa-Consumer  1.310351\n",
       "4     Africa-Corporate  1.891744\n",
       "5   Africa-Home Office  2.012937\n",
       "6      Canada-Consumer  1.250315\n",
       "7     Canada-Corporate  1.786025\n",
       "8   Canada-Home Office  2.369695\n",
       "9        EMEA-Consumer  2.652495\n",
       "10      EMEA-Corporate  6.355024\n",
       "11    EMEA-Home Office  7.732073\n",
       "12         EU-Consumer  0.595215\n",
       "13        EU-Corporate  0.722076\n",
       "14      EU-Home Office  0.938072\n",
       "15      LATAM-Consumer  0.683770\n",
       "16     LATAM-Corporate  0.882177\n",
       "17   LATAM-Home Office  1.169693\n",
       "18         US-Consumer  1.010530\n",
       "19        US-Corporate  1.071829\n",
       "20      US-Home Office  1.124030"
      ]
     },
     "execution_count": 12,
     "metadata": {},
     "output_type": "execute_result"
    }
   ],
   "source": [
    "### Finding COV values for all the Market Segments in the train table\n",
    "COV=pd.DataFrame()\n",
    "for i in train:\n",
    "    l={\"Market_segment\":i,\"COV\":np.std(train[i])/np.mean(train[i])}\n",
    "    COV=COV.append(l,ignore_index=True)\n",
    "COV"
   ]
  },
  {
   "cell_type": "code",
   "execution_count": 13,
   "id": "6a5479db",
   "metadata": {
    "colab": {
     "base_uri": "https://localhost:8080/",
     "height": 708
    },
    "id": "6a5479db",
    "outputId": "03d49882-a368-4656-c2ed-09ce21b27f2b"
   },
   "outputs": [
    {
     "data": {
      "text/html": [
       "<div>\n",
       "<style scoped>\n",
       "    .dataframe tbody tr th:only-of-type {\n",
       "        vertical-align: middle;\n",
       "    }\n",
       "\n",
       "    .dataframe tbody tr th {\n",
       "        vertical-align: top;\n",
       "    }\n",
       "\n",
       "    .dataframe thead th {\n",
       "        text-align: right;\n",
       "    }\n",
       "</style>\n",
       "<table border=\"1\" class=\"dataframe\">\n",
       "  <thead>\n",
       "    <tr style=\"text-align: right;\">\n",
       "      <th></th>\n",
       "      <th>Market_segment</th>\n",
       "      <th>COV</th>\n",
       "    </tr>\n",
       "  </thead>\n",
       "  <tbody>\n",
       "    <tr>\n",
       "      <th>0</th>\n",
       "      <td>APAC-Consumer</td>\n",
       "      <td>0.522725</td>\n",
       "    </tr>\n",
       "    <tr>\n",
       "      <th>1</th>\n",
       "      <td>APAC-Corporate</td>\n",
       "      <td>0.530051</td>\n",
       "    </tr>\n",
       "    <tr>\n",
       "      <th>12</th>\n",
       "      <td>EU-Consumer</td>\n",
       "      <td>0.595215</td>\n",
       "    </tr>\n",
       "    <tr>\n",
       "      <th>15</th>\n",
       "      <td>LATAM-Consumer</td>\n",
       "      <td>0.683770</td>\n",
       "    </tr>\n",
       "    <tr>\n",
       "      <th>13</th>\n",
       "      <td>EU-Corporate</td>\n",
       "      <td>0.722076</td>\n",
       "    </tr>\n",
       "    <tr>\n",
       "      <th>16</th>\n",
       "      <td>LATAM-Corporate</td>\n",
       "      <td>0.882177</td>\n",
       "    </tr>\n",
       "    <tr>\n",
       "      <th>14</th>\n",
       "      <td>EU-Home Office</td>\n",
       "      <td>0.938072</td>\n",
       "    </tr>\n",
       "    <tr>\n",
       "      <th>2</th>\n",
       "      <td>APAC-Home Office</td>\n",
       "      <td>1.008219</td>\n",
       "    </tr>\n",
       "    <tr>\n",
       "      <th>18</th>\n",
       "      <td>US-Consumer</td>\n",
       "      <td>1.010530</td>\n",
       "    </tr>\n",
       "    <tr>\n",
       "      <th>19</th>\n",
       "      <td>US-Corporate</td>\n",
       "      <td>1.071829</td>\n",
       "    </tr>\n",
       "    <tr>\n",
       "      <th>20</th>\n",
       "      <td>US-Home Office</td>\n",
       "      <td>1.124030</td>\n",
       "    </tr>\n",
       "    <tr>\n",
       "      <th>17</th>\n",
       "      <td>LATAM-Home Office</td>\n",
       "      <td>1.169693</td>\n",
       "    </tr>\n",
       "    <tr>\n",
       "      <th>6</th>\n",
       "      <td>Canada-Consumer</td>\n",
       "      <td>1.250315</td>\n",
       "    </tr>\n",
       "    <tr>\n",
       "      <th>3</th>\n",
       "      <td>Africa-Consumer</td>\n",
       "      <td>1.310351</td>\n",
       "    </tr>\n",
       "    <tr>\n",
       "      <th>7</th>\n",
       "      <td>Canada-Corporate</td>\n",
       "      <td>1.786025</td>\n",
       "    </tr>\n",
       "    <tr>\n",
       "      <th>4</th>\n",
       "      <td>Africa-Corporate</td>\n",
       "      <td>1.891744</td>\n",
       "    </tr>\n",
       "    <tr>\n",
       "      <th>5</th>\n",
       "      <td>Africa-Home Office</td>\n",
       "      <td>2.012937</td>\n",
       "    </tr>\n",
       "    <tr>\n",
       "      <th>8</th>\n",
       "      <td>Canada-Home Office</td>\n",
       "      <td>2.369695</td>\n",
       "    </tr>\n",
       "    <tr>\n",
       "      <th>9</th>\n",
       "      <td>EMEA-Consumer</td>\n",
       "      <td>2.652495</td>\n",
       "    </tr>\n",
       "    <tr>\n",
       "      <th>10</th>\n",
       "      <td>EMEA-Corporate</td>\n",
       "      <td>6.355024</td>\n",
       "    </tr>\n",
       "    <tr>\n",
       "      <th>11</th>\n",
       "      <td>EMEA-Home Office</td>\n",
       "      <td>7.732073</td>\n",
       "    </tr>\n",
       "  </tbody>\n",
       "</table>\n",
       "</div>"
      ],
      "text/plain": [
       "        Market_segment       COV\n",
       "0        APAC-Consumer  0.522725\n",
       "1       APAC-Corporate  0.530051\n",
       "12         EU-Consumer  0.595215\n",
       "15      LATAM-Consumer  0.683770\n",
       "13        EU-Corporate  0.722076\n",
       "16     LATAM-Corporate  0.882177\n",
       "14      EU-Home Office  0.938072\n",
       "2     APAC-Home Office  1.008219\n",
       "18         US-Consumer  1.010530\n",
       "19        US-Corporate  1.071829\n",
       "20      US-Home Office  1.124030\n",
       "17   LATAM-Home Office  1.169693\n",
       "6      Canada-Consumer  1.250315\n",
       "3      Africa-Consumer  1.310351\n",
       "7     Canada-Corporate  1.786025\n",
       "4     Africa-Corporate  1.891744\n",
       "5   Africa-Home Office  2.012937\n",
       "8   Canada-Home Office  2.369695\n",
       "9        EMEA-Consumer  2.652495\n",
       "10      EMEA-Corporate  6.355024\n",
       "11    EMEA-Home Office  7.732073"
      ]
     },
     "execution_count": 13,
     "metadata": {},
     "output_type": "execute_result"
    }
   ],
   "source": [
    "COV.sort_values(\"COV\",ascending=True)\n",
    "## APAC-Consumer is the most profitable segment with the least COV"
   ]
  },
  {
   "cell_type": "code",
   "execution_count": 14,
   "id": "bc44b5b7",
   "metadata": {
    "id": "bc44b5b7"
   },
   "outputs": [],
   "source": [
    "### Going back to the original data and dropping all the other segments"
   ]
  },
  {
   "cell_type": "code",
   "execution_count": 15,
   "id": "38ecf8a5",
   "metadata": {
    "id": "38ecf8a5"
   },
   "outputs": [],
   "source": [
    "data=df[df[\"Market_segment\"]==\"APAC-Consumer\"]"
   ]
  },
  {
   "cell_type": "code",
   "execution_count": 16,
   "id": "94fe9fdf",
   "metadata": {
    "colab": {
     "base_uri": "https://localhost:8080/",
     "height": 1000
    },
    "id": "94fe9fdf",
    "outputId": "44821ba1-b4b4-4e14-94cb-ef6562829b01"
   },
   "outputs": [
    {
     "data": {
      "text/html": [
       "<div>\n",
       "<style scoped>\n",
       "    .dataframe tbody tr th:only-of-type {\n",
       "        vertical-align: middle;\n",
       "    }\n",
       "\n",
       "    .dataframe tbody tr th {\n",
       "        vertical-align: top;\n",
       "    }\n",
       "\n",
       "    .dataframe thead th {\n",
       "        text-align: right;\n",
       "    }\n",
       "</style>\n",
       "<table border=\"1\" class=\"dataframe\">\n",
       "  <thead>\n",
       "    <tr style=\"text-align: right;\">\n",
       "      <th></th>\n",
       "      <th>Sales</th>\n",
       "      <th>Profit</th>\n",
       "    </tr>\n",
       "    <tr>\n",
       "      <th>Order Date</th>\n",
       "      <th></th>\n",
       "      <th></th>\n",
       "    </tr>\n",
       "  </thead>\n",
       "  <tbody>\n",
       "    <tr>\n",
       "      <th>2011-01</th>\n",
       "      <td>18821.9898</td>\n",
       "      <td>2254.4898</td>\n",
       "    </tr>\n",
       "    <tr>\n",
       "      <th>2011-02</th>\n",
       "      <td>23313.3531</td>\n",
       "      <td>4627.8531</td>\n",
       "    </tr>\n",
       "    <tr>\n",
       "      <th>2011-03</th>\n",
       "      <td>26518.4919</td>\n",
       "      <td>2337.8319</td>\n",
       "    </tr>\n",
       "    <tr>\n",
       "      <th>2011-04</th>\n",
       "      <td>12046.0923</td>\n",
       "      <td>633.6423</td>\n",
       "    </tr>\n",
       "    <tr>\n",
       "      <th>2011-05</th>\n",
       "      <td>25941.9000</td>\n",
       "      <td>3838.9500</td>\n",
       "    </tr>\n",
       "    <tr>\n",
       "      <th>2011-06</th>\n",
       "      <td>30398.9316</td>\n",
       "      <td>5231.0316</td>\n",
       "    </tr>\n",
       "    <tr>\n",
       "      <th>2011-07</th>\n",
       "      <td>22431.5949</td>\n",
       "      <td>1928.5449</td>\n",
       "    </tr>\n",
       "    <tr>\n",
       "      <th>2011-08</th>\n",
       "      <td>20331.0735</td>\n",
       "      <td>1101.5235</td>\n",
       "    </tr>\n",
       "    <tr>\n",
       "      <th>2011-09</th>\n",
       "      <td>24860.3949</td>\n",
       "      <td>3088.9449</td>\n",
       "    </tr>\n",
       "    <tr>\n",
       "      <th>2011-10</th>\n",
       "      <td>34787.2881</td>\n",
       "      <td>6719.4081</td>\n",
       "    </tr>\n",
       "    <tr>\n",
       "      <th>2011-11</th>\n",
       "      <td>29648.3547</td>\n",
       "      <td>262.2447</td>\n",
       "    </tr>\n",
       "    <tr>\n",
       "      <th>2011-12</th>\n",
       "      <td>30554.8614</td>\n",
       "      <td>4221.6114</td>\n",
       "    </tr>\n",
       "    <tr>\n",
       "      <th>2012-01</th>\n",
       "      <td>38369.3127</td>\n",
       "      <td>7614.5727</td>\n",
       "    </tr>\n",
       "    <tr>\n",
       "      <th>2012-02</th>\n",
       "      <td>29921.4267</td>\n",
       "      <td>3607.1367</td>\n",
       "    </tr>\n",
       "    <tr>\n",
       "      <th>2012-03</th>\n",
       "      <td>21561.5634</td>\n",
       "      <td>1009.0134</td>\n",
       "    </tr>\n",
       "    <tr>\n",
       "      <th>2012-04</th>\n",
       "      <td>23356.0467</td>\n",
       "      <td>2506.9467</td>\n",
       "    </tr>\n",
       "    <tr>\n",
       "      <th>2012-05</th>\n",
       "      <td>31586.4477</td>\n",
       "      <td>5504.9877</td>\n",
       "    </tr>\n",
       "    <tr>\n",
       "      <th>2012-06</th>\n",
       "      <td>39108.9078</td>\n",
       "      <td>4909.3578</td>\n",
       "    </tr>\n",
       "    <tr>\n",
       "      <th>2012-07</th>\n",
       "      <td>19210.6728</td>\n",
       "      <td>1282.3728</td>\n",
       "    </tr>\n",
       "    <tr>\n",
       "      <th>2012-08</th>\n",
       "      <td>34225.1154</td>\n",
       "      <td>3226.4154</td>\n",
       "    </tr>\n",
       "    <tr>\n",
       "      <th>2012-09</th>\n",
       "      <td>21521.7960</td>\n",
       "      <td>1963.3260</td>\n",
       "    </tr>\n",
       "    <tr>\n",
       "      <th>2012-10</th>\n",
       "      <td>56741.1831</td>\n",
       "      <td>7011.4731</td>\n",
       "    </tr>\n",
       "    <tr>\n",
       "      <th>2012-11</th>\n",
       "      <td>49030.2528</td>\n",
       "      <td>5223.8628</td>\n",
       "    </tr>\n",
       "    <tr>\n",
       "      <th>2012-12</th>\n",
       "      <td>40201.6080</td>\n",
       "      <td>5216.0580</td>\n",
       "    </tr>\n",
       "    <tr>\n",
       "      <th>2013-01</th>\n",
       "      <td>34777.2885</td>\n",
       "      <td>5384.2185</td>\n",
       "    </tr>\n",
       "    <tr>\n",
       "      <th>2013-02</th>\n",
       "      <td>18697.8216</td>\n",
       "      <td>2903.2716</td>\n",
       "    </tr>\n",
       "    <tr>\n",
       "      <th>2013-03</th>\n",
       "      <td>26298.6804</td>\n",
       "      <td>5495.6604</td>\n",
       "    </tr>\n",
       "    <tr>\n",
       "      <th>2013-04</th>\n",
       "      <td>28451.7387</td>\n",
       "      <td>3539.4387</td>\n",
       "    </tr>\n",
       "    <tr>\n",
       "      <th>2013-05</th>\n",
       "      <td>42147.0264</td>\n",
       "      <td>4203.5664</td>\n",
       "    </tr>\n",
       "    <tr>\n",
       "      <th>2013-06</th>\n",
       "      <td>60163.8225</td>\n",
       "      <td>7829.0625</td>\n",
       "    </tr>\n",
       "    <tr>\n",
       "      <th>2013-07</th>\n",
       "      <td>45990.8958</td>\n",
       "      <td>4513.3458</td>\n",
       "    </tr>\n",
       "    <tr>\n",
       "      <th>2013-08</th>\n",
       "      <td>40007.0493</td>\n",
       "      <td>4008.5793</td>\n",
       "    </tr>\n",
       "    <tr>\n",
       "      <th>2013-09</th>\n",
       "      <td>47835.0258</td>\n",
       "      <td>6099.0858</td>\n",
       "    </tr>\n",
       "    <tr>\n",
       "      <th>2013-10</th>\n",
       "      <td>49095.7305</td>\n",
       "      <td>6484.2105</td>\n",
       "    </tr>\n",
       "    <tr>\n",
       "      <th>2013-11</th>\n",
       "      <td>47218.6824</td>\n",
       "      <td>5593.7424</td>\n",
       "    </tr>\n",
       "    <tr>\n",
       "      <th>2013-12</th>\n",
       "      <td>63324.6315</td>\n",
       "      <td>9588.8115</td>\n",
       "    </tr>\n",
       "    <tr>\n",
       "      <th>2014-01</th>\n",
       "      <td>44475.2703</td>\n",
       "      <td>4305.6303</td>\n",
       "    </tr>\n",
       "    <tr>\n",
       "      <th>2014-02</th>\n",
       "      <td>26737.0524</td>\n",
       "      <td>1543.4124</td>\n",
       "    </tr>\n",
       "    <tr>\n",
       "      <th>2014-03</th>\n",
       "      <td>57235.1793</td>\n",
       "      <td>10385.8593</td>\n",
       "    </tr>\n",
       "    <tr>\n",
       "      <th>2014-04</th>\n",
       "      <td>39308.9121</td>\n",
       "      <td>5471.3421</td>\n",
       "    </tr>\n",
       "    <tr>\n",
       "      <th>2014-05</th>\n",
       "      <td>49247.6415</td>\n",
       "      <td>5491.9815</td>\n",
       "    </tr>\n",
       "    <tr>\n",
       "      <th>2014-06</th>\n",
       "      <td>55151.4699</td>\n",
       "      <td>6674.7399</td>\n",
       "    </tr>\n",
       "    <tr>\n",
       "      <th>2014-07</th>\n",
       "      <td>43672.0749</td>\n",
       "      <td>1415.0049</td>\n",
       "    </tr>\n",
       "    <tr>\n",
       "      <th>2014-08</th>\n",
       "      <td>48848.3409</td>\n",
       "      <td>4405.5609</td>\n",
       "    </tr>\n",
       "    <tr>\n",
       "      <th>2014-09</th>\n",
       "      <td>45424.3119</td>\n",
       "      <td>4342.6419</td>\n",
       "    </tr>\n",
       "    <tr>\n",
       "      <th>2014-10</th>\n",
       "      <td>61221.9792</td>\n",
       "      <td>7997.8092</td>\n",
       "    </tr>\n",
       "    <tr>\n",
       "      <th>2014-11</th>\n",
       "      <td>79834.4295</td>\n",
       "      <td>13773.4995</td>\n",
       "    </tr>\n",
       "    <tr>\n",
       "      <th>2014-12</th>\n",
       "      <td>57099.9858</td>\n",
       "      <td>6045.4858</td>\n",
       "    </tr>\n",
       "  </tbody>\n",
       "</table>\n",
       "</div>"
      ],
      "text/plain": [
       "                 Sales      Profit\n",
       "Order Date                        \n",
       "2011-01     18821.9898   2254.4898\n",
       "2011-02     23313.3531   4627.8531\n",
       "2011-03     26518.4919   2337.8319\n",
       "2011-04     12046.0923    633.6423\n",
       "2011-05     25941.9000   3838.9500\n",
       "2011-06     30398.9316   5231.0316\n",
       "2011-07     22431.5949   1928.5449\n",
       "2011-08     20331.0735   1101.5235\n",
       "2011-09     24860.3949   3088.9449\n",
       "2011-10     34787.2881   6719.4081\n",
       "2011-11     29648.3547    262.2447\n",
       "2011-12     30554.8614   4221.6114\n",
       "2012-01     38369.3127   7614.5727\n",
       "2012-02     29921.4267   3607.1367\n",
       "2012-03     21561.5634   1009.0134\n",
       "2012-04     23356.0467   2506.9467\n",
       "2012-05     31586.4477   5504.9877\n",
       "2012-06     39108.9078   4909.3578\n",
       "2012-07     19210.6728   1282.3728\n",
       "2012-08     34225.1154   3226.4154\n",
       "2012-09     21521.7960   1963.3260\n",
       "2012-10     56741.1831   7011.4731\n",
       "2012-11     49030.2528   5223.8628\n",
       "2012-12     40201.6080   5216.0580\n",
       "2013-01     34777.2885   5384.2185\n",
       "2013-02     18697.8216   2903.2716\n",
       "2013-03     26298.6804   5495.6604\n",
       "2013-04     28451.7387   3539.4387\n",
       "2013-05     42147.0264   4203.5664\n",
       "2013-06     60163.8225   7829.0625\n",
       "2013-07     45990.8958   4513.3458\n",
       "2013-08     40007.0493   4008.5793\n",
       "2013-09     47835.0258   6099.0858\n",
       "2013-10     49095.7305   6484.2105\n",
       "2013-11     47218.6824   5593.7424\n",
       "2013-12     63324.6315   9588.8115\n",
       "2014-01     44475.2703   4305.6303\n",
       "2014-02     26737.0524   1543.4124\n",
       "2014-03     57235.1793  10385.8593\n",
       "2014-04     39308.9121   5471.3421\n",
       "2014-05     49247.6415   5491.9815\n",
       "2014-06     55151.4699   6674.7399\n",
       "2014-07     43672.0749   1415.0049\n",
       "2014-08     48848.3409   4405.5609\n",
       "2014-09     45424.3119   4342.6419\n",
       "2014-10     61221.9792   7997.8092\n",
       "2014-11     79834.4295  13773.4995\n",
       "2014-12     57099.9858   6045.4858"
      ]
     },
     "execution_count": 16,
     "metadata": {},
     "output_type": "execute_result"
    }
   ],
   "source": [
    "## Aggregating sales based on Order month\n",
    "data=data.groupby(\"Order Date\").sum()\n",
    "data"
   ]
  },
  {
   "cell_type": "code",
   "execution_count": 17,
   "id": "d6de0829",
   "metadata": {
    "id": "d6de0829"
   },
   "outputs": [],
   "source": [
    "### Splitting the data into train and test again\n",
    "train_new = data.loc[\"2011-01\":\"2014-06\"]\n",
    "test_new=data.loc[\"2014-07\":]"
   ]
  },
  {
   "cell_type": "code",
   "execution_count": 18,
   "id": "58a7e3a7",
   "metadata": {
    "id": "58a7e3a7"
   },
   "outputs": [],
   "source": [
    "## Changing the date into time stamp again for future modelling\n",
    "train_new.index=train_new.index.to_timestamp()\n",
    "test_new.index=test_new.index.to_timestamp()"
   ]
  },
  {
   "cell_type": "code",
   "execution_count": 19,
   "id": "afd287d5",
   "metadata": {
    "colab": {
     "base_uri": "https://localhost:8080/",
     "height": 368
    },
    "id": "afd287d5",
    "outputId": "6ba55187-7b74-47b1-d8f6-48abc3a5ea03"
   },
   "outputs": [
    {
     "name": "stdout",
     "output_type": "stream",
     "text": [
      "0\n"
     ]
    },
    {
     "name": "stderr",
     "output_type": "stream",
     "text": [
      "/Users/chinmayerande/opt/anaconda3/lib/python3.9/site-packages/seaborn/_decorators.py:36: FutureWarning: Pass the following variable as a keyword arg: x. From version 0.12, the only valid positional argument will be `data`, and passing other arguments without an explicit keyword will result in an error or misinterpretation.\n",
      "  warnings.warn(\n"
     ]
    },
    {
     "data": {
      "text/plain": [
       "<AxesSubplot:xlabel='Sales'>"
      ]
     },
     "execution_count": 19,
     "metadata": {},
     "output_type": "execute_result"
    },
    {
     "data": {
      "image/png": "[encoded data removed]",
      "text/plain": [
       "<Figure size 432x288 with 1 Axes>"
      ]
     },
     "metadata": {
      "needs_background": "light"
     },
     "output_type": "display_data"
    }
   ],
   "source": [
    "print(train_new.isna().sum().sum())\n",
    "### There are no missing values in the dataset. Checking for outliers\n",
    "sns.boxplot(train_new[\"Sales\"])\n",
    "## No values outside the whiskers. No outliers found"
   ]
  },
  {
   "cell_type": "code",
   "execution_count": 20,
   "id": "e657b3ac",
   "metadata": {
    "id": "e657b3ac"
   },
   "outputs": [],
   "source": [
    "### Checking the Seasonal decomposition\n",
    "from pylab import rcParams\n",
    "import statsmodels.api as sm"
   ]
  },
  {
   "cell_type": "code",
   "execution_count": 21,
   "id": "37f84409",
   "metadata": {
    "colab": {
     "base_uri": "https://localhost:8080/",
     "height": 297
    },
    "id": "37f84409",
    "outputId": "306df7a6-10ca-48de-e44c-94ce3d639007"
   },
   "outputs": [
    {
     "data": {
      "image/png": "[encoded data removed]",
      "text/plain": [
       "<Figure size 864x288 with 4 Axes>"
      ]
     },
     "metadata": {
      "needs_background": "light"
     },
     "output_type": "display_data"
    }
   ],
   "source": [
    "## Additive model\n",
    "rcParams[\"figure.figsize\"]=12,4\n",
    "decompose=sm.tsa.seasonal_decompose(train_new[\"Sales\"],model=\"additive\")\n",
    "fig=decompose.plot()\n"
   ]
  },
  {
   "cell_type": "code",
   "execution_count": 22,
   "id": "dfb5122e",
   "metadata": {
    "colab": {
     "base_uri": "https://localhost:8080/",
     "height": 297
    },
    "id": "dfb5122e",
    "outputId": "6232c7be-a248-4b95-bc4d-428a7ddd9b56"
   },
   "outputs": [
    {
     "data": {
      "image/png": "[encoded data removed]",
      "text/plain": [
       "<Figure size 864x288 with 4 Axes>"
      ]
     },
     "metadata": {
      "needs_background": "light"
     },
     "output_type": "display_data"
    }
   ],
   "source": [
    "## Multiplicative model\n",
    "rcParams[\"figure.figsize\"]=12,4\n",
    "decompose=sm.tsa.seasonal_decompose(train_new[\"Sales\"],model=\"multiplicative\")\n",
    "fig=decompose.plot()"
   ]
  },
  {
   "cell_type": "code",
   "execution_count": 23,
   "id": "59bfb691",
   "metadata": {
    "id": "59bfb691"
   },
   "outputs": [],
   "source": [
    "## It clearly has an upward trend and a seasonality. According to the flowchart SARIMA and Holt Winters should give us the best results"
   ]
  },
  {
   "cell_type": "markdown",
   "id": "624c9cc1",
   "metadata": {
    "id": "624c9cc1"
   },
   "source": [
    "### Exponential Smoothening Methods"
   ]
  },
  {
   "cell_type": "markdown",
   "id": "9f95d8bb",
   "metadata": {
    "id": "9f95d8bb"
   },
   "source": [
    "#### Simple Exponential Smoothing"
   ]
  },
  {
   "cell_type": "code",
   "execution_count": 24,
   "id": "684e0379",
   "metadata": {
    "id": "684e0379"
   },
   "outputs": [],
   "source": [
    "from statsmodels.tsa.holtwinters import SimpleExpSmoothing"
   ]
  },
  {
   "cell_type": "code",
   "execution_count": 25,
   "id": "ccbd7619",
   "metadata": {
    "id": "ccbd7619"
   },
   "outputs": [],
   "source": [
    "model=SimpleExpSmoothing(train_new[\"Sales\"])\n",
    "model_fit=model.fit(smoothing_level=0.2,optimized=False)"
   ]
  },
  {
   "cell_type": "code",
   "execution_count": 26,
   "id": "8c9c2214",
   "metadata": {
    "id": "8c9c2214"
   },
   "outputs": [],
   "source": [
    "y_hat_se=test_new.copy()\n",
    "y_hat_se[\"se\"]=model_fit.forecast(6)\n"
   ]
  },
  {
   "cell_type": "code",
   "execution_count": 27,
   "id": "772caa42",
   "metadata": {
    "colab": {
     "base_uri": "https://localhost:8080/",
     "height": 281
    },
    "id": "772caa42",
    "outputId": "bdaf9d9f-9c8a-405e-c8b9-921b089c7413"
   },
   "outputs": [
    {
     "data": {
      "image/png": "[encoded data removed]",
      "text/plain": [
       "<Figure size 864x288 with 1 Axes>"
      ]
     },
     "metadata": {
      "needs_background": "light"
     },
     "output_type": "display_data"
    }
   ],
   "source": [
    "plt.figure(figsize=[12,4])\n",
    "plt.plot(train_new[\"Sales\"],label=\"Train\")\n",
    "plt.plot(test_new[\"Sales\"],label=\"Test\")\n",
    "plt.plot(y_hat_se[\"se\"],label=\"Simple Exponential Smoothin\")\n",
    "plt.legend(loc=\"best\")\n",
    "plt.title(\"Simple Exponential Smoothing Forecast\")\n",
    "plt.show()"
   ]
  },
  {
   "cell_type": "code",
   "execution_count": 28,
   "id": "2aba5a75",
   "metadata": {
    "id": "2aba5a75"
   },
   "outputs": [],
   "source": [
    "### Finding the MAPE of the forecast method and storing it in a dataframe\n",
    "MAPE=np.round((abs(test_new[\"Sales\"]-y_hat_se[\"se\"])/test_new[\"Sales\"]*100).mean(),2)\n",
    "result=pd.DataFrame({\"Method\":[\"Simple Exponential Smoothing\"],\"MAPE\":[MAPE]})"
   ]
  },
  {
   "cell_type": "code",
   "execution_count": 29,
   "id": "95203e90",
   "metadata": {
    "colab": {
     "base_uri": "https://localhost:8080/",
     "height": 81
    },
    "id": "95203e90",
    "outputId": "20d48f46-b919-4723-dbb4-98815ab8d27e"
   },
   "outputs": [
    {
     "data": {
      "text/html": [
       "<div>\n",
       "<style scoped>\n",
       "    .dataframe tbody tr th:only-of-type {\n",
       "        vertical-align: middle;\n",
       "    }\n",
       "\n",
       "    .dataframe tbody tr th {\n",
       "        vertical-align: top;\n",
       "    }\n",
       "\n",
       "    .dataframe thead th {\n",
       "        text-align: right;\n",
       "    }\n",
       "</style>\n",
       "<table border=\"1\" class=\"dataframe\">\n",
       "  <thead>\n",
       "    <tr style=\"text-align: right;\">\n",
       "      <th></th>\n",
       "      <th>Method</th>\n",
       "      <th>MAPE</th>\n",
       "    </tr>\n",
       "  </thead>\n",
       "  <tbody>\n",
       "    <tr>\n",
       "      <th>0</th>\n",
       "      <td>Simple Exponential Smoothing</td>\n",
       "      <td>15.99</td>\n",
       "    </tr>\n",
       "  </tbody>\n",
       "</table>\n",
       "</div>"
      ],
      "text/plain": [
       "                         Method   MAPE\n",
       "0  Simple Exponential Smoothing  15.99"
      ]
     },
     "execution_count": 29,
     "metadata": {},
     "output_type": "execute_result"
    }
   ],
   "source": [
    "result"
   ]
  },
  {
   "cell_type": "markdown",
   "id": "3acc4f33",
   "metadata": {
    "id": "3acc4f33"
   },
   "source": [
    "#### Holt's Exponential Smoothing"
   ]
  },
  {
   "cell_type": "code",
   "execution_count": 30,
   "id": "f52126ba",
   "metadata": {
    "id": "f52126ba"
   },
   "outputs": [],
   "source": [
    "from statsmodels.tsa.holtwinters import ExponentialSmoothing"
   ]
  },
  {
   "cell_type": "code",
   "execution_count": 31,
   "id": "ae6542e2",
   "metadata": {
    "colab": {
     "base_uri": "https://localhost:8080/"
    },
    "id": "ae6542e2",
    "outputId": "3aaea4a1-c863-4c75-b4f0-64e1071b6ced"
   },
   "outputs": [
    {
     "name": "stderr",
     "output_type": "stream",
     "text": [
      "/var/folders/06/mgzhqdl50xj7ts5rk5j6s2_80000gn/T/ipykernel_62520/2998049717.py:3: FutureWarning: the 'smoothing_slope'' keyword is deprecated, use 'smoothing_trend' instead\n",
      "  model_fit=model.fit(smoothing_level=0.2,smoothing_slope=0.01,optimized=False)\n"
     ]
    }
   ],
   "source": [
    "## using manual values of alpha and beta values as 0.2 and 0.01 respectively\n",
    "model=ExponentialSmoothing(np.asarray(train_new[\"Sales\"]),trend=\"add\",seasonal_periods=12,seasonal=None)\n",
    "model_fit=model.fit(smoothing_level=0.2,smoothing_slope=0.01,optimized=False)"
   ]
  },
  {
   "cell_type": "code",
   "execution_count": 32,
   "id": "ce4f660f",
   "metadata": {
    "id": "ce4f660f"
   },
   "outputs": [],
   "source": [
    "y_hat_he=test_new.copy()\n",
    "y_hat_he[\"he\"]=model_fit.forecast(6)"
   ]
  },
  {
   "cell_type": "code",
   "execution_count": null,
   "id": "124964b3",
   "metadata": {
    "id": "124964b3"
   },
   "outputs": [],
   "source": []
  },
  {
   "cell_type": "code",
   "execution_count": 33,
   "id": "f3f91326",
   "metadata": {
    "colab": {
     "base_uri": "https://localhost:8080/",
     "height": 281
    },
    "id": "f3f91326",
    "outputId": "fe84d670-93c7-47ab-c5e9-35cde81660ed"
   },
   "outputs": [
    {
     "data": {
      "image/png": "[encoded data removed]",
      "text/plain": [
       "<Figure size 864x288 with 1 Axes>"
      ]
     },
     "metadata": {
      "needs_background": "light"
     },
     "output_type": "display_data"
    }
   ],
   "source": [
    "plt.figure(figsize=[12,4])\n",
    "plt.plot(train_new[\"Sales\"],label=\"Train\")\n",
    "plt.plot(test_new[\"Sales\"],label=\"Test\")\n",
    "plt.plot(y_hat_he[\"he\"],label=\"Holt's Exponential Smoothing\")\n",
    "plt.legend(loc=\"best\")\n",
    "plt.title(\"Holt's Exponential Smoothing Forecast\")\n",
    "plt.show()"
   ]
  },
  {
   "cell_type": "code",
   "execution_count": 34,
   "id": "2d5f37b1",
   "metadata": {
    "colab": {
     "base_uri": "https://localhost:8080/",
     "height": 81
    },
    "id": "2d5f37b1",
    "outputId": "abfe1ba1-dfac-496b-f61c-f078c40ec17c"
   },
   "outputs": [
    {
     "data": {
      "text/html": [
       "<div>\n",
       "<style scoped>\n",
       "    .dataframe tbody tr th:only-of-type {\n",
       "        vertical-align: middle;\n",
       "    }\n",
       "\n",
       "    .dataframe tbody tr th {\n",
       "        vertical-align: top;\n",
       "    }\n",
       "\n",
       "    .dataframe thead th {\n",
       "        text-align: right;\n",
       "    }\n",
       "</style>\n",
       "<table border=\"1\" class=\"dataframe\">\n",
       "  <thead>\n",
       "    <tr style=\"text-align: right;\">\n",
       "      <th></th>\n",
       "      <th>Method</th>\n",
       "      <th>MAPE</th>\n",
       "    </tr>\n",
       "  </thead>\n",
       "  <tbody>\n",
       "    <tr>\n",
       "      <th>0</th>\n",
       "      <td>Holt's Exponential Smoothing</td>\n",
       "      <td>14.64</td>\n",
       "    </tr>\n",
       "  </tbody>\n",
       "</table>\n",
       "</div>"
      ],
      "text/plain": [
       "                         Method   MAPE\n",
       "0  Holt's Exponential Smoothing  14.64"
      ]
     },
     "execution_count": 34,
     "metadata": {},
     "output_type": "execute_result"
    }
   ],
   "source": [
    "MAPE2=np.round((abs(test_new[\"Sales\"]-y_hat_he[\"he\"])/test_new[\"Sales\"]*100).mean(),2)\n",
    "temp_result=pd.DataFrame({\"Method\":[\"Holt's Exponential Smoothing\"],\"MAPE\":[MAPE2]})\n",
    "temp_result"
   ]
  },
  {
   "cell_type": "code",
   "execution_count": 35,
   "id": "b3b69058",
   "metadata": {
    "id": "b3b69058"
   },
   "outputs": [],
   "source": [
    "## Adding them to the previous table\n",
    "result=pd.concat([result,temp_result],axis=0,ignore_index=True)"
   ]
  },
  {
   "cell_type": "code",
   "execution_count": 36,
   "id": "5db7bd34",
   "metadata": {
    "colab": {
     "base_uri": "https://localhost:8080/",
     "height": 112
    },
    "id": "5db7bd34",
    "outputId": "a95fa86c-ce09-469b-ffb7-5f084474e143"
   },
   "outputs": [
    {
     "data": {
      "text/html": [
       "<div>\n",
       "<style scoped>\n",
       "    .dataframe tbody tr th:only-of-type {\n",
       "        vertical-align: middle;\n",
       "    }\n",
       "\n",
       "    .dataframe tbody tr th {\n",
       "        vertical-align: top;\n",
       "    }\n",
       "\n",
       "    .dataframe thead th {\n",
       "        text-align: right;\n",
       "    }\n",
       "</style>\n",
       "<table border=\"1\" class=\"dataframe\">\n",
       "  <thead>\n",
       "    <tr style=\"text-align: right;\">\n",
       "      <th></th>\n",
       "      <th>Method</th>\n",
       "      <th>MAPE</th>\n",
       "    </tr>\n",
       "  </thead>\n",
       "  <tbody>\n",
       "    <tr>\n",
       "      <th>0</th>\n",
       "      <td>Simple Exponential Smoothing</td>\n",
       "      <td>15.99</td>\n",
       "    </tr>\n",
       "    <tr>\n",
       "      <th>1</th>\n",
       "      <td>Holt's Exponential Smoothing</td>\n",
       "      <td>14.64</td>\n",
       "    </tr>\n",
       "  </tbody>\n",
       "</table>\n",
       "</div>"
      ],
      "text/plain": [
       "                         Method   MAPE\n",
       "0  Simple Exponential Smoothing  15.99\n",
       "1  Holt's Exponential Smoothing  14.64"
      ]
     },
     "execution_count": 36,
     "metadata": {},
     "output_type": "execute_result"
    }
   ],
   "source": [
    "result"
   ]
  },
  {
   "cell_type": "code",
   "execution_count": null,
   "id": "3eb0fe70",
   "metadata": {
    "id": "3eb0fe70"
   },
   "outputs": [],
   "source": []
  },
  {
   "cell_type": "markdown",
   "id": "de95babd",
   "metadata": {
    "id": "de95babd"
   },
   "source": [
    "#### Holt Winter's Exponential Smoothing Additive"
   ]
  },
  {
   "cell_type": "code",
   "execution_count": 37,
   "id": "5741bf12",
   "metadata": {
    "id": "5741bf12"
   },
   "outputs": [],
   "source": [
    "from statsmodels.tsa.holtwinters import ExponentialSmoothing"
   ]
  },
  {
   "cell_type": "code",
   "execution_count": 38,
   "id": "9a524123",
   "metadata": {
    "colab": {
     "base_uri": "https://localhost:8080/"
    },
    "id": "9a524123",
    "outputId": "e7b0d2a5-6840-4916-c8e1-98c7ea7e09ce"
   },
   "outputs": [
    {
     "name": "stderr",
     "output_type": "stream",
     "text": [
      "/Users/chinmayerande/opt/anaconda3/lib/python3.9/site-packages/statsmodels/tsa/holtwinters/model.py:915: ConvergenceWarning: Optimization failed to converge. Check mle_retvals.\n",
      "  warnings.warn(\n"
     ]
    }
   ],
   "source": [
    "model=ExponentialSmoothing(np.asarray(train_new[\"Sales\"]),trend=\"add\",seasonal_periods=12,seasonal=\"add\")\n",
    "model_fit=model.fit(optimized=True)"
   ]
  },
  {
   "cell_type": "code",
   "execution_count": 39,
   "id": "f354cff6",
   "metadata": {
    "id": "f354cff6"
   },
   "outputs": [],
   "source": [
    "y_hat_hwa=test_new.copy()\n",
    "y_hat_hwa[\"hwa\"]=model_fit.forecast(6)"
   ]
  },
  {
   "cell_type": "code",
   "execution_count": 40,
   "id": "13167e90",
   "metadata": {
    "colab": {
     "base_uri": "https://localhost:8080/",
     "height": 281
    },
    "id": "13167e90",
    "outputId": "0145a84c-2eac-4f21-dc64-c087c095bba6"
   },
   "outputs": [
    {
     "data": {
      "image/png": "[encoded data removed]",
      "text/plain": [
       "<Figure size 864x288 with 1 Axes>"
      ]
     },
     "metadata": {
      "needs_background": "light"
     },
     "output_type": "display_data"
    }
   ],
   "source": [
    "plt.figure(figsize=[12,4])\n",
    "plt.plot(train_new[\"Sales\"],label=\"Train\")\n",
    "plt.plot(test_new[\"Sales\"],label=\"Test\")\n",
    "plt.plot(y_hat_hwa[\"hwa\"],label=\"Holt Winter's Additive Exponential Smoothing\")\n",
    "plt.legend(loc=\"best\")\n",
    "plt.title(\"Holt Winter's Additive Exponential Smoothing Forecast\")\n",
    "plt.show()"
   ]
  },
  {
   "cell_type": "code",
   "execution_count": 41,
   "id": "b3450dfb",
   "metadata": {
    "colab": {
     "base_uri": "https://localhost:8080/",
     "height": 81
    },
    "id": "b3450dfb",
    "outputId": "1149276f-147b-467e-a2ac-b868133fa180"
   },
   "outputs": [
    {
     "data": {
      "text/html": [
       "<div>\n",
       "<style scoped>\n",
       "    .dataframe tbody tr th:only-of-type {\n",
       "        vertical-align: middle;\n",
       "    }\n",
       "\n",
       "    .dataframe tbody tr th {\n",
       "        vertical-align: top;\n",
       "    }\n",
       "\n",
       "    .dataframe thead th {\n",
       "        text-align: right;\n",
       "    }\n",
       "</style>\n",
       "<table border=\"1\" class=\"dataframe\">\n",
       "  <thead>\n",
       "    <tr style=\"text-align: right;\">\n",
       "      <th></th>\n",
       "      <th>Method</th>\n",
       "      <th>MAPE</th>\n",
       "    </tr>\n",
       "  </thead>\n",
       "  <tbody>\n",
       "    <tr>\n",
       "      <th>0</th>\n",
       "      <td>Holt Winter's Additive Exponential Smoothing</td>\n",
       "      <td>13.02</td>\n",
       "    </tr>\n",
       "  </tbody>\n",
       "</table>\n",
       "</div>"
      ],
      "text/plain": [
       "                                         Method   MAPE\n",
       "0  Holt Winter's Additive Exponential Smoothing  13.02"
      ]
     },
     "execution_count": 41,
     "metadata": {},
     "output_type": "execute_result"
    }
   ],
   "source": [
    "MAPE3=np.round((abs(test_new[\"Sales\"]-y_hat_hwa[\"hwa\"])/test_new[\"Sales\"]*100).mean(),2)\n",
    "temp_result=pd.DataFrame({\"Method\":[\"Holt Winter's Additive Exponential Smoothing\"],\"MAPE\":[MAPE3]})\n",
    "temp_result"
   ]
  },
  {
   "cell_type": "code",
   "execution_count": 42,
   "id": "62d4b5de",
   "metadata": {
    "colab": {
     "base_uri": "https://localhost:8080/",
     "height": 143
    },
    "id": "62d4b5de",
    "outputId": "9d6705d2-d7c4-4fda-e3df-57ec8349fbed"
   },
   "outputs": [
    {
     "data": {
      "text/html": [
       "<div>\n",
       "<style scoped>\n",
       "    .dataframe tbody tr th:only-of-type {\n",
       "        vertical-align: middle;\n",
       "    }\n",
       "\n",
       "    .dataframe tbody tr th {\n",
       "        vertical-align: top;\n",
       "    }\n",
       "\n",
       "    .dataframe thead th {\n",
       "        text-align: right;\n",
       "    }\n",
       "</style>\n",
       "<table border=\"1\" class=\"dataframe\">\n",
       "  <thead>\n",
       "    <tr style=\"text-align: right;\">\n",
       "      <th></th>\n",
       "      <th>Method</th>\n",
       "      <th>MAPE</th>\n",
       "    </tr>\n",
       "  </thead>\n",
       "  <tbody>\n",
       "    <tr>\n",
       "      <th>0</th>\n",
       "      <td>Simple Exponential Smoothing</td>\n",
       "      <td>15.99</td>\n",
       "    </tr>\n",
       "    <tr>\n",
       "      <th>1</th>\n",
       "      <td>Holt's Exponential Smoothing</td>\n",
       "      <td>14.64</td>\n",
       "    </tr>\n",
       "    <tr>\n",
       "      <th>2</th>\n",
       "      <td>Holt Winter's Additive Exponential Smoothing</td>\n",
       "      <td>13.02</td>\n",
       "    </tr>\n",
       "  </tbody>\n",
       "</table>\n",
       "</div>"
      ],
      "text/plain": [
       "                                         Method   MAPE\n",
       "0                  Simple Exponential Smoothing  15.99\n",
       "1                  Holt's Exponential Smoothing  14.64\n",
       "2  Holt Winter's Additive Exponential Smoothing  13.02"
      ]
     },
     "execution_count": 42,
     "metadata": {},
     "output_type": "execute_result"
    }
   ],
   "source": [
    "result=pd.concat([result,temp_result],axis=0,ignore_index=True)\n",
    "result"
   ]
  },
  {
   "cell_type": "code",
   "execution_count": null,
   "id": "c28f1684",
   "metadata": {
    "id": "c28f1684"
   },
   "outputs": [],
   "source": []
  },
  {
   "cell_type": "markdown",
   "id": "b3244820",
   "metadata": {
    "id": "b3244820"
   },
   "source": [
    "#### Holt Winter's Multiplicative Exponential Smoothing"
   ]
  },
  {
   "cell_type": "code",
   "execution_count": 43,
   "id": "27b668b0",
   "metadata": {
    "colab": {
     "base_uri": "https://localhost:8080/"
    },
    "id": "27b668b0",
    "outputId": "d0330a31-f1ee-4ab7-9b3b-8344cc83bfdb"
   },
   "outputs": [
    {
     "name": "stderr",
     "output_type": "stream",
     "text": [
      "/Users/chinmayerande/opt/anaconda3/lib/python3.9/site-packages/statsmodels/tsa/holtwinters/model.py:915: ConvergenceWarning: Optimization failed to converge. Check mle_retvals.\n",
      "  warnings.warn(\n"
     ]
    }
   ],
   "source": [
    "model=ExponentialSmoothing(np.asarray(train_new[\"Sales\"]),trend=\"add\",seasonal_periods=12,seasonal=\"mul\")\n",
    "model_fit=model.fit(optimized=True)"
   ]
  },
  {
   "cell_type": "code",
   "execution_count": 44,
   "id": "ebd730cf",
   "metadata": {
    "id": "ebd730cf"
   },
   "outputs": [],
   "source": [
    "y_hat_hwm=test_new.copy()\n",
    "y_hat_hwm[\"hwm\"]=model_fit.forecast(6)"
   ]
  },
  {
   "cell_type": "code",
   "execution_count": 45,
   "id": "740d3266",
   "metadata": {
    "colab": {
     "base_uri": "https://localhost:8080/",
     "height": 281
    },
    "id": "740d3266",
    "outputId": "fae2942a-8604-4848-b222-dd5394a63c0c"
   },
   "outputs": [
    {
     "data": {
      "image/png": "[encoded data removed]",
      "text/plain": [
       "<Figure size 864x288 with 1 Axes>"
      ]
     },
     "metadata": {
      "needs_background": "light"
     },
     "output_type": "display_data"
    }
   ],
   "source": [
    "plt.figure(figsize=[12,4])\n",
    "plt.plot(train_new[\"Sales\"],label=\"Train\")\n",
    "plt.plot(test_new[\"Sales\"],label=\"Test\")\n",
    "plt.plot(y_hat_hwm[\"hwm\"],label=\"Holt Winter's Multiplicative Exponential Smoothing\")\n",
    "plt.legend(loc=\"best\")\n",
    "plt.title(\"Holt Winter's Multiplicative Exponential Smoothing Forecast\")\n",
    "plt.show()"
   ]
  },
  {
   "cell_type": "code",
   "execution_count": 46,
   "id": "2d0f47fd",
   "metadata": {
    "colab": {
     "base_uri": "https://localhost:8080/",
     "height": 81
    },
    "id": "2d0f47fd",
    "outputId": "d4b93c4f-e630-4a1f-9fde-0053dcf7732f"
   },
   "outputs": [
    {
     "data": {
      "text/html": [
       "<div>\n",
       "<style scoped>\n",
       "    .dataframe tbody tr th:only-of-type {\n",
       "        vertical-align: middle;\n",
       "    }\n",
       "\n",
       "    .dataframe tbody tr th {\n",
       "        vertical-align: top;\n",
       "    }\n",
       "\n",
       "    .dataframe thead th {\n",
       "        text-align: right;\n",
       "    }\n",
       "</style>\n",
       "<table border=\"1\" class=\"dataframe\">\n",
       "  <thead>\n",
       "    <tr style=\"text-align: right;\">\n",
       "      <th></th>\n",
       "      <th>Method</th>\n",
       "      <th>MAPE</th>\n",
       "    </tr>\n",
       "  </thead>\n",
       "  <tbody>\n",
       "    <tr>\n",
       "      <th>0</th>\n",
       "      <td>Holt Winter's Multiplicative Exponential Smoot...</td>\n",
       "      <td>17.17</td>\n",
       "    </tr>\n",
       "  </tbody>\n",
       "</table>\n",
       "</div>"
      ],
      "text/plain": [
       "                                              Method   MAPE\n",
       "0  Holt Winter's Multiplicative Exponential Smoot...  17.17"
      ]
     },
     "execution_count": 46,
     "metadata": {},
     "output_type": "execute_result"
    }
   ],
   "source": [
    "MAPE4=np.round((abs(test_new[\"Sales\"]-y_hat_hwm[\"hwm\"])/test_new[\"Sales\"]*100).mean(),2)\n",
    "temp_result=pd.DataFrame({\"Method\":[\"Holt Winter's Multiplicative Exponential Smoothing\"],\"MAPE\":[MAPE4]})\n",
    "temp_result"
   ]
  },
  {
   "cell_type": "code",
   "execution_count": 47,
   "id": "e6543da3",
   "metadata": {
    "colab": {
     "base_uri": "https://localhost:8080/",
     "height": 175
    },
    "id": "e6543da3",
    "outputId": "f586c185-dc05-4c2e-cd33-bb3ce91f5873"
   },
   "outputs": [
    {
     "data": {
      "text/html": [
       "<div>\n",
       "<style scoped>\n",
       "    .dataframe tbody tr th:only-of-type {\n",
       "        vertical-align: middle;\n",
       "    }\n",
       "\n",
       "    .dataframe tbody tr th {\n",
       "        vertical-align: top;\n",
       "    }\n",
       "\n",
       "    .dataframe thead th {\n",
       "        text-align: right;\n",
       "    }\n",
       "</style>\n",
       "<table border=\"1\" class=\"dataframe\">\n",
       "  <thead>\n",
       "    <tr style=\"text-align: right;\">\n",
       "      <th></th>\n",
       "      <th>Method</th>\n",
       "      <th>MAPE</th>\n",
       "    </tr>\n",
       "  </thead>\n",
       "  <tbody>\n",
       "    <tr>\n",
       "      <th>0</th>\n",
       "      <td>Simple Exponential Smoothing</td>\n",
       "      <td>15.99</td>\n",
       "    </tr>\n",
       "    <tr>\n",
       "      <th>1</th>\n",
       "      <td>Holt's Exponential Smoothing</td>\n",
       "      <td>14.64</td>\n",
       "    </tr>\n",
       "    <tr>\n",
       "      <th>2</th>\n",
       "      <td>Holt Winter's Additive Exponential Smoothing</td>\n",
       "      <td>13.02</td>\n",
       "    </tr>\n",
       "    <tr>\n",
       "      <th>3</th>\n",
       "      <td>Holt Winter's Multiplicative Exponential Smoot...</td>\n",
       "      <td>17.17</td>\n",
       "    </tr>\n",
       "  </tbody>\n",
       "</table>\n",
       "</div>"
      ],
      "text/plain": [
       "                                              Method   MAPE\n",
       "0                       Simple Exponential Smoothing  15.99\n",
       "1                       Holt's Exponential Smoothing  14.64\n",
       "2       Holt Winter's Additive Exponential Smoothing  13.02\n",
       "3  Holt Winter's Multiplicative Exponential Smoot...  17.17"
      ]
     },
     "execution_count": 47,
     "metadata": {},
     "output_type": "execute_result"
    }
   ],
   "source": [
    "result=pd.concat([result,temp_result],axis=0,ignore_index=True)\n",
    "result"
   ]
  },
  {
   "cell_type": "code",
   "execution_count": 48,
   "id": "04dbd012",
   "metadata": {
    "colab": {
     "base_uri": "https://localhost:8080/",
     "height": 175
    },
    "id": "04dbd012",
    "outputId": "a192dd0f-5806-4144-946a-3c8a55c47ac8"
   },
   "outputs": [
    {
     "data": {
      "text/html": [
       "<div>\n",
       "<style scoped>\n",
       "    .dataframe tbody tr th:only-of-type {\n",
       "        vertical-align: middle;\n",
       "    }\n",
       "\n",
       "    .dataframe tbody tr th {\n",
       "        vertical-align: top;\n",
       "    }\n",
       "\n",
       "    .dataframe thead th {\n",
       "        text-align: right;\n",
       "    }\n",
       "</style>\n",
       "<table border=\"1\" class=\"dataframe\">\n",
       "  <thead>\n",
       "    <tr style=\"text-align: right;\">\n",
       "      <th></th>\n",
       "      <th>Method</th>\n",
       "      <th>MAPE</th>\n",
       "    </tr>\n",
       "  </thead>\n",
       "  <tbody>\n",
       "    <tr>\n",
       "      <th>0</th>\n",
       "      <td>Simple Exponential Smoothing</td>\n",
       "      <td>15.99</td>\n",
       "    </tr>\n",
       "    <tr>\n",
       "      <th>1</th>\n",
       "      <td>Holt's Exponential Smoothing</td>\n",
       "      <td>14.64</td>\n",
       "    </tr>\n",
       "    <tr>\n",
       "      <th>2</th>\n",
       "      <td>Holt Winter's Additive Exponential Smoothing</td>\n",
       "      <td>13.02</td>\n",
       "    </tr>\n",
       "    <tr>\n",
       "      <th>3</th>\n",
       "      <td>Holt Winter's Multiplicative Exponential Smoot...</td>\n",
       "      <td>17.17</td>\n",
       "    </tr>\n",
       "  </tbody>\n",
       "</table>\n",
       "</div>"
      ],
      "text/plain": [
       "                                              Method   MAPE\n",
       "0                       Simple Exponential Smoothing  15.99\n",
       "1                       Holt's Exponential Smoothing  14.64\n",
       "2       Holt Winter's Additive Exponential Smoothing  13.02\n",
       "3  Holt Winter's Multiplicative Exponential Smoot...  17.17"
      ]
     },
     "execution_count": 48,
     "metadata": {},
     "output_type": "execute_result"
    }
   ],
   "source": [
    "result"
   ]
  },
  {
   "cell_type": "markdown",
   "id": "d714d109",
   "metadata": {
    "id": "d714d109"
   },
   "source": [
    "### ARIMA Methods"
   ]
  },
  {
   "cell_type": "code",
   "execution_count": 49,
   "id": "b7999a25",
   "metadata": {
    "id": "b7999a25"
   },
   "outputs": [],
   "source": [
    "## Checking stationarity of the series"
   ]
  },
  {
   "cell_type": "code",
   "execution_count": 50,
   "id": "1ea2ab98",
   "metadata": {
    "id": "1ea2ab98"
   },
   "outputs": [],
   "source": [
    "from statsmodels.tsa.stattools import adfuller"
   ]
  },
  {
   "cell_type": "code",
   "execution_count": 51,
   "id": "5f6a9ebd",
   "metadata": {
    "id": "5f6a9ebd"
   },
   "outputs": [],
   "source": [
    "data.index=data.index.to_timestamp()"
   ]
  },
  {
   "cell_type": "code",
   "execution_count": 52,
   "id": "ddbf6e84",
   "metadata": {
    "colab": {
     "base_uri": "https://localhost:8080/"
    },
    "id": "ddbf6e84",
    "outputId": "d177d929-29eb-459b-8b51-e17adca19ac6"
   },
   "outputs": [
    {
     "data": {
      "text/plain": [
       "(-3.3760244736258023,\n",
       " 0.011803859657119784,\n",
       " 0,\n",
       " 47,\n",
       " {'1%': -3.5778480370438146,\n",
       "  '5%': -2.925338105429433,\n",
       "  '10%': -2.6007735310095064},\n",
       " 804.80930070885)"
      ]
     },
     "execution_count": 52,
     "metadata": {},
     "output_type": "execute_result"
    }
   ],
   "source": [
    "adf_test=adfuller(data[\"Sales\"])\n",
    "adf_test"
   ]
  },
  {
   "cell_type": "code",
   "execution_count": 53,
   "id": "9981d15d",
   "metadata": {
    "colab": {
     "base_uri": "https://localhost:8080/",
     "height": 308
    },
    "id": "9981d15d",
    "outputId": "606fdabf-48b7-45d6-fd57-6b508b441259"
   },
   "outputs": [
    {
     "data": {
      "text/plain": [
       "<AxesSubplot:xlabel='Order Date'>"
      ]
     },
     "execution_count": 53,
     "metadata": {},
     "output_type": "execute_result"
    },
    {
     "data": {
      "image/png": "[encoded data removed]",
      "text/plain": [
       "<Figure size 864x288 with 1 Axes>"
      ]
     },
     "metadata": {
      "needs_background": "light"
     },
     "output_type": "display_data"
    }
   ],
   "source": [
    "data[\"Sales\"].plot()"
   ]
  },
  {
   "cell_type": "code",
   "execution_count": 54,
   "id": "970e3847",
   "metadata": {
    "id": "970e3847"
   },
   "outputs": [],
   "source": [
    "from statsmodels.tsa.stattools import kpss"
   ]
  },
  {
   "cell_type": "code",
   "execution_count": 55,
   "id": "34b3369b",
   "metadata": {
    "colab": {
     "base_uri": "https://localhost:8080/"
    },
    "id": "34b3369b",
    "outputId": "f1edfb0a-8fbc-4341-fa57-da09c1a518b4"
   },
   "outputs": [
    {
     "name": "stderr",
     "output_type": "stream",
     "text": [
      "/Users/chinmayerande/opt/anaconda3/lib/python3.9/site-packages/statsmodels/tsa/stattools.py:2018: InterpolationWarning: The test statistic is outside of the range of p-values available in the\n",
      "look-up table. The actual p-value is smaller than the p-value returned.\n",
      "\n",
      "  warnings.warn(\n"
     ]
    },
    {
     "data": {
      "text/plain": [
       "(1.1037517499270595,\n",
       " 0.01,\n",
       " 3,\n",
       " {'10%': 0.347, '5%': 0.463, '2.5%': 0.574, '1%': 0.739})"
      ]
     },
     "execution_count": 55,
     "metadata": {},
     "output_type": "execute_result"
    }
   ],
   "source": [
    "kpss(data[\"Sales\"])"
   ]
  },
  {
   "cell_type": "code",
   "execution_count": 56,
   "id": "cd8c6715",
   "metadata": {
    "id": "cd8c6715"
   },
   "outputs": [],
   "source": [
    "### Visually the line looks non stationary, so using boxcox and differencing\n",
    "### 1% chance of data being non stationary according to adf test"
   ]
  },
  {
   "cell_type": "code",
   "execution_count": 57,
   "id": "4d18f11d",
   "metadata": {
    "id": "4d18f11d"
   },
   "outputs": [],
   "source": [
    "from scipy.stats import boxcox"
   ]
  },
  {
   "cell_type": "code",
   "execution_count": 58,
   "id": "10481e52",
   "metadata": {
    "colab": {
     "base_uri": "https://localhost:8080/",
     "height": 265
    },
    "id": "10481e52",
    "outputId": "d5af2812-d9bd-48b8-e501-464d3c1ec1d1"
   },
   "outputs": [
    {
     "data": {
      "image/png": "[encoded data removed]",
      "text/plain": [
       "<Figure size 864x288 with 1 Axes>"
      ]
     },
     "metadata": {
      "needs_background": "light"
     },
     "output_type": "display_data"
    }
   ],
   "source": [
    "data_boxcox=pd.Series(boxcox(data[\"Sales\"],lmbda=0),index=data.index)\n",
    "plt.plot(data_boxcox,label=\"Data after transformation\")\n",
    "plt.show()"
   ]
  },
  {
   "cell_type": "code",
   "execution_count": 59,
   "id": "31a4e287",
   "metadata": {
    "colab": {
     "base_uri": "https://localhost:8080/",
     "height": 265
    },
    "id": "31a4e287",
    "outputId": "ce04a54a-4764-4bd6-c90c-b929365b1fbf"
   },
   "outputs": [
    {
     "data": {
      "image/png": "[encoded data removed]",
      "text/plain": [
       "<Figure size 864x288 with 1 Axes>"
      ]
     },
     "metadata": {
      "needs_background": "light"
     },
     "output_type": "display_data"
    }
   ],
   "source": [
    "## Differencing\n",
    "data_boxcox_diff=pd.Series(data_boxcox-data_boxcox.shift(),index=data.index)\n",
    "plt.plot(data_boxcox_diff,label=\"Data after boxcox and Differencing\")\n",
    "\n",
    "plt.show()"
   ]
  },
  {
   "cell_type": "code",
   "execution_count": 60,
   "id": "c83f3afc",
   "metadata": {
    "id": "c83f3afc"
   },
   "outputs": [],
   "source": [
    "data_boxcox_diff.dropna(inplace=True)"
   ]
  },
  {
   "cell_type": "code",
   "execution_count": 61,
   "id": "97f9a63a",
   "metadata": {
    "colab": {
     "base_uri": "https://localhost:8080/"
    },
    "id": "97f9a63a",
    "outputId": "98ad4906-78c5-45cc-d7fe-c233ecc98421"
   },
   "outputs": [
    {
     "data": {
      "text/plain": [
       "(-4.535011324054364,\n",
       " 0.0001698967632114325,\n",
       " 10,\n",
       " 36,\n",
       " {'1%': -3.626651907578875,\n",
       "  '5%': -2.9459512825788754,\n",
       "  '10%': -2.6116707716049383},\n",
       " 20.421044121623893)"
      ]
     },
     "execution_count": 61,
     "metadata": {},
     "output_type": "execute_result"
    }
   ],
   "source": [
    "adfuller(data_boxcox_diff)"
   ]
  },
  {
   "cell_type": "code",
   "execution_count": 62,
   "id": "788b99cd",
   "metadata": {
    "id": "788b99cd"
   },
   "outputs": [],
   "source": [
    "###We can now say with 99% confidence that the plot is stationary"
   ]
  },
  {
   "cell_type": "code",
   "execution_count": 63,
   "id": "9236b5cd",
   "metadata": {
    "id": "9236b5cd"
   },
   "outputs": [],
   "source": [
    "### New train and test datasets for data_boxcox_diff and data_boxcox\n",
    "train_len=len(train_new)\n",
    "train_boxcox=data_boxcox[:train_len]\n",
    "test_boxcox=data_boxcox[train_len:]\n",
    "train_boxcox_diff=data_boxcox_diff[:train_len-1]\n",
    "test_boxcox_diff=data_boxcox_diff[train_len-1:]"
   ]
  },
  {
   "cell_type": "markdown",
   "id": "00858046",
   "metadata": {
    "id": "00858046"
   },
   "source": [
    "#### AR Method"
   ]
  },
  {
   "cell_type": "code",
   "execution_count": 64,
   "id": "d2fc0a05",
   "metadata": {
    "id": "d2fc0a05"
   },
   "outputs": [],
   "source": [
    "from statsmodels.tsa.arima.model import ARIMA"
   ]
  },
  {
   "cell_type": "code",
   "execution_count": 65,
   "id": "cf3f20ca",
   "metadata": {
    "id": "cf3f20ca"
   },
   "outputs": [],
   "source": [
    "## Plotting ACF and PACF plots\n"
   ]
  },
  {
   "cell_type": "code",
   "execution_count": 66,
   "id": "7b3abc3f",
   "metadata": {
    "id": "7b3abc3f"
   },
   "outputs": [],
   "source": [
    "from statsmodels.graphics.tsaplots import plot_acf\n"
   ]
  },
  {
   "cell_type": "code",
   "execution_count": 67,
   "id": "2a7f8b3a",
   "metadata": {
    "colab": {
     "base_uri": "https://localhost:8080/",
     "height": 281
    },
    "id": "2a7f8b3a",
    "outputId": "a7959e6c-c286-4793-a284-cf53de6bea98"
   },
   "outputs": [
    {
     "data": {
      "image/png": "[encoded data removed]",
      "text/plain": [
       "<Figure size 864x288 with 1 Axes>"
      ]
     },
     "metadata": {
      "needs_background": "light"
     },
     "output_type": "display_data"
    }
   ],
   "source": [
    "fig=plot_acf(train_new[\"Sales\"],ax=plt.gca(),lags=10)\n",
    "plt.show()"
   ]
  },
  {
   "cell_type": "code",
   "execution_count": 68,
   "id": "c838d37d",
   "metadata": {
    "id": "c838d37d"
   },
   "outputs": [],
   "source": [
    "from statsmodels.graphics.tsaplots import plot_pacf"
   ]
  },
  {
   "cell_type": "code",
   "execution_count": 69,
   "id": "47e8c2fe",
   "metadata": {
    "colab": {
     "base_uri": "https://localhost:8080/",
     "height": 336
    },
    "id": "47e8c2fe",
    "outputId": "e28cccb5-c62e-4f38-c917-7e179cf74938"
   },
   "outputs": [
    {
     "name": "stderr",
     "output_type": "stream",
     "text": [
      "/Users/chinmayerande/opt/anaconda3/lib/python3.9/site-packages/statsmodels/graphics/tsaplots.py:348: FutureWarning: The default method 'yw' can produce PACF values outside of the [-1,1] interval. After 0.13, the default will change tounadjusted Yule-Walker ('ywm'). You can use this method now by setting method='ywm'.\n",
      "  warnings.warn(\n"
     ]
    },
    {
     "data": {
      "image/png": "[encoded data removed]",
      "text/plain": [
       "<Figure size 864x288 with 1 Axes>"
      ]
     },
     "metadata": {
      "needs_background": "light"
     },
     "output_type": "display_data"
    }
   ],
   "source": [
    "fig=plot_pacf(train_new[\"Sales\"],ax=plt.gca(),lags=10)\n",
    "plt.show()"
   ]
  },
  {
   "cell_type": "code",
   "execution_count": 70,
   "id": "0939aeff",
   "metadata": {
    "id": "0939aeff"
   },
   "outputs": [],
   "source": [
    "## AS per the problem statement, using p=1,q=1,d=1"
   ]
  },
  {
   "cell_type": "code",
   "execution_count": 71,
   "id": "f3560c9f",
   "metadata": {
    "colab": {
     "base_uri": "https://localhost:8080/"
    },
    "id": "f3560c9f",
    "outputId": "222afce9-e5ff-4eed-c11e-b288a729e3ae"
   },
   "outputs": [
    {
     "data": {
      "text/plain": [
       "const     0.024251\n",
       "ar.L1    -0.406725\n",
       "sigma2    0.124377\n",
       "dtype: float64"
      ]
     },
     "execution_count": 71,
     "metadata": {},
     "output_type": "execute_result"
    }
   ],
   "source": [
    "model=ARIMA(train_boxcox_diff,order=(1,0,0))\n",
    "model_fit=model.fit()\n",
    "model_fit.params"
   ]
  },
  {
   "cell_type": "code",
   "execution_count": 72,
   "id": "e9977156",
   "metadata": {
    "id": "e9977156"
   },
   "outputs": [],
   "source": [
    "y_hat_ar=data_boxcox_diff.copy()\n",
    "y_hat_ar[\"ar_boxcox_diff\"]=model_fit.predict(data_boxcox_diff.index.min(),data_boxcox_diff.index.max())\n",
    "y_hat_ar[\"ar_boxcox\"]=y_hat_ar[\"ar_boxcox_diff\"].cumsum()\n",
    "y_hat_ar[\"ar_boxcox\"]=y_hat_ar[\"ar_boxcox\"].add(data_boxcox[0])\n",
    "y_hat_ar[\"ar_forecast\"]=np.exp(y_hat_ar[\"ar_boxcox\"])"
   ]
  },
  {
   "cell_type": "code",
   "execution_count": 73,
   "id": "3ffa3f26",
   "metadata": {
    "colab": {
     "base_uri": "https://localhost:8080/",
     "height": 281
    },
    "id": "3ffa3f26",
    "outputId": "9b09ad48-bdd0-4689-d7f7-f8262bb48932"
   },
   "outputs": [
    {
     "data": {
      "image/png": "[encoded data removed]",
      "text/plain": [
       "<Figure size 864x288 with 1 Axes>"
      ]
     },
     "metadata": {
      "needs_background": "light"
     },
     "output_type": "display_data"
    }
   ],
   "source": [
    "plt.figure(figsize=[12,4])\n",
    "plt.plot(train_new[\"Sales\"],label=\"Train\")\n",
    "plt.plot(test_new[\"Sales\"],label=\"Test\")\n",
    "plt.plot(y_hat_ar[\"ar_forecast\"][test_new.index.min():],label=\"AR Method\")\n",
    "plt.legend(loc=\"best\")\n",
    "plt.title(\"AR Method\")\n",
    "plt.show()"
   ]
  },
  {
   "cell_type": "code",
   "execution_count": 74,
   "id": "6f21a589",
   "metadata": {
    "colab": {
     "base_uri": "https://localhost:8080/",
     "height": 81
    },
    "id": "6f21a589",
    "outputId": "04259ec0-c473-4f79-d586-8a4c819fb95b"
   },
   "outputs": [
    {
     "data": {
      "text/html": [
       "<div>\n",
       "<style scoped>\n",
       "    .dataframe tbody tr th:only-of-type {\n",
       "        vertical-align: middle;\n",
       "    }\n",
       "\n",
       "    .dataframe tbody tr th {\n",
       "        vertical-align: top;\n",
       "    }\n",
       "\n",
       "    .dataframe thead th {\n",
       "        text-align: right;\n",
       "    }\n",
       "</style>\n",
       "<table border=\"1\" class=\"dataframe\">\n",
       "  <thead>\n",
       "    <tr style=\"text-align: right;\">\n",
       "      <th></th>\n",
       "      <th>Method</th>\n",
       "      <th>MAPE</th>\n",
       "    </tr>\n",
       "  </thead>\n",
       "  <tbody>\n",
       "    <tr>\n",
       "      <th>0</th>\n",
       "      <td>AR Method</td>\n",
       "      <td>13.55</td>\n",
       "    </tr>\n",
       "  </tbody>\n",
       "</table>\n",
       "</div>"
      ],
      "text/plain": [
       "      Method   MAPE\n",
       "0  AR Method  13.55"
      ]
     },
     "execution_count": 74,
     "metadata": {},
     "output_type": "execute_result"
    }
   ],
   "source": [
    "MAPE5=np.round((abs(test_new[\"Sales\"]-y_hat_ar[\"ar_forecast\"][test_new.index.min():])/test_new[\"Sales\"]*100).mean(),2)\n",
    "temp_result=pd.DataFrame({\"Method\":[\"AR Method\"],\"MAPE\":[MAPE5]})\n",
    "temp_result"
   ]
  },
  {
   "cell_type": "code",
   "execution_count": 75,
   "id": "e4cf9fb5",
   "metadata": {
    "colab": {
     "base_uri": "https://localhost:8080/",
     "height": 206
    },
    "id": "e4cf9fb5",
    "outputId": "cdae6cf5-85ee-4b1d-b659-03d5ad4ea856"
   },
   "outputs": [
    {
     "data": {
      "text/html": [
       "<div>\n",
       "<style scoped>\n",
       "    .dataframe tbody tr th:only-of-type {\n",
       "        vertical-align: middle;\n",
       "    }\n",
       "\n",
       "    .dataframe tbody tr th {\n",
       "        vertical-align: top;\n",
       "    }\n",
       "\n",
       "    .dataframe thead th {\n",
       "        text-align: right;\n",
       "    }\n",
       "</style>\n",
       "<table border=\"1\" class=\"dataframe\">\n",
       "  <thead>\n",
       "    <tr style=\"text-align: right;\">\n",
       "      <th></th>\n",
       "      <th>Method</th>\n",
       "      <th>MAPE</th>\n",
       "    </tr>\n",
       "  </thead>\n",
       "  <tbody>\n",
       "    <tr>\n",
       "      <th>0</th>\n",
       "      <td>Simple Exponential Smoothing</td>\n",
       "      <td>15.99</td>\n",
       "    </tr>\n",
       "    <tr>\n",
       "      <th>1</th>\n",
       "      <td>Holt's Exponential Smoothing</td>\n",
       "      <td>14.64</td>\n",
       "    </tr>\n",
       "    <tr>\n",
       "      <th>2</th>\n",
       "      <td>Holt Winter's Additive Exponential Smoothing</td>\n",
       "      <td>13.02</td>\n",
       "    </tr>\n",
       "    <tr>\n",
       "      <th>3</th>\n",
       "      <td>Holt Winter's Multiplicative Exponential Smoot...</td>\n",
       "      <td>17.17</td>\n",
       "    </tr>\n",
       "    <tr>\n",
       "      <th>4</th>\n",
       "      <td>AR Method</td>\n",
       "      <td>13.55</td>\n",
       "    </tr>\n",
       "  </tbody>\n",
       "</table>\n",
       "</div>"
      ],
      "text/plain": [
       "                                              Method   MAPE\n",
       "0                       Simple Exponential Smoothing  15.99\n",
       "1                       Holt's Exponential Smoothing  14.64\n",
       "2       Holt Winter's Additive Exponential Smoothing  13.02\n",
       "3  Holt Winter's Multiplicative Exponential Smoot...  17.17\n",
       "4                                          AR Method  13.55"
      ]
     },
     "execution_count": 75,
     "metadata": {},
     "output_type": "execute_result"
    }
   ],
   "source": [
    "result=pd.concat([result,temp_result],axis=0,ignore_index=True)\n",
    "result"
   ]
  },
  {
   "cell_type": "code",
   "execution_count": null,
   "id": "99c9e94b",
   "metadata": {
    "id": "99c9e94b"
   },
   "outputs": [],
   "source": []
  },
  {
   "cell_type": "markdown",
   "id": "271a74b6",
   "metadata": {
    "id": "271a74b6"
   },
   "source": [
    "#### MA Method"
   ]
  },
  {
   "cell_type": "code",
   "execution_count": 76,
   "id": "0e38fa5e",
   "metadata": {
    "id": "0e38fa5e"
   },
   "outputs": [],
   "source": [
    "model=ARIMA(train_boxcox_diff,order=(0,0,1))\n",
    "model_fit=model.fit()"
   ]
  },
  {
   "cell_type": "code",
   "execution_count": 77,
   "id": "9c6a6f4f",
   "metadata": {
    "id": "9c6a6f4f"
   },
   "outputs": [],
   "source": [
    "y_hat_ma=data_boxcox_diff.copy()\n",
    "y_hat_ma[\"ma_boxcox_diff\"]=model_fit.predict(data_boxcox_diff.index.min(),data_boxcox_diff.index.max())\n",
    "y_hat_ma[\"ma_boxcox\"]=y_hat_ma[\"ma_boxcox_diff\"].cumsum()\n",
    "y_hat_ma[\"ma_boxcox\"]=y_hat_ma[\"ma_boxcox\"].add(data_boxcox[0])\n",
    "y_hat_ma[\"ma_forecast\"]=np.exp(y_hat_ma[\"ma_boxcox\"])"
   ]
  },
  {
   "cell_type": "code",
   "execution_count": 78,
   "id": "43521df5",
   "metadata": {
    "colab": {
     "base_uri": "https://localhost:8080/"
    },
    "id": "43521df5",
    "outputId": "993699d8-ed37-40e3-92d3-dee0b30831d2"
   },
   "outputs": [
    {
     "data": {
      "image/png": "[encoded data removed]",
      "text/plain": [
       "<Figure size 864x288 with 1 Axes>"
      ]
     },
     "metadata": {
      "needs_background": "light"
     },
     "output_type": "display_data"
    }
   ],
   "source": [
    "plt.figure(figsize=[12,4])\n",
    "plt.plot(train_new[\"Sales\"],label=\"Train\")\n",
    "plt.plot(test_new[\"Sales\"],label=\"Test\")\n",
    "plt.plot(y_hat_ma[\"ma_forecast\"][test_new.index.min():],label=\"MA Method\")\n",
    "plt.legend(loc=\"best\")\n",
    "plt.title(\"MA Method\")\n",
    "plt.show()"
   ]
  },
  {
   "cell_type": "code",
   "execution_count": 79,
   "id": "50ec8642",
   "metadata": {
    "colab": {
     "base_uri": "https://localhost:8080/"
    },
    "id": "50ec8642",
    "outputId": "56ffa0b3-2d1b-42b1-dacd-ec35ade5dd9a"
   },
   "outputs": [
    {
     "data": {
      "text/html": [
       "<div>\n",
       "<style scoped>\n",
       "    .dataframe tbody tr th:only-of-type {\n",
       "        vertical-align: middle;\n",
       "    }\n",
       "\n",
       "    .dataframe tbody tr th {\n",
       "        vertical-align: top;\n",
       "    }\n",
       "\n",
       "    .dataframe thead th {\n",
       "        text-align: right;\n",
       "    }\n",
       "</style>\n",
       "<table border=\"1\" class=\"dataframe\">\n",
       "  <thead>\n",
       "    <tr style=\"text-align: right;\">\n",
       "      <th></th>\n",
       "      <th>Method</th>\n",
       "      <th>MAPE</th>\n",
       "    </tr>\n",
       "  </thead>\n",
       "  <tbody>\n",
       "    <tr>\n",
       "      <th>0</th>\n",
       "      <td>MA Method</td>\n",
       "      <td>33.95</td>\n",
       "    </tr>\n",
       "  </tbody>\n",
       "</table>\n",
       "</div>"
      ],
      "text/plain": [
       "      Method   MAPE\n",
       "0  MA Method  33.95"
      ]
     },
     "execution_count": 79,
     "metadata": {},
     "output_type": "execute_result"
    }
   ],
   "source": [
    "MAPE6=np.round((abs(test_new[\"Sales\"]-y_hat_ma[\"ma_forecast\"][test_new.index.min():])/test_new[\"Sales\"]*100).mean(),2)\n",
    "temp_result=pd.DataFrame({\"Method\":[\"MA Method\"],\"MAPE\":[MAPE6]})\n",
    "temp_result"
   ]
  },
  {
   "cell_type": "code",
   "execution_count": 80,
   "id": "980ae843",
   "metadata": {
    "colab": {
     "base_uri": "https://localhost:8080/"
    },
    "id": "980ae843",
    "outputId": "2463502c-afdc-485a-ca4a-0ec4f5aed6ce"
   },
   "outputs": [
    {
     "data": {
      "text/html": [
       "<div>\n",
       "<style scoped>\n",
       "    .dataframe tbody tr th:only-of-type {\n",
       "        vertical-align: middle;\n",
       "    }\n",
       "\n",
       "    .dataframe tbody tr th {\n",
       "        vertical-align: top;\n",
       "    }\n",
       "\n",
       "    .dataframe thead th {\n",
       "        text-align: right;\n",
       "    }\n",
       "</style>\n",
       "<table border=\"1\" class=\"dataframe\">\n",
       "  <thead>\n",
       "    <tr style=\"text-align: right;\">\n",
       "      <th></th>\n",
       "      <th>Method</th>\n",
       "      <th>MAPE</th>\n",
       "    </tr>\n",
       "  </thead>\n",
       "  <tbody>\n",
       "    <tr>\n",
       "      <th>0</th>\n",
       "      <td>Simple Exponential Smoothing</td>\n",
       "      <td>15.99</td>\n",
       "    </tr>\n",
       "    <tr>\n",
       "      <th>1</th>\n",
       "      <td>Holt's Exponential Smoothing</td>\n",
       "      <td>14.64</td>\n",
       "    </tr>\n",
       "    <tr>\n",
       "      <th>2</th>\n",
       "      <td>Holt Winter's Additive Exponential Smoothing</td>\n",
       "      <td>13.02</td>\n",
       "    </tr>\n",
       "    <tr>\n",
       "      <th>3</th>\n",
       "      <td>Holt Winter's Multiplicative Exponential Smoot...</td>\n",
       "      <td>17.17</td>\n",
       "    </tr>\n",
       "    <tr>\n",
       "      <th>4</th>\n",
       "      <td>AR Method</td>\n",
       "      <td>13.55</td>\n",
       "    </tr>\n",
       "    <tr>\n",
       "      <th>5</th>\n",
       "      <td>MA Method</td>\n",
       "      <td>33.95</td>\n",
       "    </tr>\n",
       "  </tbody>\n",
       "</table>\n",
       "</div>"
      ],
      "text/plain": [
       "                                              Method   MAPE\n",
       "0                       Simple Exponential Smoothing  15.99\n",
       "1                       Holt's Exponential Smoothing  14.64\n",
       "2       Holt Winter's Additive Exponential Smoothing  13.02\n",
       "3  Holt Winter's Multiplicative Exponential Smoot...  17.17\n",
       "4                                          AR Method  13.55\n",
       "5                                          MA Method  33.95"
      ]
     },
     "execution_count": 80,
     "metadata": {},
     "output_type": "execute_result"
    }
   ],
   "source": [
    "result=pd.concat([result,temp_result],axis=0,ignore_index=True)\n",
    "result"
   ]
  },
  {
   "cell_type": "code",
   "execution_count": null,
   "id": "ad2d0d58",
   "metadata": {
    "id": "ad2d0d58"
   },
   "outputs": [],
   "source": []
  },
  {
   "cell_type": "markdown",
   "id": "ce8a2a1b",
   "metadata": {
    "id": "ce8a2a1b"
   },
   "source": [
    "#### ARMA method"
   ]
  },
  {
   "cell_type": "code",
   "execution_count": 81,
   "id": "f3223624",
   "metadata": {
    "colab": {
     "base_uri": "https://localhost:8080/"
    },
    "id": "f3223624",
    "outputId": "f25c5cfb-824f-4350-e4b1-5a98e8677d4f"
   },
   "outputs": [
    {
     "data": {
      "text/plain": [
       "const     0.021465\n",
       "ar.L1     0.074610\n",
       "ma.L1    -0.999936\n",
       "sigma2    0.079225\n",
       "dtype: float64"
      ]
     },
     "execution_count": 81,
     "metadata": {},
     "output_type": "execute_result"
    }
   ],
   "source": [
    "model4=ARIMA(train_boxcox_diff,order=(1,0,1))\n",
    "model4_fit=model4.fit()\n",
    "model4_fit.params"
   ]
  },
  {
   "cell_type": "code",
   "execution_count": 82,
   "id": "0509d2b1",
   "metadata": {
    "id": "0509d2b1"
   },
   "outputs": [],
   "source": [
    "y_hat_arma=data_boxcox_diff.copy()\n",
    "y_hat_arma[\"arma_boxcox_diff\"]=model4_fit.predict(data_boxcox_diff.index.min(),data_boxcox_diff.index.max())\n",
    "y_hat_arma[\"arma_boxcox\"]=y_hat_arma[\"arma_boxcox_diff\"].cumsum()\n",
    "y_hat_arma[\"arma_boxcox\"]=y_hat_arma[\"arma_boxcox\"].add(data_boxcox[0])\n",
    "y_hat_arma[\"arma_forecast\"]=np.exp(y_hat_arma[\"arma_boxcox\"])"
   ]
  },
  {
   "cell_type": "code",
   "execution_count": 83,
   "id": "b1cd03fe",
   "metadata": {
    "colab": {
     "base_uri": "https://localhost:8080/",
     "height": 281
    },
    "id": "b1cd03fe",
    "outputId": "d8763a85-f20d-410c-ceb6-f37ca90635fa"
   },
   "outputs": [
    {
     "data": {
      "image/png": "[encoded data removed]",
      "text/plain": [
       "<Figure size 864x288 with 1 Axes>"
      ]
     },
     "metadata": {
      "needs_background": "light"
     },
     "output_type": "display_data"
    }
   ],
   "source": [
    "plt.figure(figsize=[12,4])\n",
    "plt.plot(train_new[\"Sales\"],label=\"Train\")\n",
    "plt.plot(test_new[\"Sales\"],label=\"Test\")\n",
    "plt.plot(y_hat_arma[\"arma_forecast\"][test_new.index.min():],label=\"ARMA Method\")\n",
    "plt.legend(loc=\"best\")\n",
    "plt.title(\"ARMA Method\")\n",
    "plt.show()"
   ]
  },
  {
   "cell_type": "code",
   "execution_count": 84,
   "id": "d2d8ee62",
   "metadata": {
    "colab": {
     "base_uri": "https://localhost:8080/",
     "height": 81
    },
    "id": "d2d8ee62",
    "outputId": "79d54ccd-1caa-46e5-b46b-8c5b48d776b5"
   },
   "outputs": [
    {
     "data": {
      "text/html": [
       "<div>\n",
       "<style scoped>\n",
       "    .dataframe tbody tr th:only-of-type {\n",
       "        vertical-align: middle;\n",
       "    }\n",
       "\n",
       "    .dataframe tbody tr th {\n",
       "        vertical-align: top;\n",
       "    }\n",
       "\n",
       "    .dataframe thead th {\n",
       "        text-align: right;\n",
       "    }\n",
       "</style>\n",
       "<table border=\"1\" class=\"dataframe\">\n",
       "  <thead>\n",
       "    <tr style=\"text-align: right;\">\n",
       "      <th></th>\n",
       "      <th>Method</th>\n",
       "      <th>MAPE</th>\n",
       "    </tr>\n",
       "  </thead>\n",
       "  <tbody>\n",
       "    <tr>\n",
       "      <th>0</th>\n",
       "      <td>ARMA Method</td>\n",
       "      <td>32.41</td>\n",
       "    </tr>\n",
       "  </tbody>\n",
       "</table>\n",
       "</div>"
      ],
      "text/plain": [
       "        Method   MAPE\n",
       "0  ARMA Method  32.41"
      ]
     },
     "execution_count": 84,
     "metadata": {},
     "output_type": "execute_result"
    }
   ],
   "source": [
    "MAPE7=np.round((abs(test_new[\"Sales\"]-y_hat_arma[\"arma_forecast\"][test_new.index.min():])/test_new[\"Sales\"]*100).mean(),2)\n",
    "temp_result=pd.DataFrame({\"Method\":[\"ARMA Method\"],\"MAPE\":[MAPE7]})\n",
    "temp_result"
   ]
  },
  {
   "cell_type": "code",
   "execution_count": 85,
   "id": "59ffd7f0",
   "metadata": {
    "colab": {
     "base_uri": "https://localhost:8080/",
     "height": 269
    },
    "id": "59ffd7f0",
    "outputId": "c22562ad-0c8f-4b6a-ffff-8933e175a6c0"
   },
   "outputs": [
    {
     "data": {
      "text/html": [
       "<div>\n",
       "<style scoped>\n",
       "    .dataframe tbody tr th:only-of-type {\n",
       "        vertical-align: middle;\n",
       "    }\n",
       "\n",
       "    .dataframe tbody tr th {\n",
       "        vertical-align: top;\n",
       "    }\n",
       "\n",
       "    .dataframe thead th {\n",
       "        text-align: right;\n",
       "    }\n",
       "</style>\n",
       "<table border=\"1\" class=\"dataframe\">\n",
       "  <thead>\n",
       "    <tr style=\"text-align: right;\">\n",
       "      <th></th>\n",
       "      <th>Method</th>\n",
       "      <th>MAPE</th>\n",
       "    </tr>\n",
       "  </thead>\n",
       "  <tbody>\n",
       "    <tr>\n",
       "      <th>0</th>\n",
       "      <td>Simple Exponential Smoothing</td>\n",
       "      <td>15.99</td>\n",
       "    </tr>\n",
       "    <tr>\n",
       "      <th>1</th>\n",
       "      <td>Holt's Exponential Smoothing</td>\n",
       "      <td>14.64</td>\n",
       "    </tr>\n",
       "    <tr>\n",
       "      <th>2</th>\n",
       "      <td>Holt Winter's Additive Exponential Smoothing</td>\n",
       "      <td>13.02</td>\n",
       "    </tr>\n",
       "    <tr>\n",
       "      <th>3</th>\n",
       "      <td>Holt Winter's Multiplicative Exponential Smoot...</td>\n",
       "      <td>17.17</td>\n",
       "    </tr>\n",
       "    <tr>\n",
       "      <th>4</th>\n",
       "      <td>AR Method</td>\n",
       "      <td>13.55</td>\n",
       "    </tr>\n",
       "    <tr>\n",
       "      <th>5</th>\n",
       "      <td>MA Method</td>\n",
       "      <td>33.95</td>\n",
       "    </tr>\n",
       "    <tr>\n",
       "      <th>6</th>\n",
       "      <td>ARMA Method</td>\n",
       "      <td>32.41</td>\n",
       "    </tr>\n",
       "  </tbody>\n",
       "</table>\n",
       "</div>"
      ],
      "text/plain": [
       "                                              Method   MAPE\n",
       "0                       Simple Exponential Smoothing  15.99\n",
       "1                       Holt's Exponential Smoothing  14.64\n",
       "2       Holt Winter's Additive Exponential Smoothing  13.02\n",
       "3  Holt Winter's Multiplicative Exponential Smoot...  17.17\n",
       "4                                          AR Method  13.55\n",
       "5                                          MA Method  33.95\n",
       "6                                        ARMA Method  32.41"
      ]
     },
     "execution_count": 85,
     "metadata": {},
     "output_type": "execute_result"
    }
   ],
   "source": [
    "result=pd.concat([result,temp_result],axis=0,ignore_index=True)\n",
    "result"
   ]
  },
  {
   "cell_type": "code",
   "execution_count": null,
   "id": "3186bd22",
   "metadata": {
    "id": "3186bd22"
   },
   "outputs": [],
   "source": []
  },
  {
   "cell_type": "markdown",
   "id": "d2260b94",
   "metadata": {
    "id": "d2260b94"
   },
   "source": [
    "### ARIMA Method"
   ]
  },
  {
   "cell_type": "code",
   "execution_count": 86,
   "id": "25d1ccb5",
   "metadata": {
    "colab": {
     "base_uri": "https://localhost:8080/"
    },
    "id": "25d1ccb5",
    "outputId": "6075fe29-9dda-4eaf-8ae1-2fa7754ba544"
   },
   "outputs": [
    {
     "data": {
      "text/plain": [
       "ar.L1     0.113931\n",
       "ma.L1    -0.793406\n",
       "sigma2    0.101984\n",
       "dtype: float64"
      ]
     },
     "execution_count": 86,
     "metadata": {},
     "output_type": "execute_result"
    }
   ],
   "source": [
    "model=ARIMA(train_boxcox,order=(1,1,1))\n",
    "model_fit=model.fit()\n",
    "model_fit.params"
   ]
  },
  {
   "cell_type": "code",
   "execution_count": 87,
   "id": "EfY7Y7ZAiQDr",
   "metadata": {
    "id": "EfY7Y7ZAiQDr"
   },
   "outputs": [],
   "source": [
    "y_hat_arima=data_boxcox_diff.copy()\n",
    "y_hat_arima[\"arima_boxcox\"]=model_fit.predict(data_boxcox_diff.index.min(),data_boxcox_diff.index.max())\n",
    "y_hat_arima[\"arima_forecast\"]=np.exp(y_hat_arima[\"arima_boxcox\"])"
   ]
  },
  {
   "cell_type": "code",
   "execution_count": 88,
   "id": "cbde9841",
   "metadata": {
    "colab": {
     "base_uri": "https://localhost:8080/",
     "height": 281
    },
    "id": "cbde9841",
    "outputId": "b57e0e43-c336-48c8-bed8-c781f828173a"
   },
   "outputs": [
    {
     "data": {
      "image/png": "[encoded data removed]",
      "text/plain": [
       "<Figure size 864x288 with 1 Axes>"
      ]
     },
     "metadata": {
      "needs_background": "light"
     },
     "output_type": "display_data"
    }
   ],
   "source": [
    "plt.figure(figsize=[12,4])\n",
    "plt.plot(train_new[\"Sales\"],label=\"Train\")\n",
    "plt.plot(test_new[\"Sales\"],label=\"Test\")\n",
    "plt.plot(y_hat_arima[\"arima_forecast\"][test_new.index.min():],label=\"ARIMA Method\")\n",
    "plt.legend(loc=\"best\")\n",
    "plt.title(\"ARIMA Method\")\n",
    "plt.show()"
   ]
  },
  {
   "cell_type": "code",
   "execution_count": 89,
   "id": "7acb408d",
   "metadata": {
    "colab": {
     "base_uri": "https://localhost:8080/",
     "height": 81
    },
    "id": "7acb408d",
    "outputId": "a598fa09-ec22-4f5f-f1df-778951edf197"
   },
   "outputs": [
    {
     "data": {
      "text/html": [
       "<div>\n",
       "<style scoped>\n",
       "    .dataframe tbody tr th:only-of-type {\n",
       "        vertical-align: middle;\n",
       "    }\n",
       "\n",
       "    .dataframe tbody tr th {\n",
       "        vertical-align: top;\n",
       "    }\n",
       "\n",
       "    .dataframe thead th {\n",
       "        text-align: right;\n",
       "    }\n",
       "</style>\n",
       "<table border=\"1\" class=\"dataframe\">\n",
       "  <thead>\n",
       "    <tr style=\"text-align: right;\">\n",
       "      <th></th>\n",
       "      <th>Method</th>\n",
       "      <th>MAPE</th>\n",
       "    </tr>\n",
       "  </thead>\n",
       "  <tbody>\n",
       "    <tr>\n",
       "      <th>0</th>\n",
       "      <td>ARIMA Method</td>\n",
       "      <td>16.61</td>\n",
       "    </tr>\n",
       "  </tbody>\n",
       "</table>\n",
       "</div>"
      ],
      "text/plain": [
       "         Method   MAPE\n",
       "0  ARIMA Method  16.61"
      ]
     },
     "execution_count": 89,
     "metadata": {},
     "output_type": "execute_result"
    }
   ],
   "source": [
    "MAPE8=np.round((abs(test_new[\"Sales\"]-y_hat_arima[\"arima_forecast\"][test_new.index.min():])/test_new[\"Sales\"]*100).mean(),2)\n",
    "temp_result=pd.DataFrame({\"Method\":[\"ARIMA Method\"],\"MAPE\":[MAPE8]})\n",
    "temp_result"
   ]
  },
  {
   "cell_type": "code",
   "execution_count": 90,
   "id": "d786a7ee",
   "metadata": {
    "colab": {
     "base_uri": "https://localhost:8080/",
     "height": 300
    },
    "id": "d786a7ee",
    "outputId": "a1095384-a7f1-451b-83d2-6cff8a652494",
    "scrolled": true
   },
   "outputs": [
    {
     "data": {
      "text/html": [
       "<div>\n",
       "<style scoped>\n",
       "    .dataframe tbody tr th:only-of-type {\n",
       "        vertical-align: middle;\n",
       "    }\n",
       "\n",
       "    .dataframe tbody tr th {\n",
       "        vertical-align: top;\n",
       "    }\n",
       "\n",
       "    .dataframe thead th {\n",
       "        text-align: right;\n",
       "    }\n",
       "</style>\n",
       "<table border=\"1\" class=\"dataframe\">\n",
       "  <thead>\n",
       "    <tr style=\"text-align: right;\">\n",
       "      <th></th>\n",
       "      <th>Method</th>\n",
       "      <th>MAPE</th>\n",
       "    </tr>\n",
       "  </thead>\n",
       "  <tbody>\n",
       "    <tr>\n",
       "      <th>0</th>\n",
       "      <td>Simple Exponential Smoothing</td>\n",
       "      <td>15.99</td>\n",
       "    </tr>\n",
       "    <tr>\n",
       "      <th>1</th>\n",
       "      <td>Holt's Exponential Smoothing</td>\n",
       "      <td>14.64</td>\n",
       "    </tr>\n",
       "    <tr>\n",
       "      <th>2</th>\n",
       "      <td>Holt Winter's Additive Exponential Smoothing</td>\n",
       "      <td>13.02</td>\n",
       "    </tr>\n",
       "    <tr>\n",
       "      <th>3</th>\n",
       "      <td>Holt Winter's Multiplicative Exponential Smoot...</td>\n",
       "      <td>17.17</td>\n",
       "    </tr>\n",
       "    <tr>\n",
       "      <th>4</th>\n",
       "      <td>AR Method</td>\n",
       "      <td>13.55</td>\n",
       "    </tr>\n",
       "    <tr>\n",
       "      <th>5</th>\n",
       "      <td>MA Method</td>\n",
       "      <td>33.95</td>\n",
       "    </tr>\n",
       "    <tr>\n",
       "      <th>6</th>\n",
       "      <td>ARMA Method</td>\n",
       "      <td>32.41</td>\n",
       "    </tr>\n",
       "    <tr>\n",
       "      <th>7</th>\n",
       "      <td>ARIMA Method</td>\n",
       "      <td>16.61</td>\n",
       "    </tr>\n",
       "  </tbody>\n",
       "</table>\n",
       "</div>"
      ],
      "text/plain": [
       "                                              Method   MAPE\n",
       "0                       Simple Exponential Smoothing  15.99\n",
       "1                       Holt's Exponential Smoothing  14.64\n",
       "2       Holt Winter's Additive Exponential Smoothing  13.02\n",
       "3  Holt Winter's Multiplicative Exponential Smoot...  17.17\n",
       "4                                          AR Method  13.55\n",
       "5                                          MA Method  33.95\n",
       "6                                        ARMA Method  32.41\n",
       "7                                       ARIMA Method  16.61"
      ]
     },
     "execution_count": 90,
     "metadata": {},
     "output_type": "execute_result"
    }
   ],
   "source": [
    "result=pd.concat([result,temp_result],axis=0,ignore_index=True)\n",
    "result"
   ]
  },
  {
   "cell_type": "markdown",
   "id": "947b4e23",
   "metadata": {
    "id": "947b4e23"
   },
   "source": [
    "#### SARIMA Method"
   ]
  },
  {
   "cell_type": "code",
   "execution_count": 91,
   "id": "e5a97528",
   "metadata": {
    "id": "e5a97528"
   },
   "outputs": [],
   "source": [
    "### Importing the libraries\n",
    "from statsmodels.tsa.statespace.sarimax import SARIMAX"
   ]
  },
  {
   "cell_type": "markdown",
   "id": "5cef4b4f",
   "metadata": {
    "id": "5cef4b4f"
   },
   "source": [
    "### Taking p=1,d=1,q=1 according to the Problem statement. We still have to find the other seasonal order parameters"
   ]
  },
  {
   "cell_type": "code",
   "execution_count": 92,
   "id": "15d5ae67",
   "metadata": {
    "id": "15d5ae67"
   },
   "outputs": [],
   "source": [
    "import itertools"
   ]
  },
  {
   "cell_type": "code",
   "execution_count": 93,
   "id": "a1441bdd",
   "metadata": {
    "id": "a1441bdd"
   },
   "outputs": [],
   "source": [
    "p=q=d=range(3)\n",
    "### WE will limit possible values of seasonal_order parameters within a combination of 0,1,2. Freq here is 12\n",
    "\n",
    "seasonal=[(x[0],x[1],x[2],12) for x in list(itertools.product(p,q,d))]"
   ]
  },
  {
   "cell_type": "code",
   "execution_count": 94,
   "id": "c59eccc7",
   "metadata": {
    "colab": {
     "base_uri": "https://localhost:8080/"
    },
    "id": "c59eccc7",
    "outputId": "5e552a38-b471-4810-8da0-b7d363e2f2e8",
    "scrolled": true
   },
   "outputs": [
    {
     "name": "stdout",
     "output_type": "stream",
     "text": [
      "RUNNING THE L-BFGS-B CODE\n",
      "\n",
      "           * * *\n",
      "\n",
      "Machine precision = 2.220D-16\n",
      " N =            3     M =           10\n",
      "\n",
      "At X0         0 variables are exactly at the bounds\n",
      "\n",
      "At iterate    0    f=  3.07395D-01    |proj g|=  1.08727D-01\n",
      "\n",
      "At iterate    5    f=  2.92601D-01    |proj g|=  8.28533D-02\n",
      "\n",
      "At iterate   10    f=  2.80596D-01    |proj g|=  4.63946D-04\n",
      "\n",
      "           * * *\n",
      "\n",
      "Tit   = total number of iterations\n",
      "Tnf   = total number of function evaluations\n",
      "Tnint = total number of segments explored during Cauchy searches\n",
      "Skip  = number of BFGS updates skipped\n",
      "Nact  = number of active bounds at final generalized Cauchy point\n",
      "Projg = norm of the final projected gradient\n",
      "F     = final function value\n",
      "\n",
      "           * * *\n",
      "\n",
      "   N    Tit     Tnf  Tnint  Skip  Nact     Projg        F\n",
      "    3     12     14      1     0     0   1.074D-05   2.806D-01\n",
      "  F =  0.28059572209938993     \n",
      "\n",
      "CONVERGENCE: REL_REDUCTION_OF_F_<=_FACTR*EPSMCH             \n",
      "RUNNING THE L-BFGS-B CODE\n",
      "\n",
      "           * * *\n",
      "\n",
      "Machine precision = 2.220D-16\n",
      " N =            4     M =           10\n",
      "\n",
      "At X0         0 variables are exactly at the bounds\n",
      "\n",
      "At iterate    0    f=  3.07395D-01    |proj g|=  3.04755D-01\n",
      "\n",
      "At iterate    5    f=  2.27172D-01    |proj g|=  3.73974D-02\n",
      "\n",
      "At iterate   10    f=  2.18030D-01    |proj g|=  7.44772D-03\n",
      "\n",
      "           * * *\n",
      "\n",
      "Tit   = total number of iterations\n",
      "Tnf   = total number of function evaluations\n",
      "Tnint = total number of segments explored during Cauchy searches\n",
      "Skip  = number of BFGS updates skipped\n",
      "Nact  = number of active bounds at final generalized Cauchy point\n",
      "Projg = norm of the final projected gradient\n",
      "F     = final function value\n",
      "\n",
      "           * * *\n",
      "\n",
      "   N    Tit     Tnf  Tnint  Skip  Nact     Projg        F\n",
      "    4     13     15      1     0     0   4.192D-06   2.180D-01\n",
      "  F =  0.21802202521591724     \n",
      "\n",
      "CONVERGENCE: NORM_OF_PROJECTED_GRADIENT_<=_PGTOL            \n",
      "RUNNING THE L-BFGS-B CODE\n",
      "\n",
      "           * * *\n",
      "\n",
      "Machine precision = 2.220D-16\n",
      " N =            5     M =           10\n",
      "\n",
      "At X0         0 variables are exactly at the bounds\n",
      "\n",
      "At iterate    0    f=  3.07395D-01    |proj g|=  3.04755D-01\n",
      "\n",
      "At iterate    5    f=  2.27882D-01    |proj g|=  5.32908D-02\n"
     ]
    },
    {
     "name": "stderr",
     "output_type": "stream",
     "text": [
      " This problem is unconstrained.\n",
      "/Users/chinmayerande/opt/anaconda3/lib/python3.9/site-packages/statsmodels/tsa/statespace/sarimax.py:1009: UserWarning: Non-invertible starting seasonal moving average Using zeros as starting parameters.\n",
      "  warn('Non-invertible starting seasonal moving average'\n",
      " This problem is unconstrained.\n",
      "/Users/chinmayerande/opt/anaconda3/lib/python3.9/site-packages/statsmodels/tsa/statespace/sarimax.py:866: UserWarning: Too few observations to estimate starting parameters for seasonal ARMA. All parameters except for variances will be set to zeros.\n",
      "  warn('Too few observations to estimate starting parameters%s.'\n",
      " This problem is unconstrained.\n"
     ]
    },
    {
     "name": "stdout",
     "output_type": "stream",
     "text": [
      "\n",
      "At iterate   10    f=  2.16476D-01    |proj g|=  1.59795D-02\n",
      "\n",
      "At iterate   15    f=  2.15693D-01    |proj g|=  1.02733D-02\n",
      "\n",
      "           * * *\n",
      "\n",
      "Tit   = total number of iterations\n",
      "Tnf   = total number of function evaluations\n",
      "Tnint = total number of segments explored during Cauchy searches\n",
      "Skip  = number of BFGS updates skipped\n",
      "Nact  = number of active bounds at final generalized Cauchy point\n",
      "Projg = norm of the final projected gradient\n",
      "F     = final function value\n",
      "\n",
      "           * * *\n",
      "\n",
      "   N    Tit     Tnf  Tnint  Skip  Nact     Projg        F\n",
      "    5     19     22      1     0     0   1.596D-05   2.157D-01\n",
      "  F =  0.21566657702305891     \n",
      "\n",
      "CONVERGENCE: REL_REDUCTION_OF_F_<=_FACTR*EPSMCH             \n",
      "RUNNING THE L-BFGS-B CODE\n",
      "\n",
      "           * * *\n",
      "\n",
      "Machine precision = 2.220D-16\n",
      " N =            3     M =           10\n",
      "\n",
      "At X0         0 variables are exactly at the bounds\n",
      "\n",
      "At iterate    0    f=  3.34913D-01    |proj g|=  1.42437D-01\n",
      "\n",
      "At iterate    5    f=  2.64407D-01    |proj g|=  3.97189D-02\n",
      "\n",
      "At iterate   10    f=  2.57806D-01    |proj g|=  3.76213D-03\n",
      "\n",
      "At iterate   15    f=  2.57090D-01    |proj g|=  1.61793D-03\n"
     ]
    },
    {
     "name": "stderr",
     "output_type": "stream",
     "text": [
      " This problem is unconstrained.\n",
      " This problem is unconstrained.\n"
     ]
    },
    {
     "name": "stdout",
     "output_type": "stream",
     "text": [
      "\n",
      "At iterate   20    f=  2.57056D-01    |proj g|=  2.96223D-03\n",
      "\n",
      "At iterate   25    f=  2.57020D-01    |proj g|=  1.59609D-04\n",
      "\n",
      "           * * *\n",
      "\n",
      "Tit   = total number of iterations\n",
      "Tnf   = total number of function evaluations\n",
      "Tnint = total number of segments explored during Cauchy searches\n",
      "Skip  = number of BFGS updates skipped\n",
      "Nact  = number of active bounds at final generalized Cauchy point\n",
      "Projg = norm of the final projected gradient\n",
      "F     = final function value\n",
      "\n",
      "           * * *\n",
      "\n",
      "   N    Tit     Tnf  Tnint  Skip  Nact     Projg        F\n",
      "    3     27     39      1     0     0   3.429D-04   2.570D-01\n",
      "  F =  0.25702010223343907     \n",
      "\n",
      "CONVERGENCE: REL_REDUCTION_OF_F_<=_FACTR*EPSMCH             \n",
      "RUNNING THE L-BFGS-B CODE\n",
      "\n",
      "           * * *\n",
      "\n",
      "Machine precision = 2.220D-16\n",
      " N =            4     M =           10\n",
      "\n",
      "At X0         0 variables are exactly at the bounds\n",
      "\n",
      "At iterate    0    f=  3.34913D-01    |proj g|=  1.78819D-01\n",
      "\n",
      "At iterate    5    f=  2.61956D-01    |proj g|=  1.08100D-01\n",
      "\n",
      "At iterate   10    f=  1.98975D-01    |proj g|=  1.82161D-01\n",
      "\n",
      "At iterate   15    f=  1.92219D-01    |proj g|=  1.01798D-02\n",
      "\n",
      "At iterate   20    f=  1.91736D-01    |proj g|=  3.55609D-02\n",
      "\n",
      "At iterate   25    f=  1.91694D-01    |proj g|=  1.79368D-03\n",
      "\n",
      "           * * *\n",
      "\n",
      "Tit   = total number of iterations\n",
      "Tnf   = total number of function evaluations\n",
      "Tnint = total number of segments explored during Cauchy searches\n",
      "Skip  = number of BFGS updates skipped\n",
      "Nact  = number of active bounds at final generalized Cauchy point\n",
      "Projg = norm of the final projected gradient\n",
      "F     = final function value\n",
      "\n",
      "           * * *\n",
      "\n",
      "   N    Tit     Tnf  Tnint  Skip  Nact     Projg        F\n",
      "    4     28     70      2     0     0   3.492D-05   1.917D-01\n",
      "  F =  0.19169424614413419     \n",
      "\n",
      "CONVERGENCE: REL_REDUCTION_OF_F_<=_FACTR*EPSMCH             \n"
     ]
    },
    {
     "name": "stderr",
     "output_type": "stream",
     "text": [
      "\n",
      " Bad direction in the line search;\n",
      "   refresh the lbfgs memory and restart the iteration.\n",
      "\n",
      " Warning:  more than 10 function and gradient\n",
      "   evaluations in the last line search.  Termination\n",
      "   may possibly be caused by a bad search direction.\n",
      " This problem is unconstrained.\n"
     ]
    },
    {
     "name": "stdout",
     "output_type": "stream",
     "text": [
      "RUNNING THE L-BFGS-B CODE\n",
      "\n",
      "           * * *\n",
      "\n",
      "Machine precision = 2.220D-16\n",
      " N =            5     M =           10\n",
      "\n",
      "At X0         0 variables are exactly at the bounds\n",
      "\n",
      "At iterate    0    f=  3.34913D-01    |proj g|=  1.78819D-01\n",
      "\n",
      "At iterate    5    f=  2.71492D-01    |proj g|=  5.39403D-02\n",
      "\n",
      "At iterate   10    f=  2.05205D-01    |proj g|=  9.75323D-02\n",
      "\n",
      "At iterate   15    f=  1.91828D-01    |proj g|=  1.51388D-02\n",
      "\n",
      "At iterate   20    f=  1.90391D-01    |proj g|=  1.39873D-02\n",
      "\n",
      "At iterate   25    f=  1.90234D-01    |proj g|=  2.09006D-03\n"
     ]
    },
    {
     "name": "stderr",
     "output_type": "stream",
     "text": [
      "\n",
      " Bad direction in the line search;\n",
      "   refresh the lbfgs memory and restart the iteration.\n",
      " This problem is unconstrained.\n",
      " This problem is unconstrained.\n"
     ]
    },
    {
     "name": "stdout",
     "output_type": "stream",
     "text": [
      "\n",
      "At iterate   30    f=  1.90223D-01    |proj g|=  8.32049D-04\n",
      "\n",
      "           * * *\n",
      "\n",
      "Tit   = total number of iterations\n",
      "Tnf   = total number of function evaluations\n",
      "Tnint = total number of segments explored during Cauchy searches\n",
      "Skip  = number of BFGS updates skipped\n",
      "Nact  = number of active bounds at final generalized Cauchy point\n",
      "Projg = norm of the final projected gradient\n",
      "F     = final function value\n",
      "\n",
      "           * * *\n",
      "\n",
      "   N    Tit     Tnf  Tnint  Skip  Nact     Projg        F\n",
      "    5     33     61      2     0     0   1.122D-04   1.902D-01\n",
      "  F =  0.19022316355809119     \n",
      "\n",
      "CONVERGENCE: REL_REDUCTION_OF_F_<=_FACTR*EPSMCH             \n",
      "RUNNING THE L-BFGS-B CODE\n",
      "\n",
      "           * * *\n",
      "\n",
      "Machine precision = 2.220D-16\n",
      " N =            3     M =           10\n",
      "\n",
      "At X0         0 variables are exactly at the bounds\n",
      "\n",
      "At iterate    0    f=  4.00002D-01    |proj g|=  2.22280D-02\n",
      "\n",
      "At iterate    5    f=  3.99737D-01    |proj g|=  4.21386D-03\n",
      "\n",
      "           * * *\n",
      "\n",
      "Tit   = total number of iterations\n",
      "Tnf   = total number of function evaluations\n",
      "Tnint = total number of segments explored during Cauchy searches\n",
      "Skip  = number of BFGS updates skipped\n",
      "Nact  = number of active bounds at final generalized Cauchy point\n",
      "Projg = norm of the final projected gradient\n",
      "F     = final function value\n",
      "\n",
      "           * * *\n",
      "\n",
      "   N    Tit     Tnf  Tnint  Skip  Nact     Projg        F\n",
      "    3      8     10      1     0     0   8.520D-06   3.997D-01\n",
      "  F =  0.39967626670955569     \n",
      "\n",
      "CONVERGENCE: NORM_OF_PROJECTED_GRADIENT_<=_PGTOL            \n",
      "RUNNING THE L-BFGS-B CODE\n",
      "\n",
      "           * * *\n",
      "\n",
      "Machine precision = 2.220D-16\n",
      " N =            4     M =           10\n",
      "\n",
      "At X0         0 variables are exactly at the bounds\n",
      "\n",
      "At iterate    0    f=  4.00002D-01    |proj g|=  2.22280D-02\n",
      "\n",
      "At iterate    5    f=  3.99513D-01    |proj g|=  6.86753D-03\n",
      "\n",
      "At iterate   10    f=  3.98479D-01    |proj g|=  3.54369D-02\n",
      "\n",
      "At iterate   15    f=  3.81788D-01    |proj g|=  7.71870D-02\n",
      "\n",
      "At iterate   20    f=  3.76300D-01    |proj g|=  8.62629D-03\n",
      "\n",
      "At iterate   25    f=  3.75873D-01    |proj g|=  5.49600D-03\n",
      "\n",
      "At iterate   30    f=  3.75797D-01    |proj g|=  3.44843D-03\n",
      "\n",
      "At iterate   35    f=  3.75792D-01    |proj g|=  4.17307D-04\n",
      "\n",
      "           * * *\n",
      "\n",
      "Tit   = total number of iterations\n",
      "Tnf   = total number of function evaluations\n",
      "Tnint = total number of segments explored during Cauchy searches\n",
      "Skip  = number of BFGS updates skipped\n",
      "Nact  = number of active bounds at final generalized Cauchy point\n",
      "Projg = norm of the final projected gradient\n",
      "F     = final function value\n",
      "\n",
      "           * * *\n",
      "\n",
      "   N    Tit     Tnf  Tnint  Skip  Nact     Projg        F\n",
      "    4     36     62      1     0     0   6.921D-06   3.758D-01\n",
      "  F =  0.37579154161105027     \n",
      "\n",
      "CONVERGENCE: NORM_OF_PROJECTED_GRADIENT_<=_PGTOL            \n",
      "RUNNING THE L-BFGS-B CODE\n",
      "\n",
      "           * * *\n",
      "\n",
      "Machine precision = 2.220D-16\n",
      " N =            5     M =           10\n",
      "\n",
      "At X0         0 variables are exactly at the bounds\n",
      "\n",
      "At iterate    0    f=  4.00002D-01    |proj g|=  2.22280D-02\n"
     ]
    },
    {
     "name": "stderr",
     "output_type": "stream",
     "text": [
      " This problem is unconstrained.\n"
     ]
    },
    {
     "name": "stdout",
     "output_type": "stream",
     "text": [
      "\n",
      "At iterate    5    f=  3.99587D-01    |proj g|=  6.98930D-03\n",
      "\n",
      "At iterate   10    f=  3.98449D-01    |proj g|=  3.28781D-02\n",
      "\n",
      "At iterate   15    f=  3.86236D-01    |proj g|=  7.52737D-02\n",
      "\n",
      "At iterate   20    f=  3.76379D-01    |proj g|=  1.32485D-02\n",
      "\n",
      "At iterate   25    f=  3.75505D-01    |proj g|=  1.01147D-02\n",
      "\n",
      "At iterate   30    f=  3.75360D-01    |proj g|=  6.11803D-03\n",
      "\n",
      "At iterate   35    f=  3.75347D-01    |proj g|=  3.94679D-03\n",
      "\n",
      "At iterate   40    f=  3.75344D-01    |proj g|=  1.21266D-04\n",
      "\n",
      "           * * *\n",
      "\n",
      "Tit   = total number of iterations\n",
      "Tnf   = total number of function evaluations\n",
      "Tnint = total number of segments explored during Cauchy searches\n",
      "Skip  = number of BFGS updates skipped\n",
      "Nact  = number of active bounds at final generalized Cauchy point\n",
      "Projg = norm of the final projected gradient\n",
      "F     = final function value\n",
      "\n",
      "           * * *\n",
      "\n",
      "   N    Tit     Tnf  Tnint  Skip  Nact     Projg        F\n",
      "    5     40     71      1     0     0   1.213D-04   3.753D-01\n",
      "  F =  0.37534376229714478     \n",
      "\n",
      "CONVERGENCE: REL_REDUCTION_OF_F_<=_FACTR*EPSMCH             \n",
      "RUNNING THE L-BFGS-B CODE\n",
      "\n",
      "           * * *\n",
      "\n",
      "Machine precision = 2.220D-16\n",
      " N =            4     M =           10\n",
      "\n",
      "At X0         0 variables are exactly at the bounds\n",
      "\n",
      "At iterate    0    f=  2.55413D-01    |proj g|=  3.59659D-01\n",
      "\n",
      "At iterate    5    f=  2.25113D-01    |proj g|=  5.84481D-02\n",
      "\n",
      "At iterate   10    f=  2.12443D-01    |proj g|=  9.69959D-03\n",
      "\n",
      "At iterate   15    f=  2.12340D-01    |proj g|=  4.48105D-05\n",
      "\n",
      "           * * *\n",
      "\n",
      "Tit   = total number of iterations\n",
      "Tnf   = total number of function evaluations\n",
      "Tnint = total number of segments explored during Cauchy searches\n",
      "Skip  = number of BFGS updates skipped\n",
      "Nact  = number of active bounds at final generalized Cauchy point\n",
      "Projg = norm of the final projected gradient\n",
      "F     = final function value\n",
      "\n",
      "           * * *\n",
      "\n",
      "   N    Tit     Tnf  Tnint  Skip  Nact     Projg        F\n",
      "    4     15     24      1     0     0   4.481D-05   2.123D-01\n",
      "  F =  0.21234016779584236     \n",
      "\n",
      "CONVERGENCE: REL_REDUCTION_OF_F_<=_FACTR*EPSMCH             \n",
      "RUNNING THE L-BFGS-B CODE\n",
      "\n",
      "           * * *\n",
      "\n",
      "Machine precision = 2.220D-16\n",
      " N =            5     M =           10\n",
      "\n",
      "At X0         0 variables are exactly at the bounds\n",
      "\n",
      "At iterate    0    f=  4.46497D-01    |proj g|=  4.32655D-01\n"
     ]
    },
    {
     "name": "stderr",
     "output_type": "stream",
     "text": [
      " This problem is unconstrained.\n",
      " This problem is unconstrained.\n"
     ]
    },
    {
     "name": "stdout",
     "output_type": "stream",
     "text": [
      "\n",
      "At iterate    5    f=  2.25789D-01    |proj g|=  2.54210D-01\n",
      "\n",
      "At iterate   10    f=  2.14462D-01    |proj g|=  7.48657D-02\n",
      "\n",
      "At iterate   15    f=  2.07193D-01    |proj g|=  2.56652D-02\n",
      "\n",
      "At iterate   20    f=  2.07140D-01    |proj g|=  1.49040D-03\n",
      "\n",
      "At iterate   25    f=  2.07139D-01    |proj g|=  7.55860D-05\n",
      "\n",
      "           * * *\n",
      "\n",
      "Tit   = total number of iterations\n",
      "Tnf   = total number of function evaluations\n",
      "Tnint = total number of segments explored during Cauchy searches\n",
      "Skip  = number of BFGS updates skipped\n",
      "Nact  = number of active bounds at final generalized Cauchy point\n",
      "Projg = norm of the final projected gradient\n",
      "F     = final function value\n",
      "\n",
      "           * * *\n",
      "\n",
      "   N    Tit     Tnf  Tnint  Skip  Nact     Projg        F\n",
      "    5     27     36      1     0     0   5.919D-05   2.071D-01\n",
      "  F =  0.20713876826161456     \n",
      "\n",
      "CONVERGENCE: REL_REDUCTION_OF_F_<=_FACTR*EPSMCH             \n",
      "RUNNING THE L-BFGS-B CODE\n",
      "\n",
      "           * * *\n",
      "\n",
      "Machine precision = 2.220D-16\n",
      " N =            6     M =           10\n",
      "\n",
      "At X0         0 variables are exactly at the bounds\n",
      "\n",
      "At iterate    0    f=  3.07395D-01    |proj g|=  3.04765D-01\n"
     ]
    },
    {
     "name": "stderr",
     "output_type": "stream",
     "text": [
      " This problem is unconstrained.\n"
     ]
    },
    {
     "name": "stdout",
     "output_type": "stream",
     "text": [
      "\n",
      "At iterate    5    f=  2.27874D-01    |proj g|=  1.50032D-01\n",
      "\n",
      "At iterate   10    f=  2.14127D-01    |proj g|=  1.19587D-02\n",
      "\n",
      "At iterate   15    f=  2.13228D-01    |proj g|=  2.59996D-02\n",
      "\n",
      "At iterate   20    f=  2.11859D-01    |proj g|=  4.25758D-02\n",
      "\n",
      "At iterate   25    f=  2.07840D-01    |proj g|=  1.35620D-01\n",
      "\n",
      "At iterate   30    f=  2.06201D-01    |proj g|=  2.60279D-02\n",
      "\n",
      "At iterate   35    f=  2.05345D-01    |proj g|=  2.58980D-02\n",
      "\n",
      "At iterate   40    f=  2.05012D-01    |proj g|=  7.68723D-03\n",
      "\n",
      "At iterate   45    f=  2.04898D-01    |proj g|=  3.43145D-03\n",
      "\n",
      "At iterate   50    f=  2.04853D-01    |proj g|=  1.28510D-03\n",
      "\n",
      "           * * *\n",
      "\n",
      "Tit   = total number of iterations\n",
      "Tnf   = total number of function evaluations\n",
      "Tnint = total number of segments explored during Cauchy searches\n",
      "Skip  = number of BFGS updates skipped\n",
      "Nact  = number of active bounds at final generalized Cauchy point\n",
      "Projg = norm of the final projected gradient\n",
      "F     = final function value\n",
      "\n",
      "           * * *\n",
      "\n",
      "   N    Tit     Tnf  Tnint  Skip  Nact     Projg        F\n",
      "    6     50     59      1     0     0   1.285D-03   2.049D-01\n",
      "  F =  0.20485265870886932     \n",
      "\n",
      "STOP: TOTAL NO. of ITERATIONS REACHED LIMIT                 \n",
      "RUNNING THE L-BFGS-B CODE\n",
      "\n",
      "           * * *\n",
      "\n",
      "Machine precision = 2.220D-16\n",
      " N =            4     M =           10\n",
      "\n",
      "At X0         0 variables are exactly at the bounds\n",
      "\n",
      "At iterate    0    f=  2.96237D-01    |proj g|=  2.47928D-01\n",
      "\n",
      "At iterate    5    f=  2.62026D-01    |proj g|=  3.48974D-01\n"
     ]
    },
    {
     "name": "stderr",
     "output_type": "stream",
     "text": [
      "/Users/chinmayerande/opt/anaconda3/lib/python3.9/site-packages/statsmodels/base/model.py:604: ConvergenceWarning: Maximum Likelihood optimization failed to converge. Check mle_retvals\n",
      "  warnings.warn(\"Maximum Likelihood optimization failed to \"\n",
      " This problem is unconstrained.\n"
     ]
    },
    {
     "name": "stdout",
     "output_type": "stream",
     "text": [
      "\n",
      "At iterate   10    f=  2.03389D-01    |proj g|=  4.14097D-02\n",
      "\n",
      "At iterate   15    f=  2.01777D-01    |proj g|=  1.98979D-02\n",
      "\n",
      "At iterate   20    f=  2.01431D-01    |proj g|=  6.50208D-04\n",
      "\n",
      "           * * *\n",
      "\n",
      "Tit   = total number of iterations\n",
      "Tnf   = total number of function evaluations\n",
      "Tnint = total number of segments explored during Cauchy searches\n",
      "Skip  = number of BFGS updates skipped\n",
      "Nact  = number of active bounds at final generalized Cauchy point\n",
      "Projg = norm of the final projected gradient\n",
      "F     = final function value\n",
      "\n",
      "           * * *\n",
      "\n",
      "   N    Tit     Tnf  Tnint  Skip  Nact     Projg        F\n",
      "    4     23     41      1     0     0   1.136D-03   2.014D-01\n",
      "  F =  0.20138454909835635     \n",
      "\n",
      "CONVERGENCE: REL_REDUCTION_OF_F_<=_FACTR*EPSMCH             \n",
      "RUNNING THE L-BFGS-B CODE\n",
      "\n",
      "           * * *\n",
      "\n",
      "Machine precision = 2.220D-16\n",
      " N =            5     M =           10\n",
      "\n",
      "At X0         0 variables are exactly at the bounds\n",
      "\n",
      "At iterate    0    f=  3.34913D-01    |proj g|=  1.78819D-01\n"
     ]
    },
    {
     "name": "stderr",
     "output_type": "stream",
     "text": [
      " This problem is unconstrained.\n"
     ]
    },
    {
     "name": "stdout",
     "output_type": "stream",
     "text": [
      "\n",
      "At iterate    5    f=  2.69031D-01    |proj g|=  7.27611D-02\n",
      "\n",
      "At iterate   10    f=  2.01279D-01    |proj g|=  7.01077D-02\n",
      "\n",
      "At iterate   15    f=  1.91472D-01    |proj g|=  1.02376D-02\n",
      "\n",
      "At iterate   20    f=  1.90489D-01    |proj g|=  2.12881D-02\n",
      "\n",
      "At iterate   25    f=  1.90390D-01    |proj g|=  1.34952D-02\n",
      "\n",
      "At iterate   30    f=  1.90370D-01    |proj g|=  6.36236D-03\n",
      "\n",
      "At iterate   35    f=  1.90363D-01    |proj g|=  4.93617D-03\n",
      "\n",
      "           * * *\n",
      "\n",
      "Tit   = total number of iterations\n",
      "Tnf   = total number of function evaluations\n",
      "Tnint = total number of segments explored during Cauchy searches\n",
      "Skip  = number of BFGS updates skipped\n",
      "Nact  = number of active bounds at final generalized Cauchy point\n",
      "Projg = norm of the final projected gradient\n",
      "F     = final function value\n",
      "\n",
      "           * * *\n",
      "\n",
      "   N    Tit     Tnf  Tnint  Skip  Nact     Projg        F\n",
      "    5     38     57      1     0     0   4.938D-03   1.904D-01\n",
      "  F =  0.19035999025827702     \n",
      "\n",
      "CONVERGENCE: REL_REDUCTION_OF_F_<=_FACTR*EPSMCH             \n",
      "RUNNING THE L-BFGS-B CODE\n",
      "\n",
      "           * * *\n",
      "\n",
      "Machine precision = 2.220D-16\n",
      " N =            6     M =           10\n",
      "\n",
      "At X0         0 variables are exactly at the bounds\n",
      "\n",
      "At iterate    0    f=  3.34913D-01    |proj g|=  1.78819D-01\n",
      "\n",
      "At iterate    5    f=  2.65624D-01    |proj g|=  7.04250D-02\n"
     ]
    },
    {
     "name": "stderr",
     "output_type": "stream",
     "text": [
      " This problem is unconstrained.\n"
     ]
    },
    {
     "name": "stdout",
     "output_type": "stream",
     "text": [
      "\n",
      "At iterate   10    f=  2.10764D-01    |proj g|=  1.39766D-01\n",
      "\n",
      "At iterate   15    f=  1.91191D-01    |proj g|=  4.37873D-02\n",
      "\n",
      "At iterate   20    f=  1.89498D-01    |proj g|=  6.06123D-04\n",
      "\n",
      "At iterate   25    f=  1.89447D-01    |proj g|=  9.05691D-04\n",
      "\n",
      "At iterate   30    f=  1.89321D-01    |proj g|=  9.44643D-03\n",
      "\n",
      "At iterate   35    f=  1.89222D-01    |proj g|=  5.06635D-03\n",
      "\n",
      "At iterate   40    f=  1.89211D-01    |proj g|=  6.60867D-03\n",
      "\n",
      "At iterate   45    f=  1.89196D-01    |proj g|=  2.67107D-03\n"
     ]
    },
    {
     "name": "stderr",
     "output_type": "stream",
     "text": [
      "/Users/chinmayerande/opt/anaconda3/lib/python3.9/site-packages/statsmodels/base/model.py:604: ConvergenceWarning: Maximum Likelihood optimization failed to converge. Check mle_retvals\n",
      "  warnings.warn(\"Maximum Likelihood optimization failed to \"\n",
      " This problem is unconstrained.\n"
     ]
    },
    {
     "name": "stdout",
     "output_type": "stream",
     "text": [
      "\n",
      "At iterate   50    f=  1.89196D-01    |proj g|=  1.72988D-05\n",
      "\n",
      "           * * *\n",
      "\n",
      "Tit   = total number of iterations\n",
      "Tnf   = total number of function evaluations\n",
      "Tnint = total number of segments explored during Cauchy searches\n",
      "Skip  = number of BFGS updates skipped\n",
      "Nact  = number of active bounds at final generalized Cauchy point\n",
      "Projg = norm of the final projected gradient\n",
      "F     = final function value\n",
      "\n",
      "           * * *\n",
      "\n",
      "   N    Tit     Tnf  Tnint  Skip  Nact     Projg        F\n",
      "    6     50     76      1     0     0   1.730D-05   1.892D-01\n",
      "  F =  0.18919616599813419     \n",
      "\n",
      "STOP: TOTAL NO. of ITERATIONS REACHED LIMIT                 \n",
      "RUNNING THE L-BFGS-B CODE\n",
      "\n",
      "           * * *\n",
      "\n",
      "Machine precision = 2.220D-16\n",
      " N =            4     M =           10\n",
      "\n",
      "At X0         0 variables are exactly at the bounds\n",
      "\n",
      "At iterate    0    f=  3.99984D-01    |proj g|=  2.23160D-02\n",
      "\n",
      "At iterate    5    f=  3.99512D-01    |proj g|=  6.68248D-03\n",
      "\n",
      "At iterate   10    f=  3.98237D-01    |proj g|=  3.49858D-02\n",
      "\n",
      "At iterate   15    f=  3.80727D-01    |proj g|=  1.02876D-02\n",
      "\n",
      "At iterate   20    f=  3.75669D-01    |proj g|=  3.45129D-03\n",
      "\n",
      "At iterate   25    f=  3.75381D-01    |proj g|=  8.94959D-03\n",
      "\n",
      "At iterate   30    f=  3.75349D-01    |proj g|=  6.98802D-05\n",
      "\n",
      "At iterate   35    f=  3.75348D-01    |proj g|=  9.56431D-05\n",
      "\n",
      "           * * *\n",
      "\n",
      "Tit   = total number of iterations\n",
      "Tnf   = total number of function evaluations\n",
      "Tnint = total number of segments explored during Cauchy searches\n",
      "Skip  = number of BFGS updates skipped\n",
      "Nact  = number of active bounds at final generalized Cauchy point\n",
      "Projg = norm of the final projected gradient\n",
      "F     = final function value\n",
      "\n",
      "           * * *\n",
      "\n",
      "   N    Tit     Tnf  Tnint  Skip  Nact     Projg        F\n",
      "    4     36     58      1     0     0   1.103D-04   3.753D-01\n",
      "  F =  0.37534816742819704     \n",
      "\n",
      "CONVERGENCE: REL_REDUCTION_OF_F_<=_FACTR*EPSMCH             \n",
      "RUNNING THE L-BFGS-B CODE\n",
      "\n",
      "           * * *\n",
      "\n",
      "Machine precision = 2.220D-16\n",
      " N =            5     M =           10\n",
      "\n",
      "At X0         0 variables are exactly at the bounds\n",
      "\n",
      "At iterate    0    f=  4.00002D-01    |proj g|=  2.22280D-02\n"
     ]
    },
    {
     "name": "stderr",
     "output_type": "stream",
     "text": [
      " This problem is unconstrained.\n"
     ]
    },
    {
     "name": "stdout",
     "output_type": "stream",
     "text": [
      "\n",
      "At iterate    5    f=  3.99461D-01    |proj g|=  5.55934D-03\n",
      "\n",
      "At iterate   10    f=  3.97926D-01    |proj g|=  4.83269D-02\n",
      "\n",
      "At iterate   15    f=  3.79598D-01    |proj g|=  3.48452D-02\n",
      "\n",
      "At iterate   20    f=  3.75708D-01    |proj g|=  8.01708D-03\n",
      "\n",
      "At iterate   25    f=  3.75372D-01    |proj g|=  7.66097D-04\n",
      "\n",
      "At iterate   30    f=  3.75359D-01    |proj g|=  4.39039D-04\n",
      "\n",
      "At iterate   35    f=  3.75358D-01    |proj g|=  1.27038D-03\n",
      "\n",
      "At iterate   40    f=  3.75354D-01    |proj g|=  2.70857D-04\n",
      "\n",
      "           * * *\n",
      "\n",
      "Tit   = total number of iterations\n",
      "Tnf   = total number of function evaluations\n",
      "Tnint = total number of segments explored during Cauchy searches\n",
      "Skip  = number of BFGS updates skipped\n",
      "Nact  = number of active bounds at final generalized Cauchy point\n",
      "Projg = norm of the final projected gradient\n",
      "F     = final function value\n",
      "\n",
      "           * * *\n",
      "\n",
      "   N    Tit     Tnf  Tnint  Skip  Nact     Projg        F\n",
      "    5     43     63      1     0     0   5.870D-04   3.754D-01\n",
      "  F =  0.37535279443753666     \n",
      "\n",
      "CONVERGENCE: REL_REDUCTION_OF_F_<=_FACTR*EPSMCH             \n",
      "RUNNING THE L-BFGS-B CODE\n",
      "\n",
      "           * * *\n",
      "\n",
      "Machine precision = 2.220D-16\n",
      " N =            6     M =           10\n",
      "\n",
      "At X0         0 variables are exactly at the bounds\n",
      "\n",
      "At iterate    0    f=  4.00002D-01    |proj g|=  2.22280D-02\n",
      "\n",
      "At iterate    5    f=  3.99462D-01    |proj g|=  5.52639D-03\n"
     ]
    },
    {
     "name": "stderr",
     "output_type": "stream",
     "text": [
      " This problem is unconstrained.\n"
     ]
    },
    {
     "name": "stdout",
     "output_type": "stream",
     "text": [
      "\n",
      "At iterate   10    f=  3.97759D-01    |proj g|=  5.18899D-02\n",
      "\n",
      "At iterate   15    f=  3.77456D-01    |proj g|=  4.92728D-02\n",
      "\n",
      "At iterate   20    f=  3.75635D-01    |proj g|=  1.47496D-02\n",
      "\n",
      "At iterate   25    f=  3.75362D-01    |proj g|=  7.03040D-03\n",
      "\n",
      "At iterate   30    f=  3.75351D-01    |proj g|=  3.02397D-04\n",
      "\n",
      "At iterate   35    f=  3.75349D-01    |proj g|=  4.03453D-03\n"
     ]
    },
    {
     "name": "stderr",
     "output_type": "stream",
     "text": [
      "\n",
      " Bad direction in the line search;\n",
      "   refresh the lbfgs memory and restart the iteration.\n"
     ]
    },
    {
     "name": "stdout",
     "output_type": "stream",
     "text": [
      "\n",
      "At iterate   40    f=  3.75343D-01    |proj g|=  5.20789D-05\n",
      "\n",
      "           * * *\n",
      "\n",
      "Tit   = total number of iterations\n",
      "Tnf   = total number of function evaluations\n",
      "Tnint = total number of segments explored during Cauchy searches\n",
      "Skip  = number of BFGS updates skipped\n",
      "Nact  = number of active bounds at final generalized Cauchy point\n",
      "Projg = norm of the final projected gradient\n",
      "F     = final function value\n",
      "\n",
      "           * * *\n",
      "\n",
      "   N    Tit     Tnf  Tnint  Skip  Nact     Projg        F\n",
      "    6     42     81      2     0     0   7.543D-06   3.753D-01\n",
      "  F =  0.37534327009408303     \n",
      "\n",
      "CONVERGENCE: NORM_OF_PROJECTED_GRADIENT_<=_PGTOL            \n",
      "RUNNING THE L-BFGS-B CODE\n",
      "\n",
      "           * * *\n",
      "\n",
      "Machine precision = 2.220D-16\n",
      " N =            5     M =           10\n",
      "\n",
      "At X0         0 variables are exactly at the bounds\n",
      "\n",
      "At iterate    0    f=  2.55309D-01    |proj g|=  3.62125D-01\n",
      "\n",
      "At iterate    5    f=  2.25001D-01    |proj g|=  6.00642D-02\n"
     ]
    },
    {
     "name": "stderr",
     "output_type": "stream",
     "text": [
      " This problem is unconstrained.\n"
     ]
    },
    {
     "name": "stdout",
     "output_type": "stream",
     "text": [
      "\n",
      "At iterate   10    f=  2.10022D-01    |proj g|=  5.68052D-02\n",
      "\n",
      "At iterate   15    f=  2.09809D-01    |proj g|=  7.55558D-05\n",
      "\n",
      "           * * *\n",
      "\n",
      "Tit   = total number of iterations\n",
      "Tnf   = total number of function evaluations\n",
      "Tnint = total number of segments explored during Cauchy searches\n",
      "Skip  = number of BFGS updates skipped\n",
      "Nact  = number of active bounds at final generalized Cauchy point\n",
      "Projg = norm of the final projected gradient\n",
      "F     = final function value\n",
      "\n",
      "           * * *\n",
      "\n",
      "   N    Tit     Tnf  Tnint  Skip  Nact     Projg        F\n",
      "    5     17     21      1     0     0   2.187D-06   2.098D-01\n",
      "  F =  0.20980928650493685     \n",
      "\n",
      "CONVERGENCE: NORM_OF_PROJECTED_GRADIENT_<=_PGTOL            \n",
      "RUNNING THE L-BFGS-B CODE\n",
      "\n",
      "           * * *\n",
      "\n",
      "Machine precision = 2.220D-16\n",
      " N =            6     M =           10\n",
      "\n",
      "At X0         0 variables are exactly at the bounds\n",
      "\n",
      "At iterate    0    f=  3.07395D-01    |proj g|=  3.04765D-01\n",
      "\n",
      "At iterate    5    f=  2.27047D-01    |proj g|=  1.58787D-01\n"
     ]
    },
    {
     "name": "stderr",
     "output_type": "stream",
     "text": [
      "/Users/chinmayerande/opt/anaconda3/lib/python3.9/site-packages/statsmodels/tsa/statespace/sarimax.py:997: UserWarning: Non-stationary starting seasonal autoregressive Using zeros as starting parameters.\n",
      "  warn('Non-stationary starting seasonal autoregressive'\n",
      " This problem is unconstrained.\n"
     ]
    },
    {
     "name": "stdout",
     "output_type": "stream",
     "text": [
      "\n",
      "At iterate   10    f=  2.10885D-01    |proj g|=  1.63148D-02\n",
      "\n",
      "At iterate   15    f=  2.10699D-01    |proj g|=  1.11219D-02\n",
      "\n",
      "At iterate   20    f=  2.10025D-01    |proj g|=  1.72228D-02\n",
      "\n",
      "At iterate   25    f=  2.07350D-01    |proj g|=  3.02821D-02\n",
      "\n",
      "At iterate   30    f=  2.06118D-01    |proj g|=  2.26002D-02\n",
      "\n",
      "At iterate   35    f=  2.05760D-01    |proj g|=  2.82030D-03\n",
      "\n",
      "At iterate   40    f=  2.05586D-01    |proj g|=  1.22404D-02\n",
      "\n",
      "At iterate   45    f=  2.05511D-01    |proj g|=  9.28549D-03\n",
      "\n",
      "At iterate   50    f=  2.05480D-01    |proj g|=  3.69474D-03\n",
      "\n",
      "           * * *\n",
      "\n",
      "Tit   = total number of iterations\n",
      "Tnf   = total number of function evaluations\n",
      "Tnint = total number of segments explored during Cauchy searches\n",
      "Skip  = number of BFGS updates skipped\n",
      "Nact  = number of active bounds at final generalized Cauchy point\n",
      "Projg = norm of the final projected gradient\n",
      "F     = final function value\n",
      "\n",
      "           * * *\n",
      "\n",
      "   N    Tit     Tnf  Tnint  Skip  Nact     Projg        F\n",
      "    6     50     58      1     0     0   3.695D-03   2.055D-01\n",
      "  F =  0.20548028449000727     \n",
      "\n",
      "STOP: TOTAL NO. of ITERATIONS REACHED LIMIT                 \n",
      "RUNNING THE L-BFGS-B CODE\n",
      "\n",
      "           * * *\n",
      "\n",
      "Machine precision = 2.220D-16\n",
      " N =            7     M =           10\n",
      "\n",
      "At X0         0 variables are exactly at the bounds\n",
      "\n",
      "At iterate    0    f=  3.07395D-01    |proj g|=  3.04765D-01\n"
     ]
    },
    {
     "name": "stderr",
     "output_type": "stream",
     "text": [
      "/Users/chinmayerande/opt/anaconda3/lib/python3.9/site-packages/statsmodels/base/model.py:604: ConvergenceWarning: Maximum Likelihood optimization failed to converge. Check mle_retvals\n",
      "  warnings.warn(\"Maximum Likelihood optimization failed to \"\n",
      " This problem is unconstrained.\n"
     ]
    },
    {
     "name": "stdout",
     "output_type": "stream",
     "text": [
      "\n",
      "At iterate    5    f=  2.27257D-01    |proj g|=  1.57717D-01\n",
      "\n",
      "At iterate   10    f=  2.10075D-01    |proj g|=  2.35898D-02\n",
      "\n",
      "At iterate   15    f=  2.07647D-01    |proj g|=  5.93818D-02\n",
      "\n",
      "At iterate   20    f=  2.03603D-01    |proj g|=  1.42982D-02\n",
      "\n",
      "At iterate   25    f=  2.02868D-01    |proj g|=  1.32012D-02\n",
      "\n",
      "At iterate   30    f=  2.02719D-01    |proj g|=  5.22093D-03\n",
      "\n",
      "At iterate   35    f=  2.02643D-01    |proj g|=  7.89611D-03\n",
      "\n",
      "At iterate   40    f=  2.02597D-01    |proj g|=  5.23537D-03\n",
      "\n",
      "At iterate   45    f=  2.02570D-01    |proj g|=  2.43657D-03\n",
      "\n",
      "At iterate   50    f=  2.02559D-01    |proj g|=  4.41447D-03\n",
      "\n",
      "           * * *\n",
      "\n",
      "Tit   = total number of iterations\n",
      "Tnf   = total number of function evaluations\n",
      "Tnint = total number of segments explored during Cauchy searches\n",
      "Skip  = number of BFGS updates skipped\n",
      "Nact  = number of active bounds at final generalized Cauchy point\n",
      "Projg = norm of the final projected gradient\n",
      "F     = final function value\n",
      "\n",
      "           * * *\n",
      "\n",
      "   N    Tit     Tnf  Tnint  Skip  Nact     Projg        F\n",
      "    7     50     59      1     0     0   4.414D-03   2.026D-01\n",
      "  F =  0.20255949105421248     \n",
      "\n",
      "STOP: TOTAL NO. of ITERATIONS REACHED LIMIT                 \n",
      "RUNNING THE L-BFGS-B CODE\n",
      "\n",
      "           * * *\n",
      "\n",
      "Machine precision = 2.220D-16\n",
      " N =            5     M =           10\n",
      "\n",
      "At X0         0 variables are exactly at the bounds\n",
      "\n",
      "At iterate    0    f=  3.46490D-01    |proj g|=  2.21357D-01\n"
     ]
    },
    {
     "name": "stderr",
     "output_type": "stream",
     "text": [
      "/Users/chinmayerande/opt/anaconda3/lib/python3.9/site-packages/statsmodels/base/model.py:604: ConvergenceWarning: Maximum Likelihood optimization failed to converge. Check mle_retvals\n",
      "  warnings.warn(\"Maximum Likelihood optimization failed to \"\n",
      " This problem is unconstrained.\n"
     ]
    },
    {
     "name": "stdout",
     "output_type": "stream",
     "text": [
      "\n",
      "At iterate    5    f=  2.52909D-01    |proj g|=  3.61110D-01\n",
      "\n",
      "At iterate   10    f=  1.98669D-01    |proj g|=  9.79464D-02\n",
      "\n",
      "At iterate   15    f=  1.89699D-01    |proj g|=  5.90449D-03\n",
      "\n",
      "At iterate   20    f=  1.89336D-01    |proj g|=  7.76859D-03\n",
      "\n",
      "At iterate   25    f=  1.89024D-01    |proj g|=  1.92096D-03\n",
      "\n",
      "At iterate   30    f=  1.89009D-01    |proj g|=  4.21817D-03\n",
      "\n",
      "At iterate   35    f=  1.88989D-01    |proj g|=  2.45791D-03\n",
      "\n",
      "At iterate   40    f=  1.88988D-01    |proj g|=  4.74891D-05\n",
      "\n",
      "           * * *\n",
      "\n",
      "Tit   = total number of iterations\n",
      "Tnf   = total number of function evaluations\n",
      "Tnint = total number of segments explored during Cauchy searches\n",
      "Skip  = number of BFGS updates skipped\n",
      "Nact  = number of active bounds at final generalized Cauchy point\n",
      "Projg = norm of the final projected gradient\n",
      "F     = final function value\n",
      "\n",
      "           * * *\n",
      "\n",
      "   N    Tit     Tnf  Tnint  Skip  Nact     Projg        F\n",
      "    5     41     54      1     0     0   1.077D-05   1.890D-01\n",
      "  F =  0.18898819568961944     \n",
      "\n",
      "CONVERGENCE: REL_REDUCTION_OF_F_<=_FACTR*EPSMCH             \n",
      "RUNNING THE L-BFGS-B CODE\n",
      "\n",
      "           * * *\n",
      "\n",
      "Machine precision = 2.220D-16\n",
      " N =            6     M =           10\n",
      "\n",
      "At X0         0 variables are exactly at the bounds\n",
      "\n",
      "At iterate    0    f=  3.34913D-01    |proj g|=  1.78819D-01\n"
     ]
    },
    {
     "name": "stderr",
     "output_type": "stream",
     "text": [
      " This problem is unconstrained.\n"
     ]
    },
    {
     "name": "stdout",
     "output_type": "stream",
     "text": [
      "\n",
      "At iterate    5    f=  2.63647D-01    |proj g|=  7.17854D-02\n",
      "\n",
      "At iterate   10    f=  1.98771D-01    |proj g|=  4.29338D-02\n",
      "\n",
      "At iterate   15    f=  1.90030D-01    |proj g|=  7.67390D-03\n",
      "\n",
      "At iterate   20    f=  1.89335D-01    |proj g|=  4.12760D-02\n",
      "\n",
      "At iterate   25    f=  1.89054D-01    |proj g|=  1.72308D-03\n",
      "\n",
      "At iterate   30    f=  1.89011D-01    |proj g|=  2.60737D-03\n",
      "\n",
      "At iterate   35    f=  1.88999D-01    |proj g|=  8.72295D-04\n",
      "\n",
      "At iterate   40    f=  1.88997D-01    |proj g|=  2.03952D-03\n",
      "\n",
      "At iterate   45    f=  1.88997D-01    |proj g|=  9.34595D-04\n",
      "\n",
      "           * * *\n",
      "\n",
      "Tit   = total number of iterations\n",
      "Tnf   = total number of function evaluations\n",
      "Tnint = total number of segments explored during Cauchy searches\n",
      "Skip  = number of BFGS updates skipped\n",
      "Nact  = number of active bounds at final generalized Cauchy point\n",
      "Projg = norm of the final projected gradient\n",
      "F     = final function value\n",
      "\n",
      "           * * *\n",
      "\n",
      "   N    Tit     Tnf  Tnint  Skip  Nact     Projg        F\n",
      "    6     45     64      1     0     0   9.346D-04   1.890D-01\n",
      "  F =  0.18899722136214214     \n",
      "\n",
      "CONVERGENCE: REL_REDUCTION_OF_F_<=_FACTR*EPSMCH             \n",
      "RUNNING THE L-BFGS-B CODE\n",
      "\n",
      "           * * *\n",
      "\n",
      "Machine precision = 2.220D-16\n",
      " N =            7     M =           10\n",
      "\n",
      "At X0         0 variables are exactly at the bounds\n",
      "\n",
      "At iterate    0    f=  3.34913D-01    |proj g|=  1.78819D-01\n",
      "\n",
      "At iterate    5    f=  2.61806D-01    |proj g|=  6.97328D-02\n",
      "\n",
      "At iterate   10    f=  2.01635D-01    |proj g|=  1.98565D-02\n"
     ]
    },
    {
     "name": "stderr",
     "output_type": "stream",
     "text": [
      " This problem is unconstrained.\n"
     ]
    },
    {
     "name": "stdout",
     "output_type": "stream",
     "text": [
      "\n",
      "At iterate   15    f=  1.90758D-01    |proj g|=  5.13686D-02\n",
      "\n",
      "At iterate   20    f=  1.89283D-01    |proj g|=  2.11210D-02\n",
      "\n",
      "At iterate   25    f=  1.89119D-01    |proj g|=  1.77983D-02\n",
      "\n",
      "At iterate   30    f=  1.89015D-01    |proj g|=  5.65002D-03\n",
      "\n",
      "At iterate   35    f=  1.88991D-01    |proj g|=  2.05754D-03\n",
      "\n",
      "At iterate   40    f=  1.88988D-01    |proj g|=  1.47474D-03\n"
     ]
    },
    {
     "name": "stderr",
     "output_type": "stream",
     "text": [
      "\n",
      " Bad direction in the line search;\n",
      "   refresh the lbfgs memory and restart the iteration.\n"
     ]
    },
    {
     "name": "stdout",
     "output_type": "stream",
     "text": [
      "\n",
      "At iterate   45    f=  1.88988D-01    |proj g|=  1.78949D-04\n",
      "\n",
      "           * * *\n",
      "\n",
      "Tit   = total number of iterations\n",
      "Tnf   = total number of function evaluations\n",
      "Tnint = total number of segments explored during Cauchy searches\n",
      "Skip  = number of BFGS updates skipped\n",
      "Nact  = number of active bounds at final generalized Cauchy point\n",
      "Projg = norm of the final projected gradient\n",
      "F     = final function value\n",
      "\n",
      "           * * *\n",
      "\n",
      "   N    Tit     Tnf  Tnint  Skip  Nact     Projg        F\n",
      "    7     46     83      2     0     0   2.631D-05   1.890D-01\n",
      "  F =  0.18898837029518883     \n",
      "\n",
      "CONVERGENCE: REL_REDUCTION_OF_F_<=_FACTR*EPSMCH             \n",
      "RUNNING THE L-BFGS-B CODE\n",
      "\n",
      "           * * *\n",
      "\n",
      "Machine precision = 2.220D-16\n",
      " N =            5     M =           10\n",
      "\n",
      "At X0         0 variables are exactly at the bounds\n",
      "\n",
      "At iterate    0    f=  4.00002D-01    |proj g|=  2.22280D-02\n"
     ]
    },
    {
     "name": "stderr",
     "output_type": "stream",
     "text": [
      " This problem is unconstrained.\n"
     ]
    },
    {
     "name": "stdout",
     "output_type": "stream",
     "text": [
      "\n",
      "At iterate    5    f=  3.99512D-01    |proj g|=  6.89033D-03\n",
      "\n",
      "At iterate   10    f=  3.98515D-01    |proj g|=  3.53011D-02\n",
      "\n",
      "At iterate   15    f=  3.81488D-01    |proj g|=  8.65890D-02\n",
      "\n",
      "At iterate   20    f=  3.75861D-01    |proj g|=  1.27777D-02\n",
      "\n",
      "At iterate   25    f=  3.75383D-01    |proj g|=  5.09292D-04\n",
      "\n",
      "At iterate   30    f=  3.75349D-01    |proj g|=  1.39694D-04\n",
      "\n",
      "At iterate   35    f=  3.75348D-01    |proj g|=  6.18427D-04\n",
      "\n",
      "           * * *\n",
      "\n",
      "Tit   = total number of iterations\n",
      "Tnf   = total number of function evaluations\n",
      "Tnint = total number of segments explored during Cauchy searches\n",
      "Skip  = number of BFGS updates skipped\n",
      "Nact  = number of active bounds at final generalized Cauchy point\n",
      "Projg = norm of the final projected gradient\n",
      "F     = final function value\n",
      "\n",
      "           * * *\n",
      "\n",
      "   N    Tit     Tnf  Tnint  Skip  Nact     Projg        F\n",
      "    5     35     54      1     0     0   6.184D-04   3.753D-01\n",
      "  F =  0.37534750544118423     \n",
      "\n",
      "CONVERGENCE: REL_REDUCTION_OF_F_<=_FACTR*EPSMCH             \n",
      "RUNNING THE L-BFGS-B CODE\n",
      "\n",
      "           * * *\n",
      "\n",
      "Machine precision = 2.220D-16\n",
      " N =            6     M =           10\n",
      "\n",
      "At X0         0 variables are exactly at the bounds\n",
      "\n",
      "At iterate    0    f=  4.00002D-01    |proj g|=  2.22280D-02\n"
     ]
    },
    {
     "name": "stderr",
     "output_type": "stream",
     "text": [
      " This problem is unconstrained.\n"
     ]
    },
    {
     "name": "stdout",
     "output_type": "stream",
     "text": [
      "\n",
      "At iterate    5    f=  3.99463D-01    |proj g|=  5.55195D-03\n",
      "\n",
      "At iterate   10    f=  3.97925D-01    |proj g|=  5.08078D-02\n",
      "\n",
      "At iterate   15    f=  3.78116D-01    |proj g|=  1.03147D-02\n",
      "\n",
      "At iterate   20    f=  3.75583D-01    |proj g|=  2.33969D-03\n",
      "\n",
      "At iterate   25    f=  3.75360D-01    |proj g|=  1.78907D-03\n",
      "\n",
      "At iterate   30    f=  3.75346D-01    |proj g|=  3.47009D-04\n",
      "\n",
      "           * * *\n",
      "\n",
      "Tit   = total number of iterations\n",
      "Tnf   = total number of function evaluations\n",
      "Tnint = total number of segments explored during Cauchy searches\n",
      "Skip  = number of BFGS updates skipped\n",
      "Nact  = number of active bounds at final generalized Cauchy point\n",
      "Projg = norm of the final projected gradient\n",
      "F     = final function value\n",
      "\n",
      "           * * *\n",
      "\n",
      "   N    Tit     Tnf  Tnint  Skip  Nact     Projg        F\n",
      "    6     32     50      1     0     0   6.171D-06   3.753D-01\n",
      "  F =  0.37534606978095508     \n",
      "\n",
      "CONVERGENCE: NORM_OF_PROJECTED_GRADIENT_<=_PGTOL            \n",
      "RUNNING THE L-BFGS-B CODE\n",
      "\n",
      "           * * *\n",
      "\n",
      "Machine precision = 2.220D-16\n",
      " N =            7     M =           10\n",
      "\n",
      "At X0         0 variables are exactly at the bounds\n",
      "\n",
      "At iterate    0    f=  4.00002D-01    |proj g|=  2.22280D-02\n"
     ]
    },
    {
     "name": "stderr",
     "output_type": "stream",
     "text": [
      " This problem is unconstrained.\n"
     ]
    },
    {
     "name": "stdout",
     "output_type": "stream",
     "text": [
      "\n",
      "At iterate    5    f=  3.99461D-01    |proj g|=  5.56712D-03\n",
      "\n",
      "At iterate   10    f=  3.97944D-01    |proj g|=  4.73948D-02\n",
      "\n",
      "At iterate   15    f=  3.78302D-01    |proj g|=  6.89586D-03\n",
      "\n",
      "At iterate   20    f=  3.75552D-01    |proj g|=  3.50313D-03\n",
      "\n",
      "At iterate   25    f=  3.75368D-01    |proj g|=  1.20904D-03\n",
      "\n",
      "At iterate   30    f=  3.75349D-01    |proj g|=  1.51463D-05\n",
      "\n",
      "At iterate   35    f=  3.75348D-01    |proj g|=  4.77307D-05\n",
      "\n",
      "At iterate   40    f=  3.75348D-01    |proj g|=  2.71486D-05\n",
      "\n",
      "           * * *\n",
      "\n",
      "Tit   = total number of iterations\n",
      "Tnf   = total number of function evaluations\n",
      "Tnint = total number of segments explored during Cauchy searches\n",
      "Skip  = number of BFGS updates skipped\n",
      "Nact  = number of active bounds at final generalized Cauchy point\n",
      "Projg = norm of the final projected gradient\n",
      "F     = final function value\n",
      "\n",
      "           * * *\n",
      "\n",
      "   N    Tit     Tnf  Tnint  Skip  Nact     Projg        F\n",
      "    7     40     80      2     0     0   2.715D-05   3.753D-01\n",
      "  F =  0.37534786170692563     \n",
      "\n",
      "CONVERGENCE: REL_REDUCTION_OF_F_<=_FACTR*EPSMCH             \n"
     ]
    },
    {
     "name": "stderr",
     "output_type": "stream",
     "text": [
      "\n",
      " Bad direction in the line search;\n",
      "   refresh the lbfgs memory and restart the iteration.\n"
     ]
    }
   ],
   "source": [
    "dictionary={}\n",
    "for i in seasonal:\n",
    "    try:\n",
    "        model=SARIMAX(train_boxcox,order=(1,1,1),seasonal_order=i)\n",
    "        model_fit=model.fit()\n",
    "        dictionary.update({i:[model_fit.aic]})\n",
    "    except:\n",
    "        continue\n",
    "        "
   ]
  },
  {
   "cell_type": "code",
   "execution_count": 95,
   "id": "457b1d00",
   "metadata": {
    "id": "457b1d00"
   },
   "outputs": [],
   "source": [
    "sorted_dictionary=sorted(dictionary.items(),key=lambda x:x[1])"
   ]
  },
  {
   "cell_type": "code",
   "execution_count": 96,
   "id": "5f8ba4f2",
   "metadata": {
    "colab": {
     "base_uri": "https://localhost:8080/"
    },
    "id": "5f8ba4f2",
    "outputId": "58e0b389-bc6b-4f32-a3f1-e2785488ada8"
   },
   "outputs": [
    {
     "data": {
      "text/plain": [
       "[((0, 1, 1, 12), [24.10231667610727]),\n",
       " ((1, 1, 0, 12), [24.916302124261932]),\n",
       " ((1, 0, 0, 12), [25.836574094850757]),\n",
       " ((2, 1, 0, 12), [25.87500843792803]),\n",
       " ((0, 1, 2, 12), [25.97874573887966]),\n",
       " ((1, 1, 1, 12), [25.99023918169527]),\n",
       " ((0, 0, 1, 12), [26.313850118137047]),\n",
       " ((1, 0, 1, 12), [27.399656533975623]),\n",
       " ((0, 1, 0, 12), [27.589688587608883]),\n",
       " ((2, 0, 0, 12), [27.623980066414696]),\n",
       " ((2, 1, 1, 12), [27.87576659441994]),\n",
       " ((1, 1, 2, 12), [27.89247794384327]),\n",
       " ((0, 0, 2, 12), [28.11599246993695]),\n",
       " ((1, 0, 2, 12), [29.207623331545022]),\n",
       " ((2, 0, 1, 12), [29.26034389716061]),\n",
       " ((0, 0, 0, 12), [29.570040656348755]),\n",
       " ((2, 1, 2, 12), [29.875023104795865]),\n",
       " ((2, 0, 2, 12), [31.014997248553847]),\n",
       " ((1, 2, 0, 12), [39.52924606396856]),\n",
       " ((0, 2, 1, 12), [39.56648949532823]),\n",
       " ((0, 2, 0, 12), [39.57280640360268]),\n",
       " ((0, 2, 2, 12), [41.52887603296016]),\n",
       " ((2, 2, 0, 12), [41.52919045705947]),\n",
       " ((1, 2, 1, 12), [41.52963473275308]),\n",
       " ((1, 2, 2, 12), [43.52883468790297]),\n",
       " ((2, 2, 1, 12), [43.52906986160023]),\n",
       " ((2, 2, 2, 12), [45.529220383381755])]"
      ]
     },
     "execution_count": 96,
     "metadata": {},
     "output_type": "execute_result"
    }
   ],
   "source": [
    "sorted_dictionary\n",
    "### 0,1,1,12 has the least AIC, so is a better model for us to use"
   ]
  },
  {
   "cell_type": "code",
   "execution_count": 97,
   "id": "8582cec1",
   "metadata": {
    "colab": {
     "base_uri": "https://localhost:8080/"
    },
    "id": "8582cec1",
    "outputId": "6acceaf1-df0e-40c3-d9a7-4855ad6efde1"
   },
   "outputs": [
    {
     "name": "stderr",
     "output_type": "stream",
     "text": [
      " This problem is unconstrained.\n"
     ]
    },
    {
     "name": "stdout",
     "output_type": "stream",
     "text": [
      "RUNNING THE L-BFGS-B CODE\n",
      "\n",
      "           * * *\n",
      "\n",
      "Machine precision = 2.220D-16\n",
      " N =            4     M =           10\n",
      "\n",
      "At X0         0 variables are exactly at the bounds\n",
      "\n",
      "At iterate    0    f=  3.34913D-01    |proj g|=  1.78819D-01\n",
      "\n",
      "At iterate    5    f=  2.61956D-01    |proj g|=  1.08100D-01\n",
      "\n",
      "At iterate   10    f=  1.98975D-01    |proj g|=  1.82161D-01\n",
      "\n",
      "At iterate   15    f=  1.92219D-01    |proj g|=  1.01798D-02\n",
      "\n",
      "At iterate   20    f=  1.91736D-01    |proj g|=  3.55609D-02\n",
      "\n",
      "At iterate   25    f=  1.91694D-01    |proj g|=  1.79368D-03\n",
      "\n",
      "           * * *\n",
      "\n",
      "Tit   = total number of iterations\n",
      "Tnf   = total number of function evaluations\n",
      "Tnint = total number of segments explored during Cauchy searches\n",
      "Skip  = number of BFGS updates skipped\n",
      "Nact  = number of active bounds at final generalized Cauchy point\n",
      "Projg = norm of the final projected gradient\n",
      "F     = final function value\n",
      "\n",
      "           * * *\n",
      "\n",
      "   N    Tit     Tnf  Tnint  Skip  Nact     Projg        F\n",
      "    4     28     70      2     0     0   3.492D-05   1.917D-01\n",
      "  F =  0.19169424614413419     \n",
      "\n",
      "CONVERGENCE: REL_REDUCTION_OF_F_<=_FACTR*EPSMCH             \n"
     ]
    },
    {
     "name": "stderr",
     "output_type": "stream",
     "text": [
      "\n",
      " Bad direction in the line search;\n",
      "   refresh the lbfgs memory and restart the iteration.\n",
      "\n",
      " Warning:  more than 10 function and gradient\n",
      "   evaluations in the last line search.  Termination\n",
      "   may possibly be caused by a bad search direction.\n"
     ]
    },
    {
     "data": {
      "text/plain": [
       "ar.L1      -0.038528\n",
       "ma.L1      -0.996351\n",
       "ma.S.L12   -0.993608\n",
       "sigma2      0.054033\n",
       "dtype: float64"
      ]
     },
     "execution_count": 97,
     "metadata": {},
     "output_type": "execute_result"
    }
   ],
   "source": [
    "model=SARIMAX(train_boxcox,order=(1,1,1),seasonal_order=(0,1,1,12))\n",
    "model_fit=model.fit()\n",
    "model_fit.params"
   ]
  },
  {
   "cell_type": "code",
   "execution_count": 98,
   "id": "5a843498",
   "metadata": {
    "id": "5a843498"
   },
   "outputs": [],
   "source": [
    "y_hat_sarima=data_boxcox.copy()\n",
    "y_hat_sarima[\"sarima_boxcox\"]=model_fit.predict(data_boxcox_diff.index.min(),data_boxcox_diff.index.max())\n",
    "y_hat_sarima[\"sarima_forecast\"]=np.exp(y_hat_sarima[\"sarima_boxcox\"])"
   ]
  },
  {
   "cell_type": "code",
   "execution_count": 99,
   "id": "7491026e",
   "metadata": {
    "colab": {
     "base_uri": "https://localhost:8080/",
     "height": 281
    },
    "id": "7491026e",
    "outputId": "4a6d8555-846e-44d5-95c2-fa0b816c29e6"
   },
   "outputs": [
    {
     "data": {
      "image/png": "[encoded data removed]",
      "text/plain": [
       "<Figure size 864x288 with 1 Axes>"
      ]
     },
     "metadata": {
      "needs_background": "light"
     },
     "output_type": "display_data"
    }
   ],
   "source": [
    "plt.figure(figsize=[12,4])\n",
    "plt.plot(train_new[\"Sales\"],label=\"Train\")\n",
    "plt.plot(test_new[\"Sales\"],label=\"Test\")\n",
    "plt.plot(y_hat_sarima[\"sarima_forecast\"][test_new.index.min():],label=\"Sarima Forecast\")\n",
    "plt.title(\"Sarima Forecasting\")\n",
    "plt.legend()\n",
    "plt.show()"
   ]
  },
  {
   "cell_type": "code",
   "execution_count": 100,
   "id": "456a0891",
   "metadata": {
    "colab": {
     "base_uri": "https://localhost:8080/",
     "height": 81
    },
    "id": "456a0891",
    "outputId": "d4cec3f7-ff1e-4f80-c661-c5bae20c04f4"
   },
   "outputs": [
    {
     "data": {
      "text/html": [
       "<div>\n",
       "<style scoped>\n",
       "    .dataframe tbody tr th:only-of-type {\n",
       "        vertical-align: middle;\n",
       "    }\n",
       "\n",
       "    .dataframe tbody tr th {\n",
       "        vertical-align: top;\n",
       "    }\n",
       "\n",
       "    .dataframe thead th {\n",
       "        text-align: right;\n",
       "    }\n",
       "</style>\n",
       "<table border=\"1\" class=\"dataframe\">\n",
       "  <thead>\n",
       "    <tr style=\"text-align: right;\">\n",
       "      <th></th>\n",
       "      <th>Method</th>\n",
       "      <th>MAPE</th>\n",
       "    </tr>\n",
       "  </thead>\n",
       "  <tbody>\n",
       "    <tr>\n",
       "      <th>0</th>\n",
       "      <td>SARIMA Method</td>\n",
       "      <td>11.12</td>\n",
       "    </tr>\n",
       "  </tbody>\n",
       "</table>\n",
       "</div>"
      ],
      "text/plain": [
       "          Method   MAPE\n",
       "0  SARIMA Method  11.12"
      ]
     },
     "execution_count": 100,
     "metadata": {},
     "output_type": "execute_result"
    }
   ],
   "source": [
    "MAPE9=np.round((abs(test_new[\"Sales\"]-y_hat_sarima[\"sarima_forecast\"][test_new.index.min():])/test_new[\"Sales\"]*100).mean(),2)\n",
    "temp_result=pd.DataFrame({\"Method\":[\"SARIMA Method\"],\"MAPE\":[MAPE9]})\n",
    "temp_result"
   ]
  },
  {
   "cell_type": "code",
   "execution_count": 101,
   "id": "820c64e4",
   "metadata": {
    "id": "820c64e4"
   },
   "outputs": [],
   "source": [
    "result=pd.concat([result,temp_result],axis=0,ignore_index=True)"
   ]
  },
  {
   "cell_type": "code",
   "execution_count": 102,
   "id": "f9b2ab13",
   "metadata": {
    "colab": {
     "base_uri": "https://localhost:8080/",
     "height": 332
    },
    "id": "f9b2ab13",
    "outputId": "480701d6-b213-4937-f23c-bd05cd10a083"
   },
   "outputs": [
    {
     "data": {
      "text/html": [
       "<div>\n",
       "<style scoped>\n",
       "    .dataframe tbody tr th:only-of-type {\n",
       "        vertical-align: middle;\n",
       "    }\n",
       "\n",
       "    .dataframe tbody tr th {\n",
       "        vertical-align: top;\n",
       "    }\n",
       "\n",
       "    .dataframe thead th {\n",
       "        text-align: right;\n",
       "    }\n",
       "</style>\n",
       "<table border=\"1\" class=\"dataframe\">\n",
       "  <thead>\n",
       "    <tr style=\"text-align: right;\">\n",
       "      <th></th>\n",
       "      <th>Method</th>\n",
       "      <th>MAPE</th>\n",
       "    </tr>\n",
       "  </thead>\n",
       "  <tbody>\n",
       "    <tr>\n",
       "      <th>0</th>\n",
       "      <td>Simple Exponential Smoothing</td>\n",
       "      <td>15.99</td>\n",
       "    </tr>\n",
       "    <tr>\n",
       "      <th>1</th>\n",
       "      <td>Holt's Exponential Smoothing</td>\n",
       "      <td>14.64</td>\n",
       "    </tr>\n",
       "    <tr>\n",
       "      <th>2</th>\n",
       "      <td>Holt Winter's Additive Exponential Smoothing</td>\n",
       "      <td>13.02</td>\n",
       "    </tr>\n",
       "    <tr>\n",
       "      <th>3</th>\n",
       "      <td>Holt Winter's Multiplicative Exponential Smoot...</td>\n",
       "      <td>17.17</td>\n",
       "    </tr>\n",
       "    <tr>\n",
       "      <th>4</th>\n",
       "      <td>AR Method</td>\n",
       "      <td>13.55</td>\n",
       "    </tr>\n",
       "    <tr>\n",
       "      <th>5</th>\n",
       "      <td>MA Method</td>\n",
       "      <td>33.95</td>\n",
       "    </tr>\n",
       "    <tr>\n",
       "      <th>6</th>\n",
       "      <td>ARMA Method</td>\n",
       "      <td>32.41</td>\n",
       "    </tr>\n",
       "    <tr>\n",
       "      <th>7</th>\n",
       "      <td>ARIMA Method</td>\n",
       "      <td>16.61</td>\n",
       "    </tr>\n",
       "    <tr>\n",
       "      <th>8</th>\n",
       "      <td>SARIMA Method</td>\n",
       "      <td>11.12</td>\n",
       "    </tr>\n",
       "  </tbody>\n",
       "</table>\n",
       "</div>"
      ],
      "text/plain": [
       "                                              Method   MAPE\n",
       "0                       Simple Exponential Smoothing  15.99\n",
       "1                       Holt's Exponential Smoothing  14.64\n",
       "2       Holt Winter's Additive Exponential Smoothing  13.02\n",
       "3  Holt Winter's Multiplicative Exponential Smoot...  17.17\n",
       "4                                          AR Method  13.55\n",
       "5                                          MA Method  33.95\n",
       "6                                        ARMA Method  32.41\n",
       "7                                       ARIMA Method  16.61\n",
       "8                                      SARIMA Method  11.12"
      ]
     },
     "execution_count": 102,
     "metadata": {},
     "output_type": "execute_result"
    }
   ],
   "source": [
    "result"
   ]
  },
  {
   "cell_type": "code",
   "execution_count": null,
   "id": "Gx98THr24I8_",
   "metadata": {
    "id": "Gx98THr24I8_"
   },
   "outputs": [],
   "source": []
  }
 ],
 "metadata": {
  "colab": {
   "provenance": []
  },
  "kernelspec": {
   "display_name": "Python 3 (ipykernel)",
   "language": "python",
   "name": "python3"
  },
  "language_info": {
   "codemirror_mode": {
    "name": "ipython",
    "version": 3
   },
   "file_extension": ".py",
   "mimetype": "text/x-python",
   "name": "python",
   "nbconvert_exporter": "python",
   "pygments_lexer": "ipython3",
   "version": "3.9.7"
  }
 },
 "nbformat": 4,
 "nbformat_minor": 5
}
